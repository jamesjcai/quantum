{
 "cells": [
  {
   "cell_type": "markdown",
   "metadata": {},
   "source": [
    "# 1. Code for Classification with the QNN - part 1"
   ]
  },
  {
   "cell_type": "markdown",
   "metadata": {},
   "source": [
    "In this version, the training data is always created in such a way that quantum states on the upper half of the Bloch sphere (z>0) receive the label 0, otherwise the assigned label is 1. Note that the QNN does not know why states carry their label. For other examples see version 2."
   ]
  },
  {
   "cell_type": "markdown",
   "metadata": {},
   "source": [
    "## 1.1 Package-imports, universal definitions and remarks"
   ]
  },
  {
   "cell_type": "markdown",
   "metadata": {},
   "source": [
    "Import the relevant packages:"
   ]
  },
  {
   "cell_type": "code",
   "execution_count": 1,
   "metadata": {},
   "outputs": [],
   "source": [
    "#math related packages\n",
    "import numpy as np\n",
    "import scipy as sc\n",
    "import qutip as qt\n",
    "#further packages\n",
    "from time import time\n",
    "from random import sample\n",
    "from random import choice\n",
    "import matplotlib.pyplot as plt\n",
    "import csv"
   ]
  },
  {
   "cell_type": "markdown",
   "metadata": {},
   "source": [
    "Declaration of qubit kets and density matrices:"
   ]
  },
  {
   "cell_type": "code",
   "execution_count": 2,
   "metadata": {},
   "outputs": [],
   "source": [
    "#ket states\n",
    "qubit0 = qt.basis(2,0)\n",
    "qubit1 = qt.basis(2,1)\n",
    "#density matrices\n",
    "qubit0mat = qubit0 * qubit0.dag()\n",
    "qubit1mat = qubit1 * qubit1.dag()"
   ]
  },
  {
   "cell_type": "markdown",
   "metadata": {},
   "source": [
    "Declaring functions for Dirac notation:\n",
    "\n",
    "$$\\newcommand{\\ket}[1]{\\left|{#1}\\right\\rangle}$$\n",
    "$$\\newcommand{\\bra}[1]{\\left\\langle{#1}\\right|}$$"
   ]
  },
  {
   "cell_type": "markdown",
   "metadata": {},
   "source": [
    "### Data conventions\n",
    "\n",
    "The parameter QNN-Architecture $\\text{qnnArch}$ describes the structure of a quantum neural network. It is expected to be a 1-dimensional list of natural numbers that which refer to the number of perceptrons in the corresponding layer. E.g. a 2-3-2 network would be given by $\\text{qnnArch = [2, 3, 2]}$\n",
    "\n",
    "\n",
    "Any parameter $\\text{unitaries}$ is expected to be a 2-dimensional list of the networks perceptron unitaries (qutip.Qobj) given in a tensored state like\n",
    "\n",
    "$$\\text{unitaries}  = \\big[ [\\, ],[U_1^1, \\dots, U_{m_1}^1], \\dots, [U_1^l, \\dots, U_{m_l}^l], \\dots, [U_1^{out}, \\dots, U_{m_{out}}^{out}]\\big]$$\n",
    "\n",
    "$$\\text{unitaries[l][j]} = U_{j+1}^l$$\n",
    "\n",
    "(The latter formula assumes that zero-indexing is not used for the perceptron unitaries, as is indicated in the former formula)\n",
    "\n",
    "\n",
    "Any parameter $\\text{trainingData}$ is expected to be a 2-dimensional list, where every inner list has exactly two elements like\n",
    "\n",
    "$$trainingData = \\big[ [\\text{state}_1,\\, \\text{qubit0/1}], \\dots , [\\text{state}_N,\\, \\text{qubit0/1}] \\big]$$\n",
    "\n",
    "where $\\text{unitary}$ is the targeted network unitary."
   ]
  },
  {
   "cell_type": "markdown",
   "metadata": {},
   "source": [
    "## 1.2 Helper functions for the QNN-Code"
   ]
  },
  {
   "cell_type": "markdown",
   "metadata": {},
   "source": [
    "### Partial Trace\n",
    "\n",
    "The $\\text{partialTrace}$ functions assume to be given a quantum object (qutip.Qobj) $\\text{obj}$ that is the tensor product of m factors $\\{0, 1, \\dots, m-1\\}$. The functions then calculate and return the partial trace as follows:\n",
    "\n",
    "$\\text{partialTraceRem}$ traces out the factors $$\\text{rem} \\subsetneq \\{0, \\dots, m-1\\}$$\n",
    "\n",
    "$\\text{partialTraceKeep}$ traces out the factors $$\\big( \\{0, \\dots, m-1\\} \\setminus \\text{keep}\\big) \\subsetneq \\{0, \\dots, m-1\\}$$\n",
    "\n",
    "No duplicates in $\\text{rem}$ allowed. No values $\\geq m$ in $\\text{rem}$ or $\\text{keep}$ allowed."
   ]
  },
  {
   "cell_type": "code",
   "execution_count": 3,
   "metadata": {},
   "outputs": [],
   "source": [
    "def partialTraceRem(obj, rem):\n",
    "    #prepare keep list\n",
    "    rem.sort(reverse=True)\n",
    "    keep = list(range(len(obj.dims[0])))\n",
    "    for x in rem:\n",
    "        keep.pop(x)\n",
    "    #return partial trace:\n",
    "    res = obj.ptrace(keep)\n",
    "    return res\n",
    "\n",
    "def partialTraceKeep(obj, keep):\n",
    "    #return partial trace:\n",
    "    return obj.ptrace(keep)"
   ]
  },
  {
   "cell_type": "markdown",
   "metadata": {},
   "source": [
    "### Basis swap\n",
    "\n",
    "$\\text{swappedOp}$ assumes to be given a quantum object (qutip.Qobj) $\\text{obj}$ that is the tensor product of $m$ factors. For\n",
    "\n",
    "$$\\text{obj} = A_0 \\otimes \\dots \\otimes A_i \\otimes \\dots \\otimes A_j \\otimes \\dots A_{m-1}$$\n",
    "\n",
    "the function returns\n",
    "\n",
    "$$A_0 \\otimes \\dots \\otimes A_j \\otimes \\dots \\otimes A_i \\otimes \\dots A_{m-1}$$\n",
    "\n",
    "where $i, j \\in \\{1, \\dots, m \\}$."
   ]
  },
  {
   "cell_type": "code",
   "execution_count": 4,
   "metadata": {},
   "outputs": [],
   "source": [
    "def swappedOp(obj, i, j):\n",
    "    if i==j: return obj\n",
    "    numberOfQubits = len(obj.dims[0])\n",
    "    permute = list(range(numberOfQubits))\n",
    "    permute[i], permute[j] = permute[j], permute[i]\n",
    "    return obj.permute(permute)"
   ]
  },
  {
   "cell_type": "markdown",
   "metadata": {},
   "source": [
    "### Further functions\n",
    "\n",
    "$\\text{tensoredId}$ returns $\\underbrace{\\mathbb{1}_2 \\otimes \\dots \\otimes \\mathbb{1}_2}_{N \\text{-times}}$\n",
    "\n",
    "$\\text{tensoredQubit0}$ returns $\\ket{0 \\dots 0}_N \\bra{0 \\dots 0}$"
   ]
  },
  {
   "cell_type": "code",
   "execution_count": 5,
   "metadata": {},
   "outputs": [],
   "source": [
    "def tensoredId(N):\n",
    "    #Make Identity matrix\n",
    "    res = qt.qeye(2**N)\n",
    "    #Make dims list\n",
    "    dims = [2 for i in range(N)]\n",
    "    dims = [dims.copy(), dims.copy()]\n",
    "    res.dims = dims\n",
    "    #Return\n",
    "    return res\n",
    "\n",
    "def tensoredQubit0(N):\n",
    "    #Make Qubit matrix\n",
    "    res = qt.fock(2**N).proj() #For some reason ran faster than fock_dm(2**N) in tests\n",
    "    #Make dims list\n",
    "    dims = [2 for i in range(N)]\n",
    "    dims = [dims.copy(), dims.copy()]\n",
    "    res.dims = dims\n",
    "    #Return\n",
    "    return res"
   ]
  },
  {
   "cell_type": "markdown",
   "metadata": {},
   "source": [
    "$\\text{unitariesCopy}$ assumes to be given $\\text{unitaries}$ as usual and returns a deep copy of it, meaning a new 2-dimensional list where every element is a copy of the element at the same position in the given 2d-list."
   ]
  },
  {
   "cell_type": "code",
   "execution_count": 6,
   "metadata": {},
   "outputs": [],
   "source": [
    "def unitariesCopy(unitaries):\n",
    "    newUnitaries = []\n",
    "    for layer in unitaries:\n",
    "        newLayer = []\n",
    "        for unitary in layer:\n",
    "            newLayer.append(unitary.copy())\n",
    "        newUnitaries.append(newLayer)\n",
    "    return newUnitaries"
   ]
  },
  {
   "cell_type": "markdown",
   "metadata": {},
   "source": [
    "## 1.3 Random generation of unitaries, training data and networks"
   ]
  },
  {
   "cell_type": "markdown",
   "metadata": {},
   "source": [
    "### Generation of random unitaries:\n",
    "\n",
    "$\\text{randomQubitUnitary}$ return a unitary $2^{\\text{numQubits}} \\times 2^{\\text{numQubits}}$-matrix as a quantum object (qutip.Qobj) that is the tensor product of $\\text{numQubits}$ factors. Before orthogonalization, it's elements are randomly picked out of a normal distribution."
   ]
  },
  {
   "cell_type": "code",
   "execution_count": 7,
   "metadata": {},
   "outputs": [],
   "source": [
    "def randomQubitUnitary(numQubits):\n",
    "    dim = 2**numQubits\n",
    "    #Make unitary matrix\n",
    "    res = sc.random.normal(size=(dim,dim)) + 1j * sc.random.normal(size=(dim,dim))\n",
    "    res = sc.linalg.orth(res)\n",
    "    res = qt.Qobj(res)\n",
    "    #Make dims list\n",
    "    dims = [2 for i in range(numQubits)]\n",
    "    dims = [dims.copy(), dims.copy()]\n",
    "    res.dims = dims\n",
    "    #Return\n",
    "    return res"
   ]
  },
  {
   "cell_type": "markdown",
   "metadata": {},
   "source": [
    "### Bloch sphere"
   ]
  },
  {
   "cell_type": "markdown",
   "metadata": {},
   "source": [
    "$\\text{blochvec}$ maps an input state (as a density matrix) to a vector on the bloch sphere."
   ]
  },
  {
   "cell_type": "code",
   "execution_count": 8,
   "metadata": {},
   "outputs": [],
   "source": [
    "def blochvec(inputState):\n",
    "     mat = 2 * sc.array(inputState)\n",
    "     x = mat[0][1].real\n",
    "     y = mat[1][0].imag\n",
    "     z = mat[0][0].real - 1\n",
    "     return [x,y,z]"
   ]
  },
  {
   "cell_type": "markdown",
   "metadata": {},
   "source": [
    "### Generation of random training data\n",
    "\n",
    "$\\text{randomQubitState}$ return a unitary $2^{\\text{numQubits}}$-vector as a quantum object (qutip.Qobj) that is the tensor product of $\\text{numQubits}$ factors. Before normalization, it's elements are randomly picked out of a normal distribution.\n",
    "\n",
    "$\\text{randomTrainingData}$ returns a list of $N$ training pairs like\n",
    "\n",
    "$$trainingData = \\big[ [\\text{state}_1,\\, \\text{qubit0/1}], \\dots , [\\text{state}_N,\\, \\text{qubit0/1}] \\big]$$\n",
    "\n",
    "To each input state, one of the basic states, qubit0 and qubit1, is assigned. They correspond to the labels 0 and 1. If $z>0$ for the vector on the Bloch sphere, the label is 0, otherwise 1."
   ]
  },
  {
   "cell_type": "code",
   "execution_count": 9,
   "metadata": {},
   "outputs": [],
   "source": [
    "def randomQubitState(numQubits):\n",
    "    dim = 2**numQubits\n",
    "    #Make normalized state\n",
    "    res = sc.random.normal(size=(dim,1)) + 1j * sc.random.normal(size=(dim,1))\n",
    "    res = (1/sc.linalg.norm(res)) * res\n",
    "    res = qt.Qobj(res)\n",
    "    #Make dims list\n",
    "    dims1 = [2 for i in range(numQubits)]\n",
    "    dims2 = [1 for i in range(numQubits)]\n",
    "    dims = [dims1, dims2]\n",
    "    res.dims = dims\n",
    "    #Return\n",
    "    return res\n",
    "\n",
    "def randomTrainingData(N):\n",
    "    #numQubits = len(unitary.dims[0])\n",
    "    trainingData=[]\n",
    "    #Create training data pairs\n",
    "    for i in range(N):\n",
    "        a = randomQubitState(1)\n",
    "        b = a * a.dag()\n",
    "        c = blochvec(b)\n",
    "        d = qubit1\n",
    "        if c[2]>0:\n",
    "            d = qubit0\n",
    "        trainingData.append([a,d])\n",
    "    #Return\n",
    "    return trainingData"
   ]
  },
  {
   "cell_type": "markdown",
   "metadata": {},
   "source": [
    "### Note regarding Qobj.dims"
   ]
  },
  {
   "cell_type": "markdown",
   "metadata": {},
   "source": [
    "Quantum objects $\\text{Qobj}$ in the $\\text{qutip}$ package have two properties regarding their sizes: $\\text{shape}$ and $\\text{dims}$. While $\\text{shape}$ denotes the \"dimensions of the underlying data matrix\", $\\text{dims}$ is a \"list keeping track of shapes for individual components of a multipartite system\" (quoted from the $\\text{qutip}$-documentation). The qutip package will only allow operations such as the multiplication of two $\\text{Qobj}$ objects $A$ and $B$, if not only their $\\text{shape}$s, but also their $\\text{dims}$ are compatible. Essentially all $\\text{Qobj}$ objects in this work are representing operators or states in an multipartite system of $n$ qubits. As we create such objects with the desired $\\text{shape}$, we have to ensure that their $\\text{dims}$ are reflective of that, which is why we manually overwrite them to meet this criteria."
   ]
  },
  {
   "cell_type": "markdown",
   "metadata": {},
   "source": [
    "### Generation of an initial network"
   ]
  },
  {
   "cell_type": "markdown",
   "metadata": {},
   "source": [
    "$\\text{randomNetwork}$ will, given a valid $\\text{qnnArch}$ as usual, return a 4-tuple that completely describes a trainable quantum-neural-network like\n",
    "\n",
    "$$\\big(\\text{qnnArch}, \\ \\text{unitaries} , \\ \\text{trainingData}, \\ \\text{networkUnitary} \\big)$$\n",
    "\n",
    "With $\\text{qnnArch},\\, \\text{unitaries}$ and $\\text{trainingData}$ as usual and $\\text{networkUnitary}$ being the targeted network unitary (with which the training data was created)."
   ]
  },
  {
   "cell_type": "code",
   "execution_count": 10,
   "metadata": {},
   "outputs": [],
   "source": [
    "def randomNetwork(qnnArch, numTrainingPairs):\n",
    "    assert qnnArch[0]==qnnArch[-1], \"Not a valid QNN-Architecture.\"\n",
    "    \n",
    "    #Create the targeted network unitary and corresponding training data\n",
    "    networkTrainingData = randomTrainingData(numTrainingPairs)\n",
    "    \n",
    "    #Create the initial random perceptron unitaries for the network\n",
    "    networkUnitaries = [[]]\n",
    "    for l in range(1, len(qnnArch)):\n",
    "        numInputQubits = qnnArch[l-1]\n",
    "        numOutputQubits = qnnArch[l]\n",
    "        \n",
    "        networkUnitaries.append([])\n",
    "        for j in range(numOutputQubits):\n",
    "            unitary = qt.tensor(randomQubitUnitary(numInputQubits+1), tensoredId(numOutputQubits-1))\n",
    "            unitary = swappedOp(unitary, numInputQubits, numInputQubits + j)\n",
    "            networkUnitaries[l].append(unitary)\n",
    "    \n",
    "    #Return\n",
    "    return (qnnArch, networkUnitaries, networkTrainingData)#, networkUnitary)"
   ]
  },
  {
   "cell_type": "markdown",
   "metadata": {},
   "source": [
    "## 1.4 QNN-Code"
   ]
  },
  {
   "cell_type": "markdown",
   "metadata": {},
   "source": [
    "### Cost Function\n",
    "\n",
    "$\\text{costFunction}$ assumes to be given $\\text{trainingData}$ and $\\text{outputStates}$ so that\n",
    "\n",
    "$$\\text{trainingData[x][1]} = \\ket{\\phi_x^{out}}$$\n",
    "\n",
    "$$\\text{outputStates[x]} = \\rho_x^{out}(s)$$\n",
    "\n",
    "and computes the cost function:\n",
    "\n",
    "$$C(s) = \\frac{1}{N} \\sum_{x = 1}^N \\bra{\\phi_x^{out}} \\rho_x^{out}(s) \\ket{\\phi_x^{out}}$$"
   ]
  },
  {
   "cell_type": "code",
   "execution_count": 11,
   "metadata": {},
   "outputs": [],
   "source": [
    "def costFunction(trainingData, outputStates):\n",
    "    costSum = 0\n",
    "    for i in range(len(trainingData)):\n",
    "        costSum += trainingData[i][1].dag() * outputStates[i] * trainingData[i][1]\n",
    "    return costSum.tr()/len(trainingData)"
   ]
  },
  {
   "cell_type": "markdown",
   "metadata": {},
   "source": [
    "### Layer-Channel & Adjoint-Layer-Channel\n",
    "\n",
    "$\\text{makeLayerChannel}$ assumes to be given $\\text{qnnArch}$ and $\\text{currentUnis}$ as usual and calculates\n",
    "\n",
    "\\begin{align}\n",
    "\\\\\n",
    "\\mathcal{E}_s^l(X^{l-1}) & = \\text{tr}_{l-1}\\bigg( U^l(s) \\ \\big( X^{l-1} \\otimes \\ket{0 \\dots 0}_l \\bra{0 \\dots 0} \\big) \\ U^l(s)^{\\dagger} \\bigg) \\\\\n",
    "& = \\text{tr}_{l-1}\\bigg( U_{m_l}^l(s) \\dots U_1^l(s) \\ \\big( X^{l-1} \\otimes \\ket{0 \\dots 0}_l \\bra{0 \\dots 0} \\big) \\ U_1^l(s)^{\\dagger} \\dots U_{m_l}^l(s)^{\\dagger} \\bigg) \n",
    "\\\\\n",
    "\\end{align}\n",
    "\n",
    "for $\\text{inputState} = X^{l-1}$"
   ]
  },
  {
   "cell_type": "code",
   "execution_count": 12,
   "metadata": {},
   "outputs": [],
   "source": [
    "def makeLayerChannel(qnnArch, unitaries, l, inputState):\n",
    "    numInputQubits = qnnArch[l-1]\n",
    "    numOutputQubits = qnnArch[l]\n",
    "\n",
    "    #Tensor input state\n",
    "    state = qt.tensor(inputState, tensoredQubit0(numOutputQubits))\n",
    "\n",
    "    #Calculate layer unitary\n",
    "    layerUni = unitaries[l][0].copy()\n",
    "    for i in range(1, numOutputQubits):\n",
    "        layerUni = unitaries[l][i] * layerUni\n",
    "\n",
    "    #Multiply and tensor out input state\n",
    "    return partialTraceRem(layerUni * state * layerUni.dag(), list(range(numInputQubits)))"
   ]
  },
  {
   "cell_type": "markdown",
   "metadata": {},
   "source": [
    "$\\text{makeAdjointLayerChannel}$ assumes to be given $\\text{qnnArch}$ and $\\text{unitaries}$ as usual and calculates\n",
    "\n",
    "\\begin{align}\n",
    "\\\\\n",
    "\\mathcal{F}_s^l(X^{l}) & = \\text{tr}_{l}\\bigg( \\big( \\mathbb{1}_{l-1} \\otimes \\ket{0 \\dots 0}_l \\bra{0 \\dots 0} \\big) \\ U^{l}(s)^{\\dagger} \\ \\big( \\mathbb{1}_{l-1} \\otimes X^l \\big) \\ U^l(s) \\bigg) \\\\\n",
    "& = \\text{tr}_{l}\\bigg( \\big( \\mathbb{1}_{l-1} \\otimes \\ket{0 \\dots 0}_l \\bra{0 \\dots 0} \\big) \\ U_1^l(s)^{\\dagger} \\dots U_{m_l}^l(s)^{\\dagger} \\ \\big( \\mathbb{1}_{l-1} \\otimes X^l \\big) \\ U_{m_l}^l(s) \\dots U_1^l(s) \\bigg)\n",
    "\\\\\n",
    "\\end{align}\n",
    "\n",
    "\n",
    "for $\\text{inputState} = X^{l}$"
   ]
  },
  {
   "cell_type": "code",
   "execution_count": 13,
   "metadata": {},
   "outputs": [],
   "source": [
    "def makeAdjointLayerChannel(qnnArch, unitaries, l, outputState):\n",
    "    numInputQubits = qnnArch[l-1]\n",
    "    numOutputQubits = qnnArch[l]\n",
    "    \n",
    "    #Prepare needed states\n",
    "    inputId = tensoredId(numInputQubits)\n",
    "    state1 = qt.tensor(inputId, tensoredQubit0(numOutputQubits))\n",
    "    state2 = qt.tensor(inputId, outputState)\n",
    "\n",
    "    #Calculate layer unitary\n",
    "    layerUni = unitaries[l][0].copy()\n",
    "    for i in range(1, numOutputQubits):\n",
    "        layerUni = unitaries[l][i] * layerUni\n",
    "    \n",
    "    #Multiply and tensor out output state\n",
    "    return partialTraceKeep(state1 * layerUni.dag() * state2 * layerUni, list(range(numInputQubits)) )"
   ]
  },
  {
   "cell_type": "markdown",
   "metadata": {},
   "source": [
    "### Feedforward\n",
    "\n",
    "$\\text{feedforward}$ assumes to be given $\\text{qnnArch},\\, \\text{unitaries}$ and $\\text{trainingData}$ as usual, carries out the feedforward process as described in Appendix D.2 of ***Efficient Learning for Deep Quantum Neural Networks***:\n",
    "\n",
    "For each element $\\big[\\, \\ket{\\phi_x^{in}},\\, \\ket{\\phi_x^{out}} \\big]$ in $\\text{trainingData}$ do:\n",
    "\n",
    "- Calculate the network input $\\rho_x^{in} = \\ket{\\phi_x^{in}} \\bra{\\phi_x^{in}}$\n",
    "\n",
    "- For every layer $l$ in $\\text{qnnArch}$ do:\n",
    "\n",
    "    - Apply the layer channel $\\mathcal{E}_s^l$ to the output of the previous layer $l-1$\n",
    "\n",
    "    - Store the result $\\rho_x^l(s)$"
   ]
  },
  {
   "cell_type": "code",
   "execution_count": 14,
   "metadata": {},
   "outputs": [],
   "source": [
    "def feedforward(qnnArch, unitaries, trainingData):\n",
    "    storedStates = []\n",
    "    for x in range(len(trainingData)):\n",
    "        currentState = trainingData[x][0] * trainingData[x][0].dag()\n",
    "        layerwiseList = [currentState]\n",
    "        for l in range(1, len(qnnArch)):\n",
    "            currentState = makeLayerChannel(qnnArch, unitaries, l, currentState)\n",
    "            layerwiseList.append(currentState)\n",
    "        storedStates.append(layerwiseList)\n",
    "    return storedStates"
   ]
  },
  {
   "cell_type": "markdown",
   "metadata": {},
   "source": [
    "### Update matrix\n",
    "\n",
    "$\\text{makeUpdateMatrix}$ assumes to be given $\\text{qnnArch},\\, \\text{unitaries},\\, \\text{trainingData}$ and $\\text{storedStates}$ as usual, as well as $\\lambda,\\, \\epsilon \\in \\mathbb{R}$, and calculates\n",
    "\n",
    "$$\\text{exp}\\big( i \\, \\epsilon \\, K_j^l(s) \\big)$$\n",
    "\n",
    "with\n",
    "\n",
    "$$K_j^l(s) = \\frac{2^{n_{a_1, \\dots, \\beta}} \\, i}{2 N \\lambda} \\sum_x \\text{tr}_\\text{rest} M_j^l(s)$$\n",
    "\n",
    "with \n",
    "\n",
    "$$M_j^l(s) = \\big[A_j^l(s), B_j^l(s) \\big]$$\n",
    "\n",
    "with\n",
    "\n",
    "\\begin{align}\n",
    "A_j^l(s) & = U_j^l(s) \\dots U_1^l(s) \\, \\big( \\rho_x^{l-1}(s) \\otimes \\ket{0 \\dots 0}_l \\bra{0 \\dots 0} \\big) \\, U_1^l(s)^{\\dagger} \\dots U_j^l(s)^{\\dagger} \\\\\n",
    "\\\\\n",
    "B_j^l(s) & = U_{j+1}^l(s)^{\\dagger} \\dots U_{m_l}^l(s)^{\\dagger} \\, \\big( \\mathbb{1}_l \\otimes \\sigma_x^l(s) \\big) \\, U_{m_l}^l(s) \\dots U_{j+1}^l(s)\n",
    "\\end{align}\n",
    "\n",
    "with\n",
    "\n",
    "$$\\sigma_x^l(s) = \\mathcal{F}_s^{l+1} \\big( \\dots \\mathcal{F}_s^{out} \\big( \\ket{\\phi_x^{out}} \\bra{\\phi_x^{out}} \\big) \\dots \\big)$$\n",
    "\n",
    "$\\text{updateMatrixFirstPart}$ calculates $A_j^l(s)$, $\\text{updateMatrixSecondPart}$ calculates $B_j^l(s)$.\n",
    "\n",
    "$\\text{makeUpdateMatrixTensored}$ tensors the calculated as above update matrix in such a way, that it can be applied to the already tensored perceptron unitaries."
   ]
  },
  {
   "cell_type": "code",
   "execution_count": 15,
   "metadata": {},
   "outputs": [],
   "source": [
    "def makeUpdateMatrix(qnnArch, unitaries, trainingData, storedStates, lda, ep, l, j):\n",
    "    numInputQubits = qnnArch[l-1]\n",
    "    \n",
    "    #Calculate the sum:\n",
    "    summ = 0\n",
    "    for x in range(len(trainingData)):\n",
    "        #Calculate the commutator\n",
    "        firstPart = updateMatrixFirstPart(qnnArch, unitaries, storedStates, l, j, x)\n",
    "        secondPart = updateMatrixSecondPart(qnnArch, unitaries, trainingData, l, j, x)\n",
    "        mat = qt.commutator(firstPart, secondPart)\n",
    "        \n",
    "        #Trace out the rest\n",
    "        keep = list(range(numInputQubits))\n",
    "        keep.append(numInputQubits + j)\n",
    "        mat = partialTraceKeep(mat, keep)\n",
    "        \n",
    "        #Add to sum\n",
    "        summ = summ + mat\n",
    "\n",
    "    #Calculate the update matrix from the sum\n",
    "    summ = (-ep * (2**numInputQubits)/(lda*len(trainingData))) * summ\n",
    "    return summ.expm()\n",
    "\n",
    "\n",
    "def updateMatrixFirstPart(qnnArch, unitaries, storedStates, l, j, x):\n",
    "    numInputQubits = qnnArch[l-1]\n",
    "    numOutputQubits = qnnArch[l]\n",
    "    \n",
    "    #Tensor input state\n",
    "    state = qt.tensor(storedStates[x][l-1], tensoredQubit0(numOutputQubits))\n",
    "    \n",
    "    #Calculate needed product unitary\n",
    "    productUni = unitaries[l][0]\n",
    "    for i in range(1, j+1):\n",
    "        productUni = unitaries[l][i] * productUni\n",
    "    \n",
    "    #Multiply\n",
    "    return productUni * state * productUni.dag()\n",
    "\n",
    "\n",
    "def updateMatrixSecondPart(qnnArch, unitaries, trainingData, l, j, x):\n",
    "    numInputQubits = qnnArch[l-1]\n",
    "    numOutputQubits = qnnArch[l]\n",
    "    \n",
    "    #Calculate sigma state\n",
    "    state = trainingData[x][1] * trainingData[x][1].dag()\n",
    "    for i in range(len(qnnArch)-1,l,-1):\n",
    "        state = makeAdjointLayerChannel(qnnArch, unitaries, i, state)\n",
    "    #Tensor sigma state\n",
    "    state = qt.tensor(tensoredId(numInputQubits), state)\n",
    "    \n",
    "    #Calculate needed product unitary\n",
    "    productUni = tensoredId(numInputQubits + numOutputQubits)\n",
    "    for i in range(j+1, numOutputQubits):\n",
    "        productUni = unitaries[l][i] * productUni\n",
    "        \n",
    "    #Multiply\n",
    "    return productUni.dag() * state * productUni\n",
    "\n",
    "\n",
    "def makeUpdateMatrixTensored(qnnArch, unitaries, lda, ep, trainingData, storedStates, l, j):\n",
    "    numInputQubits = qnnArch[l-1]\n",
    "    numOutputQubits = qnnArch[l]\n",
    "    \n",
    "    res = qt.tensor(makeUpdateMatrix(qnnArch, unitaries, lda, ep, trainingData, storedStates, l, j), tensoredId(numOutputQubits-1))\n",
    "    \n",
    "    return swappedOp(res, numInputQubits, numInputQubits + j)"
   ]
  },
  {
   "cell_type": "markdown",
   "metadata": {},
   "source": [
    "### Training of the Quantum Neural Network\n",
    "\n",
    "$\\text{qnnTraining}$ assumes to be given $\\text{qnnArch},\\, \\text{initialUnitaries}$ and $\\text{trainingData}$ as usual, as well as $\\lambda,\\, \\epsilon \\in \\mathbb{R}$ and $\\text{trainingRounds} \\in \\mathbb{N}$, and trains the given quantum neural network as summarized in Figure 2 of ***Efficient Learning for Deep Quantum Neural Networks***:\n",
    "\n",
    "**Step 1: Feedforward:** For every training pair, for every layer: Apply the layer channel $\\mathcal{E}^l$ and store the result\n",
    "\n",
    "**Step 2: Updating:** Update every unitary in every layer according to $U^l_j \\rightarrow e^{i \\, \\epsilon \\, K^l_j} \\ U^l_j$\n",
    "\n",
    "**Termination: Repeat Steps 1 and 2 $\\text{trainingRounds}$ times**"
   ]
  },
  {
   "cell_type": "code",
   "execution_count": 16,
   "metadata": {},
   "outputs": [],
   "source": [
    "def qnnTraining(qnnArch, initialUnitaries, trainingData, lda, ep, trainingRounds, alert=0):\n",
    "    \n",
    "    ### FEEDFORWARD    \n",
    "    #Feedforward for given unitaries\n",
    "    s = 0\n",
    "    currentUnitaries = initialUnitaries\n",
    "    storedStates = feedforward(qnnArch, currentUnitaries, trainingData)\n",
    "\n",
    "    #Cost calculation for given unitaries\n",
    "    outputStates = []\n",
    "    for k in range(len(storedStates)):\n",
    "        outputStates.append(storedStates[k][-1])\n",
    "    plotlist = [[s], [costFunction(trainingData, outputStates)]]\n",
    "    \n",
    "    #Optional\n",
    "    runtime = time()\n",
    "    \n",
    "    #Training of the Quantum Neural Network\n",
    "    for k in range(trainingRounds):\n",
    "        if alert>0 and k%alert==0: print(\"In training round \"+str(k))\n",
    "        \n",
    "        ### UPDATING\n",
    "        newUnitaries = unitariesCopy(currentUnitaries)\n",
    "        \n",
    "        #Loop over layers:\n",
    "        for l in range(1, len(qnnArch)):\n",
    "            numInputQubits = qnnArch[l-1]\n",
    "            numOutputQubits = qnnArch[l]\n",
    "            \n",
    "            #Loop over perceptrons\n",
    "            for j in range(numOutputQubits):\n",
    "                newUnitaries[l][j] = (makeUpdateMatrixTensored(qnnArch,currentUnitaries,trainingData,storedStates,lda,ep,l,j)* currentUnitaries[l][j])\n",
    "        \n",
    "        ### FEEDFORWARD\n",
    "        #Feedforward for given unitaries\n",
    "        s = s + ep\n",
    "        currentUnitaries = newUnitaries\n",
    "        storedStates = feedforward(qnnArch, currentUnitaries, trainingData)\n",
    "        \n",
    "        #Cost calculation for given unitaries\n",
    "        outputStates = []\n",
    "        for m in range(len(storedStates)):\n",
    "            outputStates.append(storedStates[m][-1])\n",
    "        plotlist[0].append(s)\n",
    "        plotlist[1].append(costFunction(trainingData, outputStates))\n",
    "    \n",
    "    #Optional\n",
    "    runtime = time() - runtime\n",
    "    print(\"Trained \"+str(trainingRounds)+\" rounds for a \"+str(qnnArch)+\" network and \"+str(len(trainingData))+\" training pairs in \"+str(round(runtime, 2))+\" seconds\")\n",
    "    \n",
    "    #Return\n",
    "    return [plotlist, currentUnitaries]"
   ]
  },
  {
   "cell_type": "markdown",
   "metadata": {},
   "source": [
    "## 1.5 Classification after training"
   ]
  },
  {
   "cell_type": "markdown",
   "metadata": {},
   "source": [
    "The following function simulates $R$ mesurements for each state. The outcome of each measurement is either +1 (respectively 0) or -1 (respectively 1) (+1  corresponds to qubit0, -1 to qubit1). The function returns a list with the empirical probabilities for all states. A label is assigned according to which probability is larger."
   ]
  },
  {
   "cell_type": "code",
   "execution_count": 17,
   "metadata": {},
   "outputs": [],
   "source": [
    "def measurements(qnnArch, unitaries, trainingData, R):\n",
    "    feed = feedforward(qnnArch, unitaries, trainingData)\n",
    "    prob = []\n",
    "    for i in range(len(trainingData)):\n",
    "        state = feed[i][-1]\n",
    "        a = [] # probabilities with tr(E_i*rho)\n",
    "        a.append(np.trace(np.array(qubit0mat*state)).real)\n",
    "        a.append(np.trace(np.array(qubit1mat*state)).real)\n",
    "        results = np.random.choice([1,-1], R, p=a)\n",
    "        #number of measurements with outcome +1:\n",
    "        k = 0\n",
    "        for i in range(R):\n",
    "            if results[i] == 1:\n",
    "                k = k+1\n",
    "        #empirical probability distribution:\n",
    "        plus = k/R\n",
    "        minus = (R - k)/R\n",
    "        prob.append([plus, minus])\n",
    "    return prob"
   ]
  },
  {
   "cell_type": "markdown",
   "metadata": {},
   "source": [
    "$\\text{probWrongLabel}$ returns the probability that a label $\\neq y$ is assigned assuming that the correct label is $y$.\n",
    "\n",
    "$\\text{costFunc}$ returns the average of $$\\mathrm{Pr}(\\tilde{m}(\\Phi)\\neq y| m(\\Phi)=y) \\approx \\sigma \\left(\\sqrt{R} \\frac{\\frac{1-yb}{2}-\\hat{p}_y}{\\sqrt{2(1-\\hat{p}_y)\\hat{p}_y}}\\right)$$ using this probability. In our case: $b=0$."
   ]
  },
  {
   "cell_type": "code",
   "execution_count": 18,
   "metadata": {},
   "outputs": [],
   "source": [
    "def probWrongLabel(R, pr):\n",
    "    pWrong = 1/(1+np.exp(-np.sqrt(R)*(1/2-pr)/np.sqrt(2*(1-pr)*pr)))\n",
    "    return pWrong"
   ]
  },
  {
   "cell_type": "code",
   "execution_count": 19,
   "metadata": {},
   "outputs": [],
   "source": [
    "def costFunc(qnnArch, unitaries, trainingData, R): #R number of measurements\n",
    "    prob = measurements(qnnArch, unitaries, trainingData, R)\n",
    "    m = len(trainingData)\n",
    "    c = 0\n",
    "    for i in range(m):\n",
    "        if trainingData[i][1] == qubit0:\n",
    "            c = c + probWrongLabel(R, prob[i][0])\n",
    "        else:\n",
    "            c = c + probWrongLabel(R, prob[i][1])\n",
    "    c = c/m\n",
    "    return c"
   ]
  },
  {
   "cell_type": "markdown",
   "metadata": {},
   "source": [
    "$\\text{howManyWrong}$ returns the fraction of wrong classifications, where the classification protocol is tested for the training data. $R$ measurements are performed on the output states. A classification is wrong if the empirical probability for the correct label is less than 0.5."
   ]
  },
  {
   "cell_type": "code",
   "execution_count": 20,
   "metadata": {},
   "outputs": [],
   "source": [
    "def howManyWrong(qnnArch, unitaries, trainingData, R):\n",
    "    prob = measurements(qnnArch, unitaries, trainingData, R)\n",
    "    m = len(trainingData)\n",
    "    x = 0\n",
    "    for i in range(m):\n",
    "        if trainingData[i][1] == qubit0:\n",
    "            if prob[i][0] < 0.5:\n",
    "                x = x + 1\n",
    "        else:\n",
    "            if prob[i][1] < 0.5:\n",
    "                x = x + 1\n",
    "    x = x/m\n",
    "    return x"
   ]
  },
  {
   "cell_type": "markdown",
   "metadata": {},
   "source": [
    "## 1.6 Generalization"
   ]
  },
  {
   "cell_type": "markdown",
   "metadata": {},
   "source": [
    "$\\text{subsetTrainingAvg}$ is given the parameters $\\text{qnnArch},\\, \\text{initialUnitaries},\\, \\text{trainingData},\\, \\lambda,\\, \\epsilon$ and $\\text{trainingRounds}$ just like $\\text{qnnTraining}$. Additionally it receives  $n, \\text{iterations}, R \\in \\mathbb{N}$.\n",
    "\n",
    "$\\text{subsetTrainingAvg}$ then does the following $\\text{iterations}$-times:\n",
    "\n",
    "- Choose a subset of $\\text{trainingData}$ of size $n$\n",
    "\n",
    "- Train the given network with said subset\n",
    "\n",
    "- Calculate the cost function of the resulting network and the rate of wrong classifications over the whole set of $\\text{trainingData}$ and store them\n",
    "\n",
    "$\\text{subsetTrainingAvg}$ ultimately returns the cost averaged over all $\\text{iterations}$ results."
   ]
  },
  {
   "cell_type": "code",
   "execution_count": 21,
   "metadata": {},
   "outputs": [],
   "source": [
    "def subsetTrainingAvg(qnnArch, initialUnitaries, trainingData, lda, ep, trainingRounds, iterations, n, R, alertIt=0):\n",
    "    costpoints = []\n",
    "    errorpoints = []\n",
    "    \n",
    "    for i in range(iterations):\n",
    "        if alertIt>0 and i%alertIt==0: print(\"n=\"+str(n)+\", i=\"+str(i))\n",
    "        \n",
    "        #Prepare subset for training\n",
    "        trainingSubset = sample(trainingData, n)\n",
    "        \n",
    "        #Train with the subset\n",
    "        learnedUnitaries = qnnTraining(qnnArch, initialUnitaries, trainingSubset, lda, ep, trainingRounds)[1]\n",
    "        storedStates = feedforward(qnnArch, learnedUnitaries, trainingData)\n",
    "        outputStates = []\n",
    "        for k in range(len(storedStates)):\n",
    "            outputStates.append(storedStates[k][-1])\n",
    "        \n",
    "        #Calculate cost with all training data\n",
    "        costpoints.append(costFunction(trainingData, outputStates))\n",
    "        errorpoints.append(howManyWrong(qnnArch, learnedUnitaries, trainingData, R))\n",
    "    \n",
    "    newcost = sum(costpoints)/len(costpoints)\n",
    "    newerror = sum(errorpoints)/len(errorpoints)\n",
    "    return [newcost, newerror]"
   ]
  },
  {
   "cell_type": "markdown",
   "metadata": {},
   "source": [
    "## 1.7 Noisy training data"
   ]
  },
  {
   "cell_type": "markdown",
   "metadata": {},
   "source": [
    "$\\text{noisyDataTraining}$ is given the parameters $\\text{qnnArch},\\, \\text{initialUnitaries},\\, \\lambda,\\, \\epsilon$ and $\\text{trainingRounds}$ just like $\\text{qnnTraining}$. Additionally it receives  $\\text{numData}, \\text{stepSize} \\in \\mathbb{N}$ and $\\text{trainingData}, \\text{noisyData}$.\n",
    "\n",
    "$\\text{noisyDataTraining}$ then does the following ***for i=0; i<numData; i+=stepSize:***\n",
    "\n",
    "- Create a list $\\text{testData}$ by combining a random sample of $\\text{trainingData}$ of size $\\text{numData}-i$ and a random sample of $\\text{noisyData}$ of size $i$\n",
    "\n",
    "- Train the given network with said $\\text{testData}$\n",
    "\n",
    "- Calculate the cost function of the resulting network and the rate of wrong classifications over the whole set of $\\text{trainingData}$ and store them\n",
    "\n",
    "$\\text{noisyDataTraining}$ ultimately returns the list of costs for all $i$ like\n",
    "\n",
    "\\begin{align}\n",
    "\\big[ & [0, \\dots, i, \\dots]\\\\\n",
    "& [\\text{Cost}_0, \\dots, \\text{Cost}_i, \\dots] \\big]\n",
    "\\end{align}\n",
    "\n",
    "and the fraction of wrong classifications for all $i$."
   ]
  },
  {
   "cell_type": "code",
   "execution_count": 22,
   "metadata": {},
   "outputs": [],
   "source": [
    "def noisyDataTraining(qnnArch, initialUnitaries, trainingData, noisyData, lda, ep, trainingRounds, numData, stepSize, alertP=0):\n",
    "    noisyDataPlot = [[], []]\n",
    "    noisyNewPlot = [[], []]\n",
    "    \n",
    "    i = 0\n",
    "    while i <= numData:\n",
    "        if alertP>0: print(\"Currently at \"+str(i/numData)+\"% noisy data.\")\n",
    "        \n",
    "        #Prepare mixed data for traing\n",
    "        testData1 = sample(trainingData, numData - i)\n",
    "        testData2 = sample(noisyData, i)\n",
    "        if i==0: testData = testData1\n",
    "        elif i==numData: testData = testData2\n",
    "        else: testData = testData1 + testData2\n",
    "        \n",
    "        #Train with the mixed data\n",
    "        learnedUnitaries = qnnTraining(qnnArch, initialUnitaries, testData, lda, ep, trainingRounds)[1]\n",
    "        storedStates = feedforward(qnnArch, learnedUnitaries, trainingData)\n",
    "        outputStates = []\n",
    "        for k in range(len(storedStates)):\n",
    "            outputStates.append(storedStates[k][-1])\n",
    "        \n",
    "        #Calculate cost with the real training data\n",
    "        noisyDataPlot[0].append(i)\n",
    "        noisyDataPlot[1].append(costFunction(trainingData, outputStates))\n",
    "        \n",
    "        #rate of wrong classifications:\n",
    "        noisyNewPlot[0].append(i)\n",
    "        noisyNewPlot[1].append(howManyWrong(qnnArch, learnedUnitaries, trainingData, 1000))\n",
    "        \n",
    "        i += stepSize\n",
    "    \n",
    "    return noisyDataPlot, noisyNewPlot"
   ]
  },
  {
   "cell_type": "markdown",
   "metadata": {},
   "source": [
    "$\\text{wrongLabelData}$ returns a list with states with wrong labels."
   ]
  },
  {
   "cell_type": "code",
   "execution_count": 23,
   "metadata": {},
   "outputs": [],
   "source": [
    "def wrongLabelData(N):\n",
    "    correctData = randomTrainingData(N)\n",
    "    wrongData = []\n",
    "    for i in range(N):\n",
    "        if correctData[i][1] == qubit0:\n",
    "            wrongData.append([correctData[i][0], qubit1])\n",
    "        else:\n",
    "            wrongData.append([correctData[i][0], qubit0])\n",
    "    return wrongData"
   ]
  },
  {
   "cell_type": "markdown",
   "metadata": {},
   "source": [
    "## 1.8 Export to csv"
   ]
  },
  {
   "cell_type": "markdown",
   "metadata": {},
   "source": [
    "From the data in form of a list $[[\\dots],[\\dots]]$ (for example for the plots), a csv file is created. The list needs to be transposed for this. The name of the file has the form 'file.csv'."
   ]
  },
  {
   "cell_type": "code",
   "execution_count": 24,
   "metadata": {},
   "outputs": [],
   "source": [
    "def exporttocsv(name, data):\n",
    "    with open(name, 'w', newline='') as csvfile:\n",
    "        filewriter = csv.writer(csvfile, delimiter=',', quotechar='\"', quoting=csv.QUOTE_MINIMAL)\n",
    "        filewriter.writerow(['a','b'])\n",
    "        filewriter.writerows(list(map(list, zip(*data))))"
   ]
  },
  {
   "cell_type": "markdown",
   "metadata": {},
   "source": [
    "# 2. Tests and Applications of the QNN-Code"
   ]
  },
  {
   "cell_type": "markdown",
   "metadata": {},
   "source": [
    "## 2.1 Elementary tests"
   ]
  },
  {
   "cell_type": "markdown",
   "metadata": {},
   "source": [
    "### Training a 1-3-1 network"
   ]
  },
  {
   "cell_type": "code",
   "execution_count": 24,
   "metadata": {},
   "outputs": [
    {
     "name": "stdout",
     "output_type": "stream",
     "text": [
      "Trained 200 rounds for a [1, 3, 1] network and 50 training pairs in 126.68 seconds\n",
      "Exceeds cost of 0.75 at training step 22\n"
     ]
    },
    {
     "data": {
      "image/png": "[encoded data removed]",
      "text/plain": [
       "<Figure size 432x288 with 1 Axes>"
      ]
     },
     "metadata": {
      "needs_background": "light"
     },
     "output_type": "display_data"
    }
   ],
   "source": [
    "network131 = randomNetwork([1,3,1], 50)\n",
    "plotlist131, unitaries131 = qnnTraining(network131[0], network131[1], network131[2], 1, 0.1, 200)\n",
    "\n",
    "for i in range(len(plotlist131[1])):\n",
    "    if plotlist131[1][i] >= 0.75:\n",
    "        print(\"Exceeds cost of 0.75 at training step \"+str(i))\n",
    "        break\n",
    "\n",
    "plt.plot(plotlist131[0], plotlist131[1])\n",
    "plt.xlabel(\"s\")\n",
    "plt.ylabel(\"Cost[s]\")\n",
    "plt.show()"
   ]
  },
  {
   "cell_type": "code",
   "execution_count": 25,
   "metadata": {},
   "outputs": [],
   "source": [
    "exporttocsv('classif131.csv',plotlist131)"
   ]
  },
  {
   "cell_type": "code",
   "execution_count": 26,
   "metadata": {},
   "outputs": [
    {
     "data": {
      "text/plain": [
       "0.03041956059945513"
      ]
     },
     "execution_count": 26,
     "metadata": {},
     "output_type": "execute_result"
    }
   ],
   "source": [
    "costFunc(network131[0], unitaries131, network131[2], 1000)"
   ]
  },
  {
   "cell_type": "code",
   "execution_count": 27,
   "metadata": {},
   "outputs": [
    {
     "data": {
      "text/plain": [
       "0.0"
      ]
     },
     "execution_count": 27,
     "metadata": {},
     "output_type": "execute_result"
    }
   ],
   "source": [
    "howManyWrong(network131[0], unitaries131, network131[2], 1000)"
   ]
  },
  {
   "cell_type": "markdown",
   "metadata": {},
   "source": [
    "### Training a 1-1 network"
   ]
  },
  {
   "cell_type": "code",
   "execution_count": 28,
   "metadata": {},
   "outputs": [
    {
     "name": "stdout",
     "output_type": "stream",
     "text": [
      "Trained 400 rounds for a [1, 1] network and 50 training pairs in 53.02 seconds\n",
      "Exceeds cost of 0.75 at training step 25\n"
     ]
    },
    {
     "data": {
      "image/png": "[encoded data removed]",
      "text/plain": [
       "<Figure size 432x288 with 1 Axes>"
      ]
     },
     "metadata": {
      "needs_background": "light"
     },
     "output_type": "display_data"
    }
   ],
   "source": [
    "network11 = randomNetwork([1,1], 50)\n",
    "plotlist11, unitaries11 = qnnTraining(network11[0], network11[1], network11[2], 1, 0.1, 400)\n",
    "\n",
    "for i in range(len(plotlist11[1])):\n",
    "    if plotlist11[1][i] >= 0.75:\n",
    "        print(\"Exceeds cost of 0.75 at training step \"+str(i))\n",
    "        break\n",
    "\n",
    "plt.plot(plotlist11[0], plotlist11[1])\n",
    "plt.xlabel(\"s\")\n",
    "plt.ylabel(\"Cost[s]\")\n",
    "plt.show()"
   ]
  },
  {
   "cell_type": "code",
   "execution_count": 29,
   "metadata": {},
   "outputs": [],
   "source": [
    "exporttocsv('classif11.csv',plotlist11)"
   ]
  },
  {
   "cell_type": "code",
   "execution_count": 30,
   "metadata": {},
   "outputs": [
    {
     "data": {
      "text/plain": [
       "0.022901331528189312"
      ]
     },
     "execution_count": 30,
     "metadata": {},
     "output_type": "execute_result"
    }
   ],
   "source": [
    "costFunc(network11[0], unitaries11, network11[2], 1000)"
   ]
  },
  {
   "cell_type": "code",
   "execution_count": 31,
   "metadata": {},
   "outputs": [
    {
     "data": {
      "text/plain": [
       "0.0"
      ]
     },
     "execution_count": 31,
     "metadata": {},
     "output_type": "execute_result"
    }
   ],
   "source": [
    "howManyWrong(network11[0], unitaries11, network11[2], 1000)"
   ]
  },
  {
   "cell_type": "markdown",
   "metadata": {},
   "source": [
    "### Training a 1-1-1 network"
   ]
  },
  {
   "cell_type": "code",
   "execution_count": 32,
   "metadata": {},
   "outputs": [
    {
     "name": "stdout",
     "output_type": "stream",
     "text": [
      "Trained 400 rounds for a [1, 1, 1] network and 50 training pairs in 118.26 seconds\n",
      "Exceeds cost of 0.75 at training step 36\n"
     ]
    },
    {
     "data": {
      "image/png": "[encoded data removed]",
      "text/plain": [
       "<Figure size 432x288 with 1 Axes>"
      ]
     },
     "metadata": {
      "needs_background": "light"
     },
     "output_type": "display_data"
    }
   ],
   "source": [
    "network111 = randomNetwork([1,1,1], 50)\n",
    "plotlist111, unitaries111 = qnnTraining(network111[0], network111[1], network111[2], 1, 0.1, 400)\n",
    "\n",
    "for i in range(len(plotlist111[1])):\n",
    "    if plotlist111[1][i] >= 0.75:\n",
    "        print(\"Exceeds cost of 0.75 at training step \"+str(i))\n",
    "        break\n",
    "\n",
    "plt.plot(plotlist111[0], plotlist111[1])\n",
    "plt.xlabel(\"s\")\n",
    "plt.ylabel(\"Cost[s]\")\n",
    "plt.show()"
   ]
  },
  {
   "cell_type": "code",
   "execution_count": 33,
   "metadata": {},
   "outputs": [],
   "source": [
    "exporttocsv('classif111.csv',plotlist111)"
   ]
  },
  {
   "cell_type": "code",
   "execution_count": 34,
   "metadata": {},
   "outputs": [
    {
     "data": {
      "text/plain": [
       "0.0966785429194373"
      ]
     },
     "execution_count": 34,
     "metadata": {},
     "output_type": "execute_result"
    }
   ],
   "source": [
    "costFunc(network111[0], unitaries111, network111[2], 1000)"
   ]
  },
  {
   "cell_type": "code",
   "execution_count": 35,
   "metadata": {},
   "outputs": [
    {
     "data": {
      "text/plain": [
       "0.1"
      ]
     },
     "execution_count": 35,
     "metadata": {},
     "output_type": "execute_result"
    }
   ],
   "source": [
    "howManyWrong(network111[0], unitaries111, network111[2], 1000)"
   ]
  },
  {
   "cell_type": "markdown",
   "metadata": {},
   "source": [
    "### Training a 1-5-1 network"
   ]
  },
  {
   "cell_type": "code",
   "execution_count": 25,
   "metadata": {},
   "outputs": [
    {
     "name": "stdout",
     "output_type": "stream",
     "text": [
      "Trained 200 rounds for a [1, 5, 1] network and 50 training pairs in 301.36 seconds\n"
     ]
    },
    {
     "data": {
      "image/png": "[encoded data removed]",
      "text/plain": [
       "<Figure size 432x288 with 1 Axes>"
      ]
     },
     "metadata": {
      "needs_background": "light"
     },
     "output_type": "display_data"
    }
   ],
   "source": [
    "network151 = randomNetwork([1,5,1], 50)\n",
    "plotlist151, unitaries151 = qnnTraining(network151[0], network151[1], network151[2], 1, 0.1, 200)\n",
    "\n",
    "for i in range(len(plotlist151[1])):\n",
    "    if plotlist151[1][i] >= 0.75:\n",
    "        print(\"Exceeds cost of 0.75 at training step \"+str(i))\n",
    "        break\n",
    "\n",
    "plt.plot(plotlist151[0], plotlist151[1])\n",
    "plt.xlabel(\"s\")\n",
    "plt.ylabel(\"Cost[s]\")\n",
    "plt.show()"
   ]
  },
  {
   "cell_type": "code",
   "execution_count": 26,
   "metadata": {},
   "outputs": [],
   "source": [
    "exporttocsv('classif151.csv',plotlist151)"
   ]
  },
  {
   "cell_type": "code",
   "execution_count": 27,
   "metadata": {},
   "outputs": [
    {
     "data": {
      "text/plain": [
       "0.026817663005427726"
      ]
     },
     "execution_count": 27,
     "metadata": {},
     "output_type": "execute_result"
    }
   ],
   "source": [
    "costFunc(network151[0], unitaries151, network151[2], 1000)"
   ]
  },
  {
   "cell_type": "code",
   "execution_count": 28,
   "metadata": {},
   "outputs": [
    {
     "data": {
      "text/plain": [
       "0.0"
      ]
     },
     "execution_count": 28,
     "metadata": {},
     "output_type": "execute_result"
    }
   ],
   "source": [
    "howManyWrong(network151[0], unitaries151, network151[2], 1000)"
   ]
  },
  {
   "cell_type": "markdown",
   "metadata": {},
   "source": [
    "### Training a 1-3-3-1 network"
   ]
  },
  {
   "cell_type": "code",
   "execution_count": 40,
   "metadata": {},
   "outputs": [
    {
     "name": "stdout",
     "output_type": "stream",
     "text": [
      "Trained 200 rounds for a [1, 3, 3, 1] network and 50 training pairs in 256.67 seconds\n",
      "Exceeds cost of 0.75 at training step 18\n"
     ]
    },
    {
     "data": {
      "image/png": "[encoded data removed]",
      "text/plain": [
       "<Figure size 432x288 with 1 Axes>"
      ]
     },
     "metadata": {
      "needs_background": "light"
     },
     "output_type": "display_data"
    }
   ],
   "source": [
    "network1331 = randomNetwork([1,3,3,1], 50)\n",
    "plotlist1331, unitaries1331 = qnnTraining(network1331[0], network1331[1], network1331[2], 1, 0.1, 200)\n",
    "\n",
    "for i in range(len(plotlist1331[1])):\n",
    "    if plotlist1331[1][i] >= 0.75:\n",
    "        print(\"Exceeds cost of 0.75 at training step \"+str(i))\n",
    "        break\n",
    "\n",
    "plt.plot(plotlist1331[0], plotlist1331[1])\n",
    "plt.xlabel(\"s\")\n",
    "plt.ylabel(\"Cost[s]\")\n",
    "plt.show()"
   ]
  },
  {
   "cell_type": "code",
   "execution_count": 41,
   "metadata": {},
   "outputs": [],
   "source": [
    "exporttocsv('classif1331.csv',plotlist1331)"
   ]
  },
  {
   "cell_type": "code",
   "execution_count": 42,
   "metadata": {},
   "outputs": [
    {
     "data": {
      "text/plain": [
       "0.031306895686119954"
      ]
     },
     "execution_count": 42,
     "metadata": {},
     "output_type": "execute_result"
    }
   ],
   "source": [
    "costFunc(network1331[0], unitaries1331, network1331[2], 1000)"
   ]
  },
  {
   "cell_type": "code",
   "execution_count": 43,
   "metadata": {},
   "outputs": [
    {
     "data": {
      "text/plain": [
       "0.02"
      ]
     },
     "execution_count": 43,
     "metadata": {},
     "output_type": "execute_result"
    }
   ],
   "source": [
    "howManyWrong(network1331[0], unitaries1331, network1331[2], 1000)"
   ]
  },
  {
   "cell_type": "markdown",
   "metadata": {},
   "source": [
    "## 2.2 Ablility for classification"
   ]
  },
  {
   "cell_type": "markdown",
   "metadata": {},
   "source": [
    "In the following, training and classification are done twelve times for each of the previously used five architectures. The list $\\text{errordata}$ contains the fraction of wrong classifications for each training."
   ]
  },
  {
   "cell_type": "code",
   "execution_count": 24,
   "metadata": {},
   "outputs": [
    {
     "name": "stdout",
     "output_type": "stream",
     "text": [
      "Trained 400 rounds for a [1, 1] network and 50 training pairs in 52.2 seconds\n",
      "Trained 400 rounds for a [1, 1, 1] network and 50 training pairs in 107.96 seconds\n",
      "Trained 200 rounds for a [1, 3, 1] network and 50 training pairs in 113.1 seconds\n",
      "Trained 100 rounds for a [1, 5, 1] network and 50 training pairs in 150.24 seconds\n",
      "Trained 200 rounds for a [1, 3, 3, 1] network and 50 training pairs in 279.28 seconds\n",
      "Trained 400 rounds for a [1, 1] network and 50 training pairs in 50.18 seconds\n",
      "Trained 400 rounds for a [1, 1, 1] network and 50 training pairs in 107.16 seconds\n",
      "Trained 200 rounds for a [1, 3, 1] network and 50 training pairs in 138.37 seconds\n",
      "Trained 100 rounds for a [1, 5, 1] network and 50 training pairs in 139.76 seconds\n",
      "Trained 200 rounds for a [1, 3, 3, 1] network and 50 training pairs in 272.02 seconds\n",
      "Trained 400 rounds for a [1, 1] network and 50 training pairs in 59.46 seconds\n",
      "Trained 400 rounds for a [1, 1, 1] network and 50 training pairs in 105.78 seconds\n",
      "Trained 200 rounds for a [1, 3, 1] network and 50 training pairs in 95.89 seconds\n",
      "Trained 100 rounds for a [1, 5, 1] network and 50 training pairs in 131.47 seconds\n",
      "Trained 200 rounds for a [1, 3, 3, 1] network and 50 training pairs in 262.29 seconds\n",
      "Trained 400 rounds for a [1, 1] network and 50 training pairs in 70.58 seconds\n",
      "Trained 400 rounds for a [1, 1, 1] network and 50 training pairs in 106.65 seconds\n",
      "Trained 200 rounds for a [1, 3, 1] network and 50 training pairs in 100.6 seconds\n",
      "Trained 100 rounds for a [1, 5, 1] network and 50 training pairs in 135.95 seconds\n",
      "Trained 200 rounds for a [1, 3, 3, 1] network and 50 training pairs in 256.51 seconds\n",
      "Trained 400 rounds for a [1, 1] network and 50 training pairs in 47.63 seconds\n",
      "Trained 400 rounds for a [1, 1, 1] network and 50 training pairs in 98.62 seconds\n",
      "Trained 200 rounds for a [1, 3, 1] network and 50 training pairs in 101.1 seconds\n",
      "Trained 100 rounds for a [1, 5, 1] network and 50 training pairs in 134.63 seconds\n",
      "Trained 200 rounds for a [1, 3, 3, 1] network and 50 training pairs in 258.64 seconds\n",
      "Trained 400 rounds for a [1, 1] network and 50 training pairs in 49.83 seconds\n",
      "Trained 400 rounds for a [1, 1, 1] network and 50 training pairs in 98.84 seconds\n",
      "Trained 200 rounds for a [1, 3, 1] network and 50 training pairs in 101.33 seconds\n",
      "Trained 100 rounds for a [1, 5, 1] network and 50 training pairs in 134.42 seconds\n",
      "Trained 200 rounds for a [1, 3, 3, 1] network and 50 training pairs in 262.48 seconds\n",
      "Trained 400 rounds for a [1, 1] network and 50 training pairs in 48.04 seconds\n",
      "Trained 400 rounds for a [1, 1, 1] network and 50 training pairs in 97.39 seconds\n",
      "Trained 200 rounds for a [1, 3, 1] network and 50 training pairs in 99.93 seconds\n",
      "Trained 100 rounds for a [1, 5, 1] network and 50 training pairs in 181.72 seconds\n",
      "Trained 200 rounds for a [1, 3, 3, 1] network and 50 training pairs in 318.07 seconds\n",
      "Trained 400 rounds for a [1, 1] network and 50 training pairs in 51.36 seconds\n",
      "Trained 400 rounds for a [1, 1, 1] network and 50 training pairs in 107.37 seconds\n",
      "Trained 200 rounds for a [1, 3, 1] network and 50 training pairs in 106.58 seconds\n",
      "Trained 100 rounds for a [1, 5, 1] network and 50 training pairs in 143.37 seconds\n",
      "Trained 200 rounds for a [1, 3, 3, 1] network and 50 training pairs in 260.87 seconds\n",
      "Trained 400 rounds for a [1, 1] network and 50 training pairs in 44.31 seconds\n",
      "Trained 400 rounds for a [1, 1, 1] network and 50 training pairs in 101.35 seconds\n",
      "Trained 200 rounds for a [1, 3, 1] network and 50 training pairs in 100.48 seconds\n",
      "Trained 100 rounds for a [1, 5, 1] network and 50 training pairs in 135.59 seconds\n",
      "Trained 200 rounds for a [1, 3, 3, 1] network and 50 training pairs in 255.08 seconds\n",
      "Trained 400 rounds for a [1, 1] network and 50 training pairs in 48.03 seconds\n",
      "Trained 400 rounds for a [1, 1, 1] network and 50 training pairs in 100.11 seconds\n",
      "Trained 200 rounds for a [1, 3, 1] network and 50 training pairs in 100.0 seconds\n",
      "Trained 100 rounds for a [1, 5, 1] network and 50 training pairs in 138.98 seconds\n",
      "Trained 200 rounds for a [1, 3, 3, 1] network and 50 training pairs in 258.58 seconds\n",
      "Trained 400 rounds for a [1, 1] network and 50 training pairs in 45.45 seconds\n",
      "Trained 400 rounds for a [1, 1, 1] network and 50 training pairs in 100.79 seconds\n",
      "Trained 200 rounds for a [1, 3, 1] network and 50 training pairs in 99.08 seconds\n",
      "Trained 100 rounds for a [1, 5, 1] network and 50 training pairs in 136.08 seconds\n",
      "Trained 200 rounds for a [1, 3, 3, 1] network and 50 training pairs in 259.61 seconds\n",
      "Trained 400 rounds for a [1, 1] network and 50 training pairs in 46.98 seconds\n",
      "Trained 400 rounds for a [1, 1, 1] network and 50 training pairs in 101.92 seconds\n",
      "Trained 200 rounds for a [1, 3, 1] network and 50 training pairs in 100.19 seconds\n",
      "Trained 100 rounds for a [1, 5, 1] network and 50 training pairs in 136.04 seconds\n",
      "Trained 200 rounds for a [1, 3, 3, 1] network and 50 training pairs in 257.85 seconds\n",
      "[[0.08, 0.02, 0.04, 0.02, 0.04, 0.04, 0.1, 0.0, 0.04, 0.0, 0.02, 0.1], [0.04, 0.04, 0.02, 0.12, 0.04, 0.02, 0.0, 0.06, 0.04, 0.04, 0.1, 0.02], [0.06, 0.04, 0.02, 0.0, 0.08, 0.1, 0.04, 0.06, 0.06, 0.08, 0.02, 0.02], [0.04, 0.06, 0.06, 0.06, 0.06, 0.02, 0.0, 0.02, 0.0, 0.04, 0.06, 0.02], [0.02, 0.0, 0.04, 0.04, 0.06, 0.08, 0.06, 0.08, 0.02, 0.02, 0.1, 0.02]]\n"
     ]
    }
   ],
   "source": [
    "errordata = [[], [], [], [], []]\n",
    "for i in range(12):\n",
    "    network11 = randomNetwork([1,1], 50)\n",
    "    plotlist11, unitaries11 = qnnTraining(network11[0], network11[1], network11[2], 1, 0.1, 400)\n",
    "    error11 = howManyWrong(network11[0], unitaries11, network11[2], 1000)\n",
    "    errordata[0].append(error11)\n",
    "    network111 = randomNetwork([1,1,1], 50)\n",
    "    plotlist111, unitaries111 = qnnTraining(network111[0], network111[1], network111[2], 1, 0.1, 400)\n",
    "    error111 = howManyWrong(network111[0], unitaries111, network111[2], 1000)\n",
    "    errordata[1].append(error111)\n",
    "    network131 = randomNetwork([1,3,1], 50)\n",
    "    plotlist131, unitaries131 = qnnTraining(network131[0], network131[1], network131[2], 1, 0.1, 200)\n",
    "    error131 = howManyWrong(network131[0], unitaries131, network131[2], 1000)\n",
    "    errordata[2].append(error131)\n",
    "    network151 = randomNetwork([1,5,1], 50)\n",
    "    plotlist151, unitaries151 = qnnTraining(network151[0], network151[1], network151[2], 1, 0.1, 100)\n",
    "    error151 = howManyWrong(network151[0], unitaries151, network151[2], 1000)\n",
    "    errordata[3].append(error151)\n",
    "    network1331 = randomNetwork([1,3,3,1], 50)\n",
    "    plotlist1331, unitaries1331 = qnnTraining(network1331[0], network1331[1], network1331[2], 1, 0.1, 200)\n",
    "    error1331 = howManyWrong(network1331[0], unitaries1331, network1331[2], 1000)\n",
    "    errordata[4].append(error1331)\n",
    "\n",
    "print(errordata)"
   ]
  },
  {
   "cell_type": "markdown",
   "metadata": {},
   "source": [
    "Create a csv file:"
   ]
  },
  {
   "cell_type": "code",
   "execution_count": 25,
   "metadata": {},
   "outputs": [],
   "source": [
    "with open('errordata.csv', 'w', newline='') as csvfile:\n",
    "    filewriter = csv.writer(csvfile, delimiter=',', quotechar='\"', quoting=csv.QUOTE_MINIMAL)\n",
    "    filewriter.writerow(['1-1', '1-1-1', '1-3-1', '1-5-1', '1-3-3-1'])\n",
    "    filewriter.writerows(list(map(list, zip(*errordata))))"
   ]
  },
  {
   "cell_type": "markdown",
   "metadata": {},
   "source": [
    "Compute the mean $\\frac{1}{N}\\sum\\epsilon_{i}$ and the standard deviation $\\sqrt{\\frac{1}{N-1}\\sum(\\epsilon_{i}-\\bar{\\epsilon})^2}$ for each architecture:"
   ]
  },
  {
   "cell_type": "code",
   "execution_count": 26,
   "metadata": {},
   "outputs": [],
   "source": [
    "meanAndStd = [[], [], [], [], []]\n",
    "for i in range(5):\n",
    "    meanAndStd[i].append(np.mean(errordata[i]))\n",
    "    meanAndStd[i].append(np.std(errordata[i], ddof=1))"
   ]
  },
  {
   "cell_type": "code",
   "execution_count": 27,
   "metadata": {},
   "outputs": [
    {
     "name": "stdout",
     "output_type": "stream",
     "text": [
      "[[0.041666666666666664, 0.03459724984691265], [0.04499999999999999, 0.03424510582152248], [0.04833333333333334, 0.030100840620497726], [0.03666666666666667, 0.0238683256575942], [0.045000000000000005, 0.030895719032666233]]\n"
     ]
    }
   ],
   "source": [
    "print(meanAndStd)"
   ]
  },
  {
   "cell_type": "markdown",
   "metadata": {},
   "source": [
    "## 2.3 Generalization"
   ]
  },
  {
   "cell_type": "markdown",
   "metadata": {},
   "source": [
    "### Subset training for a 1-1 network"
   ]
  },
  {
   "cell_type": "code",
   "execution_count": 25,
   "metadata": {},
   "outputs": [
    {
     "name": "stdout",
     "output_type": "stream",
     "text": [
      "n=5, i=0\n",
      "Trained 200 rounds for a [1, 1] network and 5 training pairs in 2.63 seconds\n",
      "Trained 200 rounds for a [1, 1] network and 5 training pairs in 2.55 seconds\n",
      "Trained 200 rounds for a [1, 1] network and 5 training pairs in 2.8 seconds\n",
      "Trained 200 rounds for a [1, 1] network and 5 training pairs in 2.37 seconds\n",
      "Trained 200 rounds for a [1, 1] network and 5 training pairs in 2.38 seconds\n",
      "Trained 200 rounds for a [1, 1] network and 5 training pairs in 2.37 seconds\n",
      "Trained 200 rounds for a [1, 1] network and 5 training pairs in 2.46 seconds\n",
      "Trained 200 rounds for a [1, 1] network and 5 training pairs in 2.88 seconds\n",
      "Trained 200 rounds for a [1, 1] network and 5 training pairs in 2.69 seconds\n",
      "Trained 200 rounds for a [1, 1] network and 5 training pairs in 2.66 seconds\n",
      "Trained 200 rounds for a [1, 1] network and 5 training pairs in 2.68 seconds\n",
      "Trained 200 rounds for a [1, 1] network and 5 training pairs in 2.76 seconds\n",
      "Trained 200 rounds for a [1, 1] network and 5 training pairs in 2.92 seconds\n",
      "Trained 200 rounds for a [1, 1] network and 5 training pairs in 2.69 seconds\n",
      "Trained 200 rounds for a [1, 1] network and 5 training pairs in 2.68 seconds\n",
      "Trained 200 rounds for a [1, 1] network and 5 training pairs in 2.67 seconds\n",
      "Trained 200 rounds for a [1, 1] network and 5 training pairs in 2.67 seconds\n",
      "Trained 200 rounds for a [1, 1] network and 5 training pairs in 2.66 seconds\n",
      "Trained 200 rounds for a [1, 1] network and 5 training pairs in 2.91 seconds\n",
      "Trained 200 rounds for a [1, 1] network and 5 training pairs in 2.92 seconds\n",
      "n=10, i=0\n",
      "Trained 200 rounds for a [1, 1] network and 10 training pairs in 5.37 seconds\n",
      "Trained 200 rounds for a [1, 1] network and 10 training pairs in 5.5 seconds\n",
      "Trained 200 rounds for a [1, 1] network and 10 training pairs in 5.47 seconds\n",
      "Trained 200 rounds for a [1, 1] network and 10 training pairs in 5.17 seconds\n",
      "Trained 200 rounds for a [1, 1] network and 10 training pairs in 5.17 seconds\n",
      "Trained 200 rounds for a [1, 1] network and 10 training pairs in 5.12 seconds\n",
      "Trained 200 rounds for a [1, 1] network and 10 training pairs in 5.88 seconds\n",
      "Trained 200 rounds for a [1, 1] network and 10 training pairs in 5.34 seconds\n",
      "Trained 200 rounds for a [1, 1] network and 10 training pairs in 5.28 seconds\n",
      "Trained 200 rounds for a [1, 1] network and 10 training pairs in 5.41 seconds\n",
      "Trained 200 rounds for a [1, 1] network and 10 training pairs in 5.75 seconds\n",
      "Trained 200 rounds for a [1, 1] network and 10 training pairs in 5.32 seconds\n",
      "Trained 200 rounds for a [1, 1] network and 10 training pairs in 5.25 seconds\n",
      "Trained 200 rounds for a [1, 1] network and 10 training pairs in 5.37 seconds\n",
      "Trained 200 rounds for a [1, 1] network and 10 training pairs in 5.52 seconds\n",
      "Trained 200 rounds for a [1, 1] network and 10 training pairs in 5.38 seconds\n",
      "Trained 200 rounds for a [1, 1] network and 10 training pairs in 5.56 seconds\n",
      "Trained 200 rounds for a [1, 1] network and 10 training pairs in 5.2 seconds\n",
      "Trained 200 rounds for a [1, 1] network and 10 training pairs in 5.12 seconds\n",
      "Trained 200 rounds for a [1, 1] network and 10 training pairs in 5.42 seconds\n",
      "n=15, i=0\n",
      "Trained 200 rounds for a [1, 1] network and 15 training pairs in 7.9 seconds\n",
      "Trained 200 rounds for a [1, 1] network and 15 training pairs in 8.31 seconds\n",
      "Trained 200 rounds for a [1, 1] network and 15 training pairs in 7.67 seconds\n",
      "Trained 200 rounds for a [1, 1] network and 15 training pairs in 7.75 seconds\n",
      "Trained 200 rounds for a [1, 1] network and 15 training pairs in 7.93 seconds\n",
      "Trained 200 rounds for a [1, 1] network and 15 training pairs in 8.11 seconds\n",
      "Trained 200 rounds for a [1, 1] network and 15 training pairs in 7.61 seconds\n",
      "Trained 200 rounds for a [1, 1] network and 15 training pairs in 7.92 seconds\n",
      "Trained 200 rounds for a [1, 1] network and 15 training pairs in 7.9 seconds\n",
      "Trained 200 rounds for a [1, 1] network and 15 training pairs in 8.49 seconds\n",
      "Trained 200 rounds for a [1, 1] network and 15 training pairs in 9.74 seconds\n",
      "Trained 200 rounds for a [1, 1] network and 15 training pairs in 8.68 seconds\n",
      "Trained 200 rounds for a [1, 1] network and 15 training pairs in 8.03 seconds\n",
      "Trained 200 rounds for a [1, 1] network and 15 training pairs in 7.92 seconds\n",
      "Trained 200 rounds for a [1, 1] network and 15 training pairs in 7.03 seconds\n",
      "Trained 200 rounds for a [1, 1] network and 15 training pairs in 6.85 seconds\n",
      "Trained 200 rounds for a [1, 1] network and 15 training pairs in 6.82 seconds\n",
      "Trained 200 rounds for a [1, 1] network and 15 training pairs in 6.85 seconds\n",
      "Trained 200 rounds for a [1, 1] network and 15 training pairs in 6.77 seconds\n",
      "Trained 200 rounds for a [1, 1] network and 15 training pairs in 6.78 seconds\n",
      "n=20, i=0\n",
      "Trained 200 rounds for a [1, 1] network and 20 training pairs in 8.78 seconds\n",
      "Trained 200 rounds for a [1, 1] network and 20 training pairs in 9.12 seconds\n",
      "Trained 200 rounds for a [1, 1] network and 20 training pairs in 8.82 seconds\n",
      "Trained 200 rounds for a [1, 1] network and 20 training pairs in 9.01 seconds\n",
      "Trained 200 rounds for a [1, 1] network and 20 training pairs in 8.98 seconds\n",
      "Trained 200 rounds for a [1, 1] network and 20 training pairs in 9.16 seconds\n",
      "Trained 200 rounds for a [1, 1] network and 20 training pairs in 9.03 seconds\n",
      "Trained 200 rounds for a [1, 1] network and 20 training pairs in 9.05 seconds\n",
      "Trained 200 rounds for a [1, 1] network and 20 training pairs in 9.77 seconds\n",
      "Trained 200 rounds for a [1, 1] network and 20 training pairs in 9.82 seconds\n",
      "Trained 200 rounds for a [1, 1] network and 20 training pairs in 10.11 seconds\n",
      "Trained 200 rounds for a [1, 1] network and 20 training pairs in 9.96 seconds\n",
      "Trained 200 rounds for a [1, 1] network and 20 training pairs in 9.66 seconds\n",
      "Trained 200 rounds for a [1, 1] network and 20 training pairs in 9.78 seconds\n",
      "Trained 200 rounds for a [1, 1] network and 20 training pairs in 9.64 seconds\n",
      "Trained 200 rounds for a [1, 1] network and 20 training pairs in 9.69 seconds\n",
      "Trained 200 rounds for a [1, 1] network and 20 training pairs in 9.76 seconds\n",
      "Trained 200 rounds for a [1, 1] network and 20 training pairs in 9.57 seconds\n",
      "Trained 200 rounds for a [1, 1] network and 20 training pairs in 9.72 seconds\n",
      "Trained 200 rounds for a [1, 1] network and 20 training pairs in 9.74 seconds\n",
      "n=25, i=0\n",
      "Trained 200 rounds for a [1, 1] network and 25 training pairs in 11.96 seconds\n",
      "Trained 200 rounds for a [1, 1] network and 25 training pairs in 12.09 seconds\n",
      "Trained 200 rounds for a [1, 1] network and 25 training pairs in 12.17 seconds\n",
      "Trained 200 rounds for a [1, 1] network and 25 training pairs in 12.1 seconds\n",
      "Trained 200 rounds for a [1, 1] network and 25 training pairs in 12.13 seconds\n",
      "Trained 200 rounds for a [1, 1] network and 25 training pairs in 12.4 seconds\n",
      "Trained 200 rounds for a [1, 1] network and 25 training pairs in 12.34 seconds\n",
      "Trained 200 rounds for a [1, 1] network and 25 training pairs in 12.27 seconds\n",
      "Trained 200 rounds for a [1, 1] network and 25 training pairs in 11.95 seconds\n",
      "Trained 200 rounds for a [1, 1] network and 25 training pairs in 12.21 seconds\n",
      "Trained 200 rounds for a [1, 1] network and 25 training pairs in 12.08 seconds\n",
      "Trained 200 rounds for a [1, 1] network and 25 training pairs in 12.31 seconds\n",
      "Trained 200 rounds for a [1, 1] network and 25 training pairs in 12.25 seconds\n",
      "Trained 200 rounds for a [1, 1] network and 25 training pairs in 11.9 seconds\n",
      "Trained 200 rounds for a [1, 1] network and 25 training pairs in 12.22 seconds\n",
      "Trained 200 rounds for a [1, 1] network and 25 training pairs in 12.1 seconds\n",
      "Trained 200 rounds for a [1, 1] network and 25 training pairs in 12.29 seconds\n",
      "Trained 200 rounds for a [1, 1] network and 25 training pairs in 11.92 seconds\n",
      "Trained 200 rounds for a [1, 1] network and 25 training pairs in 12.1 seconds\n",
      "Trained 200 rounds for a [1, 1] network and 25 training pairs in 12.06 seconds\n",
      "n=30, i=0\n",
      "Trained 200 rounds for a [1, 1] network and 30 training pairs in 14.45 seconds\n",
      "Trained 200 rounds for a [1, 1] network and 30 training pairs in 14.48 seconds\n",
      "Trained 200 rounds for a [1, 1] network and 30 training pairs in 14.4 seconds\n",
      "Trained 200 rounds for a [1, 1] network and 30 training pairs in 14.33 seconds\n",
      "Trained 200 rounds for a [1, 1] network and 30 training pairs in 14.45 seconds\n"
     ]
    },
    {
     "name": "stdout",
     "output_type": "stream",
     "text": [
      "Trained 200 rounds for a [1, 1] network and 30 training pairs in 14.4 seconds\n",
      "Trained 200 rounds for a [1, 1] network and 30 training pairs in 14.87 seconds\n",
      "Trained 200 rounds for a [1, 1] network and 30 training pairs in 14.51 seconds\n",
      "Trained 200 rounds for a [1, 1] network and 30 training pairs in 14.38 seconds\n",
      "Trained 200 rounds for a [1, 1] network and 30 training pairs in 14.56 seconds\n",
      "Trained 200 rounds for a [1, 1] network and 30 training pairs in 14.53 seconds\n",
      "Trained 200 rounds for a [1, 1] network and 30 training pairs in 14.38 seconds\n",
      "Trained 200 rounds for a [1, 1] network and 30 training pairs in 14.41 seconds\n",
      "Trained 200 rounds for a [1, 1] network and 30 training pairs in 14.53 seconds\n",
      "Trained 200 rounds for a [1, 1] network and 30 training pairs in 14.54 seconds\n",
      "Trained 200 rounds for a [1, 1] network and 30 training pairs in 14.38 seconds\n",
      "Trained 200 rounds for a [1, 1] network and 30 training pairs in 14.25 seconds\n",
      "Trained 200 rounds for a [1, 1] network and 30 training pairs in 14.77 seconds\n",
      "Trained 200 rounds for a [1, 1] network and 30 training pairs in 14.39 seconds\n",
      "Trained 200 rounds for a [1, 1] network and 30 training pairs in 14.49 seconds\n",
      "n=35, i=0\n",
      "Trained 200 rounds for a [1, 1] network and 35 training pairs in 16.84 seconds\n",
      "Trained 200 rounds for a [1, 1] network and 35 training pairs in 16.54 seconds\n",
      "Trained 200 rounds for a [1, 1] network and 35 training pairs in 16.77 seconds\n",
      "Trained 200 rounds for a [1, 1] network and 35 training pairs in 16.72 seconds\n",
      "Trained 200 rounds for a [1, 1] network and 35 training pairs in 16.8 seconds\n",
      "Trained 200 rounds for a [1, 1] network and 35 training pairs in 17.41 seconds\n",
      "Trained 200 rounds for a [1, 1] network and 35 training pairs in 16.76 seconds\n",
      "Trained 200 rounds for a [1, 1] network and 35 training pairs in 16.68 seconds\n",
      "Trained 200 rounds for a [1, 1] network and 35 training pairs in 16.83 seconds\n",
      "Trained 200 rounds for a [1, 1] network and 35 training pairs in 27.01 seconds\n",
      "Trained 200 rounds for a [1, 1] network and 35 training pairs in 26.87 seconds\n",
      "Trained 200 rounds for a [1, 1] network and 35 training pairs in 26.89 seconds\n",
      "Trained 200 rounds for a [1, 1] network and 35 training pairs in 18.28 seconds\n",
      "Trained 200 rounds for a [1, 1] network and 35 training pairs in 18.16 seconds\n",
      "Trained 200 rounds for a [1, 1] network and 35 training pairs in 19.46 seconds\n",
      "Trained 200 rounds for a [1, 1] network and 35 training pairs in 19.21 seconds\n",
      "Trained 200 rounds for a [1, 1] network and 35 training pairs in 16.78 seconds\n",
      "Trained 200 rounds for a [1, 1] network and 35 training pairs in 16.71 seconds\n",
      "Trained 200 rounds for a [1, 1] network and 35 training pairs in 16.7 seconds\n",
      "Trained 200 rounds for a [1, 1] network and 35 training pairs in 17.08 seconds\n",
      "n=40, i=0\n",
      "Trained 200 rounds for a [1, 1] network and 40 training pairs in 19.18 seconds\n",
      "Trained 200 rounds for a [1, 1] network and 40 training pairs in 19.05 seconds\n",
      "Trained 200 rounds for a [1, 1] network and 40 training pairs in 20.53 seconds\n",
      "Trained 200 rounds for a [1, 1] network and 40 training pairs in 20.97 seconds\n",
      "Trained 200 rounds for a [1, 1] network and 40 training pairs in 20.36 seconds\n",
      "Trained 200 rounds for a [1, 1] network and 40 training pairs in 20.73 seconds\n",
      "Trained 200 rounds for a [1, 1] network and 40 training pairs in 20.67 seconds\n",
      "Trained 200 rounds for a [1, 1] network and 40 training pairs in 20.97 seconds\n",
      "Trained 200 rounds for a [1, 1] network and 40 training pairs in 19.64 seconds\n",
      "Trained 200 rounds for a [1, 1] network and 40 training pairs in 19.39 seconds\n",
      "Trained 200 rounds for a [1, 1] network and 40 training pairs in 19.27 seconds\n",
      "Trained 200 rounds for a [1, 1] network and 40 training pairs in 19.78 seconds\n",
      "Trained 200 rounds for a [1, 1] network and 40 training pairs in 19.13 seconds\n",
      "Trained 200 rounds for a [1, 1] network and 40 training pairs in 19.47 seconds\n",
      "Trained 200 rounds for a [1, 1] network and 40 training pairs in 19.3 seconds\n",
      "Trained 200 rounds for a [1, 1] network and 40 training pairs in 19.3 seconds\n",
      "Trained 200 rounds for a [1, 1] network and 40 training pairs in 19.04 seconds\n",
      "Trained 200 rounds for a [1, 1] network and 40 training pairs in 19.71 seconds\n",
      "Trained 200 rounds for a [1, 1] network and 40 training pairs in 19.48 seconds\n",
      "Trained 200 rounds for a [1, 1] network and 40 training pairs in 19.78 seconds\n",
      "n=45, i=0\n",
      "Trained 200 rounds for a [1, 1] network and 45 training pairs in 21.59 seconds\n",
      "Trained 200 rounds for a [1, 1] network and 45 training pairs in 21.69 seconds\n",
      "Trained 200 rounds for a [1, 1] network and 45 training pairs in 21.66 seconds\n",
      "Trained 200 rounds for a [1, 1] network and 45 training pairs in 21.47 seconds\n",
      "Trained 200 rounds for a [1, 1] network and 45 training pairs in 22.1 seconds\n",
      "Trained 200 rounds for a [1, 1] network and 45 training pairs in 21.67 seconds\n",
      "Trained 200 rounds for a [1, 1] network and 45 training pairs in 21.69 seconds\n",
      "Trained 200 rounds for a [1, 1] network and 45 training pairs in 21.84 seconds\n",
      "Trained 200 rounds for a [1, 1] network and 45 training pairs in 21.56 seconds\n",
      "Trained 200 rounds for a [1, 1] network and 45 training pairs in 21.66 seconds\n",
      "Trained 200 rounds for a [1, 1] network and 45 training pairs in 22.74 seconds\n",
      "Trained 200 rounds for a [1, 1] network and 45 training pairs in 21.53 seconds\n",
      "Trained 200 rounds for a [1, 1] network and 45 training pairs in 21.77 seconds\n",
      "Trained 200 rounds for a [1, 1] network and 45 training pairs in 21.75 seconds\n",
      "Trained 200 rounds for a [1, 1] network and 45 training pairs in 21.6 seconds\n",
      "Trained 200 rounds for a [1, 1] network and 45 training pairs in 22.04 seconds\n",
      "Trained 200 rounds for a [1, 1] network and 45 training pairs in 22.34 seconds\n",
      "Trained 200 rounds for a [1, 1] network and 45 training pairs in 21.88 seconds\n",
      "Trained 200 rounds for a [1, 1] network and 45 training pairs in 21.71 seconds\n",
      "Trained 200 rounds for a [1, 1] network and 45 training pairs in 21.4 seconds\n",
      "2269.712958097458\n"
     ]
    },
    {
     "data": {
      "image/png": "[encoded data removed]",
      "text/plain": [
       "<Figure size 432x288 with 1 Axes>"
      ]
     },
     "metadata": {
      "needs_background": "light"
     },
     "output_type": "display_data"
    }
   ],
   "source": [
    "subsetNetwork11 = randomNetwork([1,1], 50)\n",
    "\n",
    "start = time() #Optional\n",
    "\n",
    "pointsX = [5,10,15,20,25,30,35,40,45]\n",
    "pointsAverage = [subsetTrainingAvg(subsetNetwork11[0], subsetNetwork11[1], subsetNetwork11[2], 1.5, 0.1, 200, 20, n, 1000, alertIt=20) for n in pointsX]\n",
    "\n",
    "print(time() - start) #Optional\n",
    "\n",
    "pointsAverageCost = []\n",
    "pointsAverageError = []\n",
    "for k in range(len(pointsAverage)):\n",
    "    pointsAverageCost.append(pointsAverage[k][0])\n",
    "    pointsAverageError.append(pointsAverage[k][1])\n",
    "plt.plot(pointsX, pointsAverageError, 'bo')\n",
    "plt.show()"
   ]
  },
  {
   "cell_type": "code",
   "execution_count": 26,
   "metadata": {},
   "outputs": [],
   "source": [
    "exporttocsv('averagecost.csv', [pointsX,pointsAverageCost])\n",
    "exporttocsv('averageerror.csv', [pointsX,pointsAverageError])"
   ]
  },
  {
   "cell_type": "markdown",
   "metadata": {},
   "source": [
    "### Subset training for a 1-3-1 network"
   ]
  },
  {
   "cell_type": "code",
   "execution_count": 25,
   "metadata": {},
   "outputs": [
    {
     "name": "stdout",
     "output_type": "stream",
     "text": [
      "n=5, i=0\n",
      "Trained 150 rounds for a [1, 3, 1] network and 5 training pairs in 8.08 seconds\n",
      "Trained 150 rounds for a [1, 3, 1] network and 5 training pairs in 8.27 seconds\n",
      "Trained 150 rounds for a [1, 3, 1] network and 5 training pairs in 7.98 seconds\n",
      "Trained 150 rounds for a [1, 3, 1] network and 5 training pairs in 9.46 seconds\n",
      "Trained 150 rounds for a [1, 3, 1] network and 5 training pairs in 8.59 seconds\n",
      "Trained 150 rounds for a [1, 3, 1] network and 5 training pairs in 8.41 seconds\n",
      "Trained 150 rounds for a [1, 3, 1] network and 5 training pairs in 8.53 seconds\n",
      "Trained 150 rounds for a [1, 3, 1] network and 5 training pairs in 9.97 seconds\n",
      "Trained 150 rounds for a [1, 3, 1] network and 5 training pairs in 8.65 seconds\n",
      "Trained 150 rounds for a [1, 3, 1] network and 5 training pairs in 8.43 seconds\n",
      "Trained 150 rounds for a [1, 3, 1] network and 5 training pairs in 9.79 seconds\n",
      "Trained 150 rounds for a [1, 3, 1] network and 5 training pairs in 9.78 seconds\n",
      "Trained 150 rounds for a [1, 3, 1] network and 5 training pairs in 9.28 seconds\n",
      "Trained 150 rounds for a [1, 3, 1] network and 5 training pairs in 10.58 seconds\n",
      "Trained 150 rounds for a [1, 3, 1] network and 5 training pairs in 9.25 seconds\n",
      "Trained 150 rounds for a [1, 3, 1] network and 5 training pairs in 9.71 seconds\n",
      "Trained 150 rounds for a [1, 3, 1] network and 5 training pairs in 9.17 seconds\n",
      "Trained 150 rounds for a [1, 3, 1] network and 5 training pairs in 9.04 seconds\n",
      "Trained 150 rounds for a [1, 3, 1] network and 5 training pairs in 9.83 seconds\n",
      "Trained 150 rounds for a [1, 3, 1] network and 5 training pairs in 8.83 seconds\n",
      "n=10, i=0\n",
      "Trained 150 rounds for a [1, 3, 1] network and 10 training pairs in 17.01 seconds\n",
      "Trained 150 rounds for a [1, 3, 1] network and 10 training pairs in 16.15 seconds\n",
      "Trained 150 rounds for a [1, 3, 1] network and 10 training pairs in 16.38 seconds\n",
      "Trained 150 rounds for a [1, 3, 1] network and 10 training pairs in 16.39 seconds\n",
      "Trained 150 rounds for a [1, 3, 1] network and 10 training pairs in 16.33 seconds\n",
      "Trained 150 rounds for a [1, 3, 1] network and 10 training pairs in 16.32 seconds\n",
      "Trained 150 rounds for a [1, 3, 1] network and 10 training pairs in 16.25 seconds\n",
      "Trained 150 rounds for a [1, 3, 1] network and 10 training pairs in 16.17 seconds\n",
      "Trained 150 rounds for a [1, 3, 1] network and 10 training pairs in 16.23 seconds\n",
      "Trained 150 rounds for a [1, 3, 1] network and 10 training pairs in 16.66 seconds\n",
      "Trained 150 rounds for a [1, 3, 1] network and 10 training pairs in 16.51 seconds\n",
      "Trained 150 rounds for a [1, 3, 1] network and 10 training pairs in 16.24 seconds\n",
      "Trained 150 rounds for a [1, 3, 1] network and 10 training pairs in 16.31 seconds\n",
      "Trained 150 rounds for a [1, 3, 1] network and 10 training pairs in 16.44 seconds\n",
      "Trained 150 rounds for a [1, 3, 1] network and 10 training pairs in 16.48 seconds\n",
      "Trained 150 rounds for a [1, 3, 1] network and 10 training pairs in 16.35 seconds\n",
      "Trained 150 rounds for a [1, 3, 1] network and 10 training pairs in 15.5 seconds\n",
      "Trained 150 rounds for a [1, 3, 1] network and 10 training pairs in 17.07 seconds\n",
      "Trained 150 rounds for a [1, 3, 1] network and 10 training pairs in 17.19 seconds\n",
      "Trained 150 rounds for a [1, 3, 1] network and 10 training pairs in 18.09 seconds\n",
      "n=15, i=0\n",
      "Trained 150 rounds for a [1, 3, 1] network and 15 training pairs in 25.54 seconds\n",
      "Trained 150 rounds for a [1, 3, 1] network and 15 training pairs in 21.62 seconds\n",
      "Trained 150 rounds for a [1, 3, 1] network and 15 training pairs in 23.24 seconds\n",
      "Trained 150 rounds for a [1, 3, 1] network and 15 training pairs in 23.26 seconds\n",
      "Trained 150 rounds for a [1, 3, 1] network and 15 training pairs in 23.37 seconds\n",
      "Trained 150 rounds for a [1, 3, 1] network and 15 training pairs in 23.4 seconds\n",
      "Trained 150 rounds for a [1, 3, 1] network and 15 training pairs in 25.83 seconds\n",
      "Trained 150 rounds for a [1, 3, 1] network and 15 training pairs in 24.71 seconds\n",
      "Trained 150 rounds for a [1, 3, 1] network and 15 training pairs in 22.38 seconds\n",
      "Trained 150 rounds for a [1, 3, 1] network and 15 training pairs in 22.33 seconds\n",
      "Trained 150 rounds for a [1, 3, 1] network and 15 training pairs in 24.98 seconds\n",
      "Trained 150 rounds for a [1, 3, 1] network and 15 training pairs in 23.79 seconds\n",
      "Trained 150 rounds for a [1, 3, 1] network and 15 training pairs in 24.11 seconds\n",
      "Trained 150 rounds for a [1, 3, 1] network and 15 training pairs in 24.12 seconds\n",
      "Trained 150 rounds for a [1, 3, 1] network and 15 training pairs in 24.28 seconds\n",
      "Trained 150 rounds for a [1, 3, 1] network and 15 training pairs in 25.29 seconds\n",
      "Trained 150 rounds for a [1, 3, 1] network and 15 training pairs in 24.23 seconds\n",
      "Trained 150 rounds for a [1, 3, 1] network and 15 training pairs in 24.64 seconds\n",
      "Trained 150 rounds for a [1, 3, 1] network and 15 training pairs in 23.52 seconds\n",
      "Trained 150 rounds for a [1, 3, 1] network and 15 training pairs in 23.42 seconds\n",
      "n=20, i=0\n",
      "Trained 150 rounds for a [1, 3, 1] network and 20 training pairs in 30.99 seconds\n",
      "Trained 150 rounds for a [1, 3, 1] network and 20 training pairs in 30.9 seconds\n",
      "Trained 150 rounds for a [1, 3, 1] network and 20 training pairs in 30.0 seconds\n",
      "Trained 150 rounds for a [1, 3, 1] network and 20 training pairs in 31.0 seconds\n",
      "Trained 150 rounds for a [1, 3, 1] network and 20 training pairs in 30.75 seconds\n",
      "Trained 150 rounds for a [1, 3, 1] network and 20 training pairs in 30.52 seconds\n",
      "Trained 150 rounds for a [1, 3, 1] network and 20 training pairs in 31.57 seconds\n",
      "Trained 150 rounds for a [1, 3, 1] network and 20 training pairs in 31.32 seconds\n",
      "Trained 150 rounds for a [1, 3, 1] network and 20 training pairs in 31.12 seconds\n",
      "Trained 150 rounds for a [1, 3, 1] network and 20 training pairs in 30.79 seconds\n",
      "Trained 150 rounds for a [1, 3, 1] network and 20 training pairs in 31.43 seconds\n",
      "Trained 150 rounds for a [1, 3, 1] network and 20 training pairs in 30.88 seconds\n",
      "Trained 150 rounds for a [1, 3, 1] network and 20 training pairs in 30.92 seconds\n",
      "Trained 150 rounds for a [1, 3, 1] network and 20 training pairs in 31.25 seconds\n",
      "Trained 150 rounds for a [1, 3, 1] network and 20 training pairs in 30.9 seconds\n",
      "Trained 150 rounds for a [1, 3, 1] network and 20 training pairs in 30.9 seconds\n",
      "Trained 150 rounds for a [1, 3, 1] network and 20 training pairs in 30.82 seconds\n",
      "Trained 150 rounds for a [1, 3, 1] network and 20 training pairs in 30.89 seconds\n",
      "Trained 150 rounds for a [1, 3, 1] network and 20 training pairs in 31.22 seconds\n",
      "Trained 150 rounds for a [1, 3, 1] network and 20 training pairs in 30.81 seconds\n",
      "n=25, i=0\n",
      "Trained 150 rounds for a [1, 3, 1] network and 25 training pairs in 39.32 seconds\n",
      "Trained 150 rounds for a [1, 3, 1] network and 25 training pairs in 39.75 seconds\n",
      "Trained 150 rounds for a [1, 3, 1] network and 25 training pairs in 39.04 seconds\n",
      "Trained 150 rounds for a [1, 3, 1] network and 25 training pairs in 39.97 seconds\n",
      "Trained 150 rounds for a [1, 3, 1] network and 25 training pairs in 39.15 seconds\n",
      "Trained 150 rounds for a [1, 3, 1] network and 25 training pairs in 39.47 seconds\n",
      "Trained 150 rounds for a [1, 3, 1] network and 25 training pairs in 39.15 seconds\n",
      "Trained 150 rounds for a [1, 3, 1] network and 25 training pairs in 39.61 seconds\n",
      "Trained 150 rounds for a [1, 3, 1] network and 25 training pairs in 39.27 seconds\n",
      "Trained 150 rounds for a [1, 3, 1] network and 25 training pairs in 39.22 seconds\n",
      "Trained 150 rounds for a [1, 3, 1] network and 25 training pairs in 39.55 seconds\n",
      "Trained 150 rounds for a [1, 3, 1] network and 25 training pairs in 39.11 seconds\n",
      "Trained 150 rounds for a [1, 3, 1] network and 25 training pairs in 39.63 seconds\n",
      "Trained 150 rounds for a [1, 3, 1] network and 25 training pairs in 39.42 seconds\n",
      "Trained 150 rounds for a [1, 3, 1] network and 25 training pairs in 39.3 seconds\n",
      "Trained 150 rounds for a [1, 3, 1] network and 25 training pairs in 39.05 seconds\n",
      "Trained 150 rounds for a [1, 3, 1] network and 25 training pairs in 39.35 seconds\n",
      "Trained 150 rounds for a [1, 3, 1] network and 25 training pairs in 39.08 seconds\n",
      "Trained 150 rounds for a [1, 3, 1] network and 25 training pairs in 39.26 seconds\n",
      "Trained 150 rounds for a [1, 3, 1] network and 25 training pairs in 39.16 seconds\n",
      "n=30, i=0\n"
     ]
    },
    {
     "name": "stdout",
     "output_type": "stream",
     "text": [
      "Trained 150 rounds for a [1, 3, 1] network and 30 training pairs in 46.89 seconds\n",
      "Trained 150 rounds for a [1, 3, 1] network and 30 training pairs in 47.54 seconds\n",
      "Trained 150 rounds for a [1, 3, 1] network and 30 training pairs in 47.31 seconds\n",
      "Trained 150 rounds for a [1, 3, 1] network and 30 training pairs in 47.29 seconds\n",
      "Trained 150 rounds for a [1, 3, 1] network and 30 training pairs in 47.67 seconds\n",
      "Trained 150 rounds for a [1, 3, 1] network and 30 training pairs in 49.83 seconds\n",
      "Trained 150 rounds for a [1, 3, 1] network and 30 training pairs in 47.05 seconds\n",
      "Trained 150 rounds for a [1, 3, 1] network and 30 training pairs in 46.67 seconds\n",
      "Trained 150 rounds for a [1, 3, 1] network and 30 training pairs in 45.98 seconds\n",
      "Trained 150 rounds for a [1, 3, 1] network and 30 training pairs in 46.91 seconds\n",
      "Trained 150 rounds for a [1, 3, 1] network and 30 training pairs in 48.52 seconds\n",
      "Trained 150 rounds for a [1, 3, 1] network and 30 training pairs in 46.17 seconds\n",
      "Trained 150 rounds for a [1, 3, 1] network and 30 training pairs in 47.36 seconds\n",
      "Trained 150 rounds for a [1, 3, 1] network and 30 training pairs in 46.06 seconds\n",
      "Trained 150 rounds for a [1, 3, 1] network and 30 training pairs in 46.34 seconds\n",
      "Trained 150 rounds for a [1, 3, 1] network and 30 training pairs in 46.21 seconds\n",
      "Trained 150 rounds for a [1, 3, 1] network and 30 training pairs in 46.4 seconds\n",
      "Trained 150 rounds for a [1, 3, 1] network and 30 training pairs in 46.23 seconds\n",
      "Trained 150 rounds for a [1, 3, 1] network and 30 training pairs in 46.21 seconds\n",
      "Trained 150 rounds for a [1, 3, 1] network and 30 training pairs in 46.51 seconds\n",
      "n=35, i=0\n",
      "Trained 150 rounds for a [1, 3, 1] network and 35 training pairs in 53.9 seconds\n",
      "Trained 150 rounds for a [1, 3, 1] network and 35 training pairs in 54.51 seconds\n",
      "Trained 150 rounds for a [1, 3, 1] network and 35 training pairs in 53.85 seconds\n",
      "Trained 150 rounds for a [1, 3, 1] network and 35 training pairs in 53.68 seconds\n",
      "Trained 150 rounds for a [1, 3, 1] network and 35 training pairs in 54.1 seconds\n",
      "Trained 150 rounds for a [1, 3, 1] network and 35 training pairs in 53.44 seconds\n",
      "Trained 150 rounds for a [1, 3, 1] network and 35 training pairs in 53.89 seconds\n",
      "Trained 150 rounds for a [1, 3, 1] network and 35 training pairs in 53.94 seconds\n",
      "Trained 150 rounds for a [1, 3, 1] network and 35 training pairs in 53.88 seconds\n",
      "Trained 150 rounds for a [1, 3, 1] network and 35 training pairs in 53.54 seconds\n",
      "Trained 150 rounds for a [1, 3, 1] network and 35 training pairs in 53.43 seconds\n",
      "Trained 150 rounds for a [1, 3, 1] network and 35 training pairs in 53.95 seconds\n",
      "Trained 150 rounds for a [1, 3, 1] network and 35 training pairs in 53.54 seconds\n",
      "Trained 150 rounds for a [1, 3, 1] network and 35 training pairs in 54.14 seconds\n",
      "Trained 150 rounds for a [1, 3, 1] network and 35 training pairs in 53.59 seconds\n",
      "Trained 150 rounds for a [1, 3, 1] network and 35 training pairs in 54.16 seconds\n",
      "Trained 150 rounds for a [1, 3, 1] network and 35 training pairs in 54.02 seconds\n",
      "Trained 150 rounds for a [1, 3, 1] network and 35 training pairs in 54.03 seconds\n",
      "Trained 150 rounds for a [1, 3, 1] network and 35 training pairs in 54.0 seconds\n",
      "Trained 150 rounds for a [1, 3, 1] network and 35 training pairs in 53.74 seconds\n",
      "n=40, i=0\n",
      "Trained 150 rounds for a [1, 3, 1] network and 40 training pairs in 61.13 seconds\n",
      "Trained 150 rounds for a [1, 3, 1] network and 40 training pairs in 60.8 seconds\n",
      "Trained 150 rounds for a [1, 3, 1] network and 40 training pairs in 61.39 seconds\n",
      "Trained 150 rounds for a [1, 3, 1] network and 40 training pairs in 61.41 seconds\n",
      "Trained 150 rounds for a [1, 3, 1] network and 40 training pairs in 61.65 seconds\n",
      "Trained 150 rounds for a [1, 3, 1] network and 40 training pairs in 61.32 seconds\n",
      "Trained 150 rounds for a [1, 3, 1] network and 40 training pairs in 61.37 seconds\n",
      "Trained 150 rounds for a [1, 3, 1] network and 40 training pairs in 61.84 seconds\n",
      "Trained 150 rounds for a [1, 3, 1] network and 40 training pairs in 61.65 seconds\n",
      "Trained 150 rounds for a [1, 3, 1] network and 40 training pairs in 61.57 seconds\n",
      "Trained 150 rounds for a [1, 3, 1] network and 40 training pairs in 61.36 seconds\n",
      "Trained 150 rounds for a [1, 3, 1] network and 40 training pairs in 62.37 seconds\n",
      "Trained 150 rounds for a [1, 3, 1] network and 40 training pairs in 62.16 seconds\n",
      "Trained 150 rounds for a [1, 3, 1] network and 40 training pairs in 65.4 seconds\n",
      "Trained 150 rounds for a [1, 3, 1] network and 40 training pairs in 63.02 seconds\n",
      "Trained 150 rounds for a [1, 3, 1] network and 40 training pairs in 61.64 seconds\n",
      "Trained 150 rounds for a [1, 3, 1] network and 40 training pairs in 61.42 seconds\n",
      "Trained 150 rounds for a [1, 3, 1] network and 40 training pairs in 61.32 seconds\n",
      "Trained 150 rounds for a [1, 3, 1] network and 40 training pairs in 61.54 seconds\n",
      "Trained 150 rounds for a [1, 3, 1] network and 40 training pairs in 66.24 seconds\n",
      "n=45, i=0\n",
      "Trained 150 rounds for a [1, 3, 1] network and 45 training pairs in 72.31 seconds\n",
      "Trained 150 rounds for a [1, 3, 1] network and 45 training pairs in 73.81 seconds\n",
      "Trained 150 rounds for a [1, 3, 1] network and 45 training pairs in 70.81 seconds\n",
      "Trained 150 rounds for a [1, 3, 1] network and 45 training pairs in 70.28 seconds\n",
      "Trained 150 rounds for a [1, 3, 1] network and 45 training pairs in 69.54 seconds\n",
      "Trained 150 rounds for a [1, 3, 1] network and 45 training pairs in 68.99 seconds\n",
      "Trained 150 rounds for a [1, 3, 1] network and 45 training pairs in 69.65 seconds\n",
      "Trained 150 rounds for a [1, 3, 1] network and 45 training pairs in 69.8 seconds\n",
      "Trained 150 rounds for a [1, 3, 1] network and 45 training pairs in 68.67 seconds\n",
      "Trained 150 rounds for a [1, 3, 1] network and 45 training pairs in 69.05 seconds\n",
      "Trained 150 rounds for a [1, 3, 1] network and 45 training pairs in 68.83 seconds\n",
      "Trained 150 rounds for a [1, 3, 1] network and 45 training pairs in 68.77 seconds\n",
      "Trained 150 rounds for a [1, 3, 1] network and 45 training pairs in 69.48 seconds\n",
      "Trained 150 rounds for a [1, 3, 1] network and 45 training pairs in 68.89 seconds\n",
      "Trained 150 rounds for a [1, 3, 1] network and 45 training pairs in 70.11 seconds\n",
      "Trained 150 rounds for a [1, 3, 1] network and 45 training pairs in 68.85 seconds\n",
      "Trained 150 rounds for a [1, 3, 1] network and 45 training pairs in 68.92 seconds\n",
      "Trained 150 rounds for a [1, 3, 1] network and 45 training pairs in 74.39 seconds\n",
      "Trained 150 rounds for a [1, 3, 1] network and 45 training pairs in 71.14 seconds\n",
      "Trained 150 rounds for a [1, 3, 1] network and 45 training pairs in 71.57 seconds\n",
      "7101.560897827148\n"
     ]
    },
    {
     "data": {
      "image/png": "[encoded data removed]",
      "text/plain": [
       "<Figure size 432x288 with 1 Axes>"
      ]
     },
     "metadata": {
      "needs_background": "light"
     },
     "output_type": "display_data"
    }
   ],
   "source": [
    "subsetNetwork131 = randomNetwork([1,3,1], 50)\n",
    "\n",
    "start = time() #Optional\n",
    "\n",
    "pointsX = [5,10,15,20,25,30,35,40,45]\n",
    "pointsAverage131 = [subsetTrainingAvg(subsetNetwork131[0], subsetNetwork131[1], subsetNetwork131[2], 1.5, 0.1, 150, 20, n, 1000, alertIt=20) for n in pointsX]\n",
    "\n",
    "print(time() - start) #Optional\n",
    "\n",
    "pointsAverageCost131 = []\n",
    "pointsAverageError131 = []\n",
    "for k in range(len(pointsAverage131)):\n",
    "    pointsAverageCost131.append(pointsAverage131[k][0])\n",
    "    pointsAverageError131.append(pointsAverage131[k][1])\n",
    "plt.plot(pointsX, pointsAverageError131, 'bo')\n",
    "plt.show()"
   ]
  },
  {
   "cell_type": "code",
   "execution_count": 26,
   "metadata": {},
   "outputs": [],
   "source": [
    "exporttocsv('averagecost131.csv', [pointsX,pointsAverageCost131])\n",
    "exporttocsv('averageerror131.csv', [pointsX,pointsAverageError131])"
   ]
  },
  {
   "cell_type": "markdown",
   "metadata": {},
   "source": [
    "## 2.4 Robustness to noisy data"
   ]
  },
  {
   "cell_type": "code",
   "execution_count": 44,
   "metadata": {},
   "outputs": [],
   "source": [
    "noiseTrainingData = randomTrainingData(100)\n",
    "noiseNoisyData = [[randomQubitState(1), choice([qubit0,qubit1])] for i in range(100)]\n",
    "noiseWrongData = wrongLabelData(100)"
   ]
  },
  {
   "cell_type": "markdown",
   "metadata": {},
   "source": [
    "### 1-1 network"
   ]
  },
  {
   "cell_type": "markdown",
   "metadata": {},
   "source": [
    "#### parts of the data replaced by states with random labels:"
   ]
  },
  {
   "cell_type": "code",
   "execution_count": 45,
   "metadata": {},
   "outputs": [
    {
     "name": "stdout",
     "output_type": "stream",
     "text": [
      "Trained 300 rounds for a [1, 1] network and 100 training pairs in 79.84 seconds\n",
      "Trained 300 rounds for a [1, 1] network and 100 training pairs in 76.33 seconds\n",
      "Trained 300 rounds for a [1, 1] network and 100 training pairs in 70.74 seconds\n",
      "Trained 300 rounds for a [1, 1] network and 100 training pairs in 67.53 seconds\n",
      "Trained 300 rounds for a [1, 1] network and 100 training pairs in 68.26 seconds\n",
      "Trained 300 rounds for a [1, 1] network and 100 training pairs in 68.71 seconds\n",
      "Trained 300 rounds for a [1, 1] network and 100 training pairs in 67.72 seconds\n",
      "Trained 300 rounds for a [1, 1] network and 100 training pairs in 68.13 seconds\n",
      "Trained 300 rounds for a [1, 1] network and 100 training pairs in 67.96 seconds\n",
      "Trained 300 rounds for a [1, 1] network and 100 training pairs in 80.54 seconds\n",
      "Trained 300 rounds for a [1, 1] network and 100 training pairs in 98.74 seconds\n",
      "Trained 300 rounds for a [1, 1] network and 100 training pairs in 69.94 seconds\n",
      "Trained 300 rounds for a [1, 1] network and 100 training pairs in 72.6 seconds\n",
      "Trained 300 rounds for a [1, 1] network and 100 training pairs in 68.13 seconds\n",
      "Trained 300 rounds for a [1, 1] network and 100 training pairs in 71.01 seconds\n",
      "Trained 300 rounds for a [1, 1] network and 100 training pairs in 70.9 seconds\n",
      "Trained 300 rounds for a [1, 1] network and 100 training pairs in 70.66 seconds\n",
      "Trained 300 rounds for a [1, 1] network and 100 training pairs in 69.01 seconds\n",
      "Trained 300 rounds for a [1, 1] network and 100 training pairs in 68.36 seconds\n",
      "Trained 300 rounds for a [1, 1] network and 100 training pairs in 72.37 seconds\n",
      "Trained 300 rounds for a [1, 1] network and 100 training pairs in 68.64 seconds\n",
      "1523.241236448288\n"
     ]
    },
    {
     "data": {
      "image/png": "[encoded data removed]",
      "text/plain": [
       "<Figure size 432x288 with 1 Axes>"
      ]
     },
     "metadata": {
      "needs_background": "light"
     },
     "output_type": "display_data"
    }
   ],
   "source": [
    "start = time() #Optional\n",
    "\n",
    "noiseNetwork11 = randomNetwork([1,1], 0)\n",
    "noisePlotList11, noiseNewList11 = noisyDataTraining(noiseNetwork11[0], noiseNetwork11[1], noiseTrainingData.copy(), noiseNoisyData.copy(), 1, 0.1, 300, 100, 5)\n",
    "\n",
    "print(time() - start) #Optional\n",
    "\n",
    "plt.plot(noisePlotList11[0], noisePlotList11[1], 'go')\n",
    "plt.show() "
   ]
  },
  {
   "cell_type": "markdown",
   "metadata": {},
   "source": [
    "rate of wrong classifications:"
   ]
  },
  {
   "cell_type": "code",
   "execution_count": 46,
   "metadata": {},
   "outputs": [
    {
     "data": {
      "image/png": "[encoded data removed]",
      "text/plain": [
       "<Figure size 432x288 with 1 Axes>"
      ]
     },
     "metadata": {
      "needs_background": "light"
     },
     "output_type": "display_data"
    }
   ],
   "source": [
    "plt.plot(noiseNewList11[0], noiseNewList11[1], 'go')\n",
    "plt.show() "
   ]
  },
  {
   "cell_type": "code",
   "execution_count": 47,
   "metadata": {},
   "outputs": [],
   "source": [
    "exporttocsv('noisecost11.csv',noisePlotList11)\n",
    "exporttocsv('noiseerror11.csv',noiseNewList11)"
   ]
  },
  {
   "cell_type": "markdown",
   "metadata": {},
   "source": [
    "#### parts of the data replaced by states with wrong labels:"
   ]
  },
  {
   "cell_type": "code",
   "execution_count": 48,
   "metadata": {},
   "outputs": [
    {
     "name": "stdout",
     "output_type": "stream",
     "text": [
      "Trained 300 rounds for a [1, 1] network and 100 training pairs in 69.39 seconds\n",
      "Trained 300 rounds for a [1, 1] network and 100 training pairs in 70.54 seconds\n",
      "Trained 300 rounds for a [1, 1] network and 100 training pairs in 70.83 seconds\n",
      "Trained 300 rounds for a [1, 1] network and 100 training pairs in 70.58 seconds\n",
      "Trained 300 rounds for a [1, 1] network and 100 training pairs in 68.94 seconds\n",
      "Trained 300 rounds for a [1, 1] network and 100 training pairs in 69.27 seconds\n",
      "Trained 300 rounds for a [1, 1] network and 100 training pairs in 73.63 seconds\n",
      "Trained 300 rounds for a [1, 1] network and 100 training pairs in 70.68 seconds\n",
      "Trained 300 rounds for a [1, 1] network and 100 training pairs in 68.87 seconds\n",
      "Trained 300 rounds for a [1, 1] network and 100 training pairs in 70.2 seconds\n",
      "Trained 300 rounds for a [1, 1] network and 100 training pairs in 69.83 seconds\n",
      "Trained 300 rounds for a [1, 1] network and 100 training pairs in 72.27 seconds\n",
      "Trained 300 rounds for a [1, 1] network and 100 training pairs in 68.87 seconds\n",
      "Trained 300 rounds for a [1, 1] network and 100 training pairs in 70.7 seconds\n",
      "Trained 300 rounds for a [1, 1] network and 100 training pairs in 71.15 seconds\n",
      "Trained 300 rounds for a [1, 1] network and 100 training pairs in 68.46 seconds\n",
      "Trained 300 rounds for a [1, 1] network and 100 training pairs in 70.06 seconds\n",
      "Trained 300 rounds for a [1, 1] network and 100 training pairs in 71.16 seconds\n",
      "Trained 300 rounds for a [1, 1] network and 100 training pairs in 69.16 seconds\n",
      "Trained 300 rounds for a [1, 1] network and 100 training pairs in 77.65 seconds\n",
      "Trained 300 rounds for a [1, 1] network and 100 training pairs in 75.08 seconds\n",
      "1494.3553762435913\n"
     ]
    },
    {
     "data": {
      "image/png": "[encoded data removed]",
      "text/plain": [
       "<Figure size 432x288 with 1 Axes>"
      ]
     },
     "metadata": {
      "needs_background": "light"
     },
     "output_type": "display_data"
    }
   ],
   "source": [
    "start = time() #Optional\n",
    "\n",
    "wrongLabelNetwork11 = randomNetwork([1,1], 0)\n",
    "wrongLabelPlotList11, wrongLabelNewList11 = noisyDataTraining(wrongLabelNetwork11[0], wrongLabelNetwork11[1], noiseTrainingData.copy(), noiseWrongData.copy(), 1, 0.1, 300, 100, 5)\n",
    "\n",
    "print(time() - start) #Optional\n",
    "\n",
    "plt.plot(wrongLabelPlotList11[0], wrongLabelPlotList11[1], 'go')\n",
    "plt.show() "
   ]
  },
  {
   "cell_type": "markdown",
   "metadata": {},
   "source": [
    "rate of wrong classifications:"
   ]
  },
  {
   "cell_type": "code",
   "execution_count": 49,
   "metadata": {},
   "outputs": [
    {
     "data": {
      "image/png": "[encoded data removed]",
      "text/plain": [
       "<Figure size 432x288 with 1 Axes>"
      ]
     },
     "metadata": {
      "needs_background": "light"
     },
     "output_type": "display_data"
    }
   ],
   "source": [
    "plt.plot(wrongLabelNewList11[0], wrongLabelNewList11[1], 'go')\n",
    "plt.show() "
   ]
  },
  {
   "cell_type": "code",
   "execution_count": 50,
   "metadata": {},
   "outputs": [],
   "source": [
    "exporttocsv('wronglabelcost11.csv',wrongLabelPlotList11)\n",
    "exporttocsv('wronglabelerror11.csv',wrongLabelNewList11)"
   ]
  },
  {
   "cell_type": "markdown",
   "metadata": {},
   "source": [
    "### 1-3-1 network"
   ]
  },
  {
   "cell_type": "markdown",
   "metadata": {},
   "source": [
    "#### parts of the data replaced by states with random labels:"
   ]
  },
  {
   "cell_type": "code",
   "execution_count": 51,
   "metadata": {},
   "outputs": [
    {
     "name": "stdout",
     "output_type": "stream",
     "text": [
      "Trained 100 rounds for a [1, 3, 1] network and 100 training pairs in 109.61 seconds\n",
      "Trained 100 rounds for a [1, 3, 1] network and 100 training pairs in 110.58 seconds\n",
      "Trained 100 rounds for a [1, 3, 1] network and 100 training pairs in 112.87 seconds\n",
      "Trained 100 rounds for a [1, 3, 1] network and 100 training pairs in 102.07 seconds\n",
      "Trained 100 rounds for a [1, 3, 1] network and 100 training pairs in 106.12 seconds\n",
      "Trained 100 rounds for a [1, 3, 1] network and 100 training pairs in 97.73 seconds\n",
      "Trained 100 rounds for a [1, 3, 1] network and 100 training pairs in 102.3 seconds\n",
      "Trained 100 rounds for a [1, 3, 1] network and 100 training pairs in 99.45 seconds\n",
      "Trained 100 rounds for a [1, 3, 1] network and 100 training pairs in 100.53 seconds\n",
      "Trained 100 rounds for a [1, 3, 1] network and 100 training pairs in 98.77 seconds\n",
      "Trained 100 rounds for a [1, 3, 1] network and 100 training pairs in 99.75 seconds\n",
      "Trained 100 rounds for a [1, 3, 1] network and 100 training pairs in 97.77 seconds\n",
      "Trained 100 rounds for a [1, 3, 1] network and 100 training pairs in 98.5 seconds\n",
      "Trained 100 rounds for a [1, 3, 1] network and 100 training pairs in 99.68 seconds\n",
      "Trained 100 rounds for a [1, 3, 1] network and 100 training pairs in 97.7 seconds\n",
      "Trained 100 rounds for a [1, 3, 1] network and 100 training pairs in 98.46 seconds\n",
      "Trained 100 rounds for a [1, 3, 1] network and 100 training pairs in 97.92 seconds\n",
      "Trained 100 rounds for a [1, 3, 1] network and 100 training pairs in 97.17 seconds\n",
      "Trained 100 rounds for a [1, 3, 1] network and 100 training pairs in 100.08 seconds\n",
      "Trained 100 rounds for a [1, 3, 1] network and 100 training pairs in 97.66 seconds\n",
      "Trained 100 rounds for a [1, 3, 1] network and 100 training pairs in 98.03 seconds\n",
      "2134.679942846298\n"
     ]
    },
    {
     "data": {
      "image/png": "[encoded data removed]",
      "text/plain": [
       "<Figure size 432x288 with 1 Axes>"
      ]
     },
     "metadata": {
      "needs_background": "light"
     },
     "output_type": "display_data"
    }
   ],
   "source": [
    "start = time() #Optional\n",
    "\n",
    "noiseNetwork131 = randomNetwork([1,3,1], 0)\n",
    "noisePlotList131, noiseNewList131 = noisyDataTraining(noiseNetwork131[0], noiseNetwork131[1], noiseTrainingData.copy(), noiseNoisyData.copy(), 1, 0.1, 100, 100, 5)\n",
    "\n",
    "print(time() - start) #Optional\n",
    "\n",
    "plt.plot(noisePlotList131[0], noisePlotList131[1], 'go')\n",
    "plt.show()"
   ]
  },
  {
   "cell_type": "markdown",
   "metadata": {},
   "source": [
    "rate of wrong classifications:"
   ]
  },
  {
   "cell_type": "code",
   "execution_count": 52,
   "metadata": {},
   "outputs": [
    {
     "data": {
      "image/png": "[encoded data removed]",
      "text/plain": [
       "<Figure size 432x288 with 1 Axes>"
      ]
     },
     "metadata": {
      "needs_background": "light"
     },
     "output_type": "display_data"
    }
   ],
   "source": [
    "plt.plot(noiseNewList131[0], noiseNewList131[1], 'go')\n",
    "plt.show()"
   ]
  },
  {
   "cell_type": "code",
   "execution_count": 53,
   "metadata": {},
   "outputs": [],
   "source": [
    "exporttocsv('noisecost131.csv',noisePlotList131)\n",
    "exporttocsv('noiseerror131.csv',noiseNewList131)"
   ]
  },
  {
   "cell_type": "markdown",
   "metadata": {},
   "source": [
    "#### parts of the data replaced by states with wrong labels:"
   ]
  },
  {
   "cell_type": "code",
   "execution_count": 54,
   "metadata": {},
   "outputs": [
    {
     "name": "stdout",
     "output_type": "stream",
     "text": [
      "Trained 100 rounds for a [1, 3, 1] network and 100 training pairs in 98.55 seconds\n",
      "Trained 100 rounds for a [1, 3, 1] network and 100 training pairs in 98.83 seconds\n",
      "Trained 100 rounds for a [1, 3, 1] network and 100 training pairs in 102.17 seconds\n",
      "Trained 100 rounds for a [1, 3, 1] network and 100 training pairs in 101.0 seconds\n",
      "Trained 100 rounds for a [1, 3, 1] network and 100 training pairs in 99.4 seconds\n",
      "Trained 100 rounds for a [1, 3, 1] network and 100 training pairs in 99.42 seconds\n",
      "Trained 100 rounds for a [1, 3, 1] network and 100 training pairs in 99.67 seconds\n",
      "Trained 100 rounds for a [1, 3, 1] network and 100 training pairs in 99.37 seconds\n",
      "Trained 100 rounds for a [1, 3, 1] network and 100 training pairs in 99.47 seconds\n",
      "Trained 100 rounds for a [1, 3, 1] network and 100 training pairs in 98.76 seconds\n",
      "Trained 100 rounds for a [1, 3, 1] network and 100 training pairs in 100.93 seconds\n",
      "Trained 100 rounds for a [1, 3, 1] network and 100 training pairs in 98.64 seconds\n",
      "Trained 100 rounds for a [1, 3, 1] network and 100 training pairs in 99.61 seconds\n",
      "Trained 100 rounds for a [1, 3, 1] network and 100 training pairs in 100.14 seconds\n",
      "Trained 100 rounds for a [1, 3, 1] network and 100 training pairs in 104.75 seconds\n",
      "Trained 100 rounds for a [1, 3, 1] network and 100 training pairs in 101.22 seconds\n",
      "Trained 100 rounds for a [1, 3, 1] network and 100 training pairs in 101.27 seconds\n",
      "Trained 100 rounds for a [1, 3, 1] network and 100 training pairs in 101.19 seconds\n",
      "Trained 100 rounds for a [1, 3, 1] network and 100 training pairs in 99.16 seconds\n",
      "Trained 100 rounds for a [1, 3, 1] network and 100 training pairs in 118.03 seconds\n",
      "Trained 100 rounds for a [1, 3, 1] network and 100 training pairs in 123.72 seconds\n",
      "2157.5480189323425\n"
     ]
    },
    {
     "data": {
      "image/png": "[encoded data removed]",
      "text/plain": [
       "<Figure size 432x288 with 1 Axes>"
      ]
     },
     "metadata": {
      "needs_background": "light"
     },
     "output_type": "display_data"
    }
   ],
   "source": [
    "start = time() #Optional\n",
    "\n",
    "wrongLabelNetwork131 = randomNetwork([1,3,1], 0)\n",
    "wrongLabelPlotList131, wrongLabelNewList131 = noisyDataTraining(wrongLabelNetwork131[0], wrongLabelNetwork131[1], noiseTrainingData.copy(), noiseWrongData.copy(), 1, 0.1, 100, 100, 5)\n",
    "\n",
    "print(time() - start) #Optional\n",
    "\n",
    "plt.plot(wrongLabelPlotList131[0], wrongLabelPlotList131[1], 'go')\n",
    "plt.show()"
   ]
  },
  {
   "cell_type": "markdown",
   "metadata": {},
   "source": [
    "rate of wrong classifications:"
   ]
  },
  {
   "cell_type": "code",
   "execution_count": 55,
   "metadata": {},
   "outputs": [
    {
     "data": {
      "image/png": "[encoded data removed]",
      "text/plain": [
       "<Figure size 432x288 with 1 Axes>"
      ]
     },
     "metadata": {
      "needs_background": "light"
     },
     "output_type": "display_data"
    }
   ],
   "source": [
    "plt.plot(wrongLabelNewList131[0], wrongLabelNewList131[1], 'go')\n",
    "plt.show()"
   ]
  },
  {
   "cell_type": "code",
   "execution_count": 56,
   "metadata": {},
   "outputs": [],
   "source": [
    "exporttocsv('wronglabelcost131.csv',wrongLabelPlotList131)\n",
    "exporttocsv('wronglabelerror131.csv',wrongLabelNewList131)"
   ]
  }
 ],
 "metadata": {
  "kernelspec": {
   "display_name": "Python 3",
   "language": "python",
   "name": "python3"
  },
  "language_info": {
   "codemirror_mode": {
    "name": "ipython",
    "version": 3
   },
   "file_extension": ".py",
   "mimetype": "text/x-python",
   "name": "python",
   "nbconvert_exporter": "python",
   "pygments_lexer": "ipython3",
   "version": "3.7.4"
  }
 },
 "nbformat": 4,
 "nbformat_minor": 2
}
