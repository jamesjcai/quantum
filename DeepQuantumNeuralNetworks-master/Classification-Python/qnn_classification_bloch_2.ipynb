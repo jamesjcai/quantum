{
 "cells": [
  {
   "cell_type": "markdown",
   "metadata": {},
   "source": [
    "# 1. Code for Classification with the QNN - part 2"
   ]
  },
  {
   "cell_type": "markdown",
   "metadata": {},
   "source": [
    "In this version, the examples of training data are more varied than in the first one. In case one also aims for Subset Training or Training with noisy data as done there, some small changes are necessary. Attention must be paid to the slightly different creation of training data and the modificated function $\\text{howmanywrong2}$ then."
   ]
  },
  {
   "cell_type": "markdown",
   "metadata": {},
   "source": [
    "## 1.1 Package-imports, universal definitions and remarks"
   ]
  },
  {
   "cell_type": "markdown",
   "metadata": {},
   "source": [
    "Import the relevant packages:"
   ]
  },
  {
   "cell_type": "code",
   "execution_count": 1,
   "metadata": {},
   "outputs": [],
   "source": [
    "#math related packages\n",
    "import numpy as np\n",
    "import scipy as sc\n",
    "import qutip as qt\n",
    "#further packages\n",
    "from time import time\n",
    "from random import sample\n",
    "from random import choice\n",
    "import matplotlib.pyplot as plt\n",
    "import csv"
   ]
  },
  {
   "cell_type": "markdown",
   "metadata": {},
   "source": [
    "Declaration of qubit kets and density matrices:"
   ]
  },
  {
   "cell_type": "code",
   "execution_count": 2,
   "metadata": {},
   "outputs": [],
   "source": [
    "#ket states\n",
    "qubit0 = qt.basis(2,0)\n",
    "qubit1 = qt.basis(2,1)\n",
    "#density matrices\n",
    "qubit0mat = qubit0 * qubit0.dag()\n",
    "qubit1mat = qubit1 * qubit1.dag()"
   ]
  },
  {
   "cell_type": "markdown",
   "metadata": {},
   "source": [
    "Declaring functions for Dirac notation:\n",
    "\n",
    "$$\\newcommand{\\ket}[1]{\\left|{#1}\\right\\rangle}$$\n",
    "$$\\newcommand{\\bra}[1]{\\left\\langle{#1}\\right|}$$"
   ]
  },
  {
   "cell_type": "markdown",
   "metadata": {},
   "source": [
    "### Data conventions\n",
    "\n",
    "The parameter QNN-Architecture $\\text{qnnArch}$ describes the structure of a quantum neural network. It is expected to be a 1-dimensional list of natural numbers that which refer to the number of perceptrons in the corresponding layer. E.g. a 2-3-2 network would be given by $\\text{qnnArch = [2, 3, 2]}$\n",
    "\n",
    "\n",
    "Any parameter $\\text{unitaries}$ is expected to be a 2-dimensional list of the networks perceptron unitaries (qutip.Qobj) given in a tensored state like\n",
    "\n",
    "$$\\text{unitaries}  = \\big[ [\\, ],[U_1^1, \\dots, U_{m_1}^1], \\dots, [U_1^l, \\dots, U_{m_l}^l], \\dots, [U_1^{out}, \\dots, U_{m_{out}}^{out}]\\big]$$\n",
    "\n",
    "$$\\text{unitaries[l][j]} = U_{j+1}^l$$\n",
    "\n",
    "(The latter formula assumes that zero-indexing is not used for the perceptron unitaries, as is indicated in the former formula)\n",
    "\n",
    "\n",
    "Any parameter $\\text{trainingData}$ is expected to be a 2-dimensional list, where every inner list has exactly two elements like\n",
    "\n",
    "$$trainingData = \\big[ [\\text{state}_1,\\, \\text{qubit0/1}], \\dots , [\\text{state}_N,\\, \\text{qubit0/1}] \\big]$$\n",
    "\n",
    "where $\\text{unitary}$ is the targeted network unitary."
   ]
  },
  {
   "cell_type": "markdown",
   "metadata": {},
   "source": [
    "## 1.2 Helper functions for the QNN-Code"
   ]
  },
  {
   "cell_type": "markdown",
   "metadata": {},
   "source": [
    "### Partial Trace\n",
    "\n",
    "The $\\text{partialTrace}$ functions assume to be given a quantum object (qutip.Qobj) $\\text{obj}$ that is the tensor product of m factors $\\{0, 1, \\dots, m-1\\}$. The functions then calculate and return the partial trace as follows:\n",
    "\n",
    "$\\text{partialTraceRem}$ traces out the factors $$\\text{rem} \\subsetneq \\{0, \\dots, m-1\\}$$\n",
    "\n",
    "$\\text{partialTraceKeep}$ traces out the factors $$\\big( \\{0, \\dots, m-1\\} \\setminus \\text{keep}\\big) \\subsetneq \\{0, \\dots, m-1\\}$$\n",
    "\n",
    "No duplicates in $\\text{rem}$ allowed. No values $\\geq m$ in $\\text{rem}$ or $\\text{keep}$ allowed."
   ]
  },
  {
   "cell_type": "code",
   "execution_count": 3,
   "metadata": {},
   "outputs": [],
   "source": [
    "def partialTraceRem(obj, rem):\n",
    "    #prepare keep list\n",
    "    rem.sort(reverse=True)\n",
    "    keep = list(range(len(obj.dims[0])))\n",
    "    for x in rem:\n",
    "        keep.pop(x)\n",
    "    #return partial trace:\n",
    "    res = obj.ptrace(keep)\n",
    "    return res\n",
    "\n",
    "def partialTraceKeep(obj, keep):\n",
    "    #return partial trace:\n",
    "    return obj.ptrace(keep)"
   ]
  },
  {
   "cell_type": "markdown",
   "metadata": {},
   "source": [
    "### Basis swap\n",
    "\n",
    "$\\text{swappedOp}$ assumes to be given a quantum object (qutip.Qobj) $\\text{obj}$ that is the tensor product of $m$ factors. For\n",
    "\n",
    "$$\\text{obj} = A_0 \\otimes \\dots \\otimes A_i \\otimes \\dots \\otimes A_j \\otimes \\dots A_{m-1}$$\n",
    "\n",
    "the function returns\n",
    "\n",
    "$$A_0 \\otimes \\dots \\otimes A_j \\otimes \\dots \\otimes A_i \\otimes \\dots A_{m-1}$$\n",
    "\n",
    "where $i, j \\in \\{1, \\dots, m \\}$."
   ]
  },
  {
   "cell_type": "code",
   "execution_count": 4,
   "metadata": {},
   "outputs": [],
   "source": [
    "def swappedOp(obj, i, j):\n",
    "    if i==j: return obj\n",
    "    numberOfQubits = len(obj.dims[0])\n",
    "    permute = list(range(numberOfQubits))\n",
    "    permute[i], permute[j] = permute[j], permute[i]\n",
    "    return obj.permute(permute)"
   ]
  },
  {
   "cell_type": "markdown",
   "metadata": {},
   "source": [
    "### Further functions\n",
    "\n",
    "$\\text{tensoredId}$ returns $\\underbrace{\\mathbb{1}_2 \\otimes \\dots \\otimes \\mathbb{1}_2}_{N \\text{-times}}$\n",
    "\n",
    "$\\text{tensoredQubit0}$ returns $\\ket{0 \\dots 0}_N \\bra{0 \\dots 0}$"
   ]
  },
  {
   "cell_type": "code",
   "execution_count": 5,
   "metadata": {},
   "outputs": [],
   "source": [
    "def tensoredId(N):\n",
    "    #Make Identity matrix\n",
    "    res = qt.qeye(2**N)\n",
    "    #Make dims list\n",
    "    dims = [2 for i in range(N)]\n",
    "    dims = [dims.copy(), dims.copy()]\n",
    "    res.dims = dims\n",
    "    #Return\n",
    "    return res\n",
    "\n",
    "def tensoredQubit0(N):\n",
    "    #Make Qubit matrix\n",
    "    res = qt.fock(2**N).proj() #For some reason ran faster than fock_dm(2**N) in tests\n",
    "    #Make dims list\n",
    "    dims = [2 for i in range(N)]\n",
    "    dims = [dims.copy(), dims.copy()]\n",
    "    res.dims = dims\n",
    "    #Return\n",
    "    return res"
   ]
  },
  {
   "cell_type": "markdown",
   "metadata": {},
   "source": [
    "$\\text{unitariesCopy}$ assumes to be given $\\text{unitaries}$ as usual and returns a deep copy of it, meaning a new 2-dimensional list where every element is a copy of the element at the same position in the given 2d-list."
   ]
  },
  {
   "cell_type": "code",
   "execution_count": 6,
   "metadata": {},
   "outputs": [],
   "source": [
    "def unitariesCopy(unitaries):\n",
    "    newUnitaries = []\n",
    "    for layer in unitaries:\n",
    "        newLayer = []\n",
    "        for unitary in layer:\n",
    "            newLayer.append(unitary.copy())\n",
    "        newUnitaries.append(newLayer)\n",
    "    return newUnitaries"
   ]
  },
  {
   "cell_type": "markdown",
   "metadata": {},
   "source": [
    "## 1.3 Random generation of unitaries, training data and networks"
   ]
  },
  {
   "cell_type": "markdown",
   "metadata": {},
   "source": [
    "### Generation of random unitaries:\n",
    "\n",
    "$\\text{randomQubitUnitary}$ return a unitary $2^{\\text{numQubits}} \\times 2^{\\text{numQubits}}$-matrix as a quantum object (qutip.Qobj) that is the tensor product of $\\text{numQubits}$ factors. Before orthogonalization, it's elements are randomly picked out of a normal distribution."
   ]
  },
  {
   "cell_type": "code",
   "execution_count": 7,
   "metadata": {},
   "outputs": [],
   "source": [
    "def randomQubitUnitary(numQubits):\n",
    "    dim = 2**numQubits\n",
    "    #Make unitary matrix\n",
    "    res = sc.random.normal(size=(dim,dim)) + 1j * sc.random.normal(size=(dim,dim))\n",
    "    res = sc.linalg.orth(res)\n",
    "    res = qt.Qobj(res)\n",
    "    #Make dims list\n",
    "    dims = [2 for i in range(numQubits)]\n",
    "    dims = [dims.copy(), dims.copy()]\n",
    "    res.dims = dims\n",
    "    #Return\n",
    "    return res"
   ]
  },
  {
   "cell_type": "markdown",
   "metadata": {},
   "source": [
    "### Bloch sphere"
   ]
  },
  {
   "cell_type": "markdown",
   "metadata": {},
   "source": [
    "$\\text{blochvec}$ maps an input state (as a density matrix) to a vector on the bloch sphere:"
   ]
  },
  {
   "cell_type": "code",
   "execution_count": 8,
   "metadata": {},
   "outputs": [],
   "source": [
    "def blochvec(inputState):\n",
    "     mat = 2 * sc.array(inputState)\n",
    "     x = mat[0][1].real\n",
    "     y = mat[1][0].imag\n",
    "     z = mat[0][0].real - 1\n",
    "     return [x,y,z]"
   ]
  },
  {
   "cell_type": "markdown",
   "metadata": {},
   "source": [
    "### Generation of random training data\n",
    "\n",
    "$\\text{randomQubitState}$ return a unitary $2^{\\text{numQubits}}$-vector as a quantum object (qutip.Qobj) that is the tensor product of $\\text{numQubits}$ factors. Before normalization, it's elements are randomly picked out of a normal distribution.\n",
    "\n",
    "$\\text{randomTrainingData}$ returns a list of $N$ training pairs like\n",
    "\n",
    "$$trainingData = \\big[ [\\text{state}_1,\\, \\text{qubit0/1}], \\dots , [\\text{state}_N,\\, \\text{qubit0/1}] \\big]$$\n",
    "\n",
    "To each input state, one of the basic states, qubit0 and qubit1, is assigned. They correspond to the labels 0 and 1. They are assigned by choosing a plane separating the sphere into two parts. Let $\\mathbf{n}$ be the normal vector of the plane and $b$ the shift. If $\\mathbf{n}\\cdot\\mathbf{x}+b>0$, the label is 0, otherwise 1."
   ]
  },
  {
   "cell_type": "code",
   "execution_count": 9,
   "metadata": {},
   "outputs": [],
   "source": [
    "def randomQubitState(numQubits):\n",
    "    dim = 2**numQubits\n",
    "    #Make normalized state\n",
    "    res = sc.random.normal(size=(dim,1)) + 1j * sc.random.normal(size=(dim,1))\n",
    "    res = (1/sc.linalg.norm(res)) * res\n",
    "    res = qt.Qobj(res)\n",
    "    #Make dims list\n",
    "    dims1 = [2 for i in range(numQubits)]\n",
    "    dims2 = [1 for i in range(numQubits)]\n",
    "    dims = [dims1, dims2]\n",
    "    res.dims = dims\n",
    "    #Return\n",
    "    return res\n",
    "\n",
    "def randomTrainingData(N, nVector, b):\n",
    "    #numQubits = len(unitary.dims[0])\n",
    "    trainingData=[]\n",
    "    #Create training data pairs\n",
    "    for i in range(N):\n",
    "        stateIn = randomQubitState(1)\n",
    "        rho = stateIn * stateIn.dag()\n",
    "        bloch = blochvec(rho)\n",
    "        stateOut = qubit1\n",
    "        if np.dot(nVector, bloch)+b>0:\n",
    "            stateOut = qubit0\n",
    "        trainingData.append([stateIn,stateOut])\n",
    "    #Return\n",
    "    return trainingData\n",
    "\n",
    "#for random plane:\n",
    "#nVector = np.random.rand(3)\n",
    "#nVector = nVector / np.linalg.norm(nVector)\n",
    "#b = np.random.uniform(-0.8,0.8)"
   ]
  },
  {
   "cell_type": "markdown",
   "metadata": {},
   "source": [
    "### Note regarding Qobj.dims"
   ]
  },
  {
   "cell_type": "markdown",
   "metadata": {},
   "source": [
    "Quantum objects $\\text{Qobj}$ in the $\\text{qutip}$ package have two properties regarding their sizes: $\\text{shape}$ and $\\text{dims}$. While $\\text{shape}$ denotes the \"dimensions of the underlying data matrix\", $\\text{dims}$ is a \"list keeping track of shapes for individual components of a multipartite system\" (quoted from the $\\text{qutip}$-documentation). The qutip package will only allow operations such as the multiplication of two $\\text{Qobj}$ objects $A$ and $B$, if not only their $\\text{shape}$s, but also their $\\text{dims}$ are compatible. Essentially all $\\text{Qobj}$ objects in this work are representing operators or states in an multipartite system of $n$ qubits. As we create such objects with the desired $\\text{shape}$, we have to ensure that their $\\text{dims}$ are reflective of that, which is why we manually overwrite them to meet this criteria."
   ]
  },
  {
   "cell_type": "markdown",
   "metadata": {},
   "source": [
    "### Generation of an initial network"
   ]
  },
  {
   "cell_type": "markdown",
   "metadata": {},
   "source": [
    "$\\text{randomNetwork}$ will, given a valid $\\text{qnnArch}$ as usual, return a 4-tuple that completely describes a trainable quantum-neural-network like\n",
    "\n",
    "$$\\big(\\text{qnnArch}, \\ \\text{unitaries} , \\ \\text{trainingData}, \\ \\text{networkUnitary} \\big)$$\n",
    "\n",
    "With $\\text{qnnArch},\\, \\text{unitaries}$ and $\\text{trainingData}$ as usual and $\\text{networkUnitary}$ being the targeted network unitary (with which the training data was created)."
   ]
  },
  {
   "cell_type": "code",
   "execution_count": 10,
   "metadata": {},
   "outputs": [],
   "source": [
    "def randomNetwork(qnnArch, numTrainingPairs, nVector, b):\n",
    "    assert qnnArch[0]==qnnArch[-1], \"Not a valid QNN-Architecture.\"\n",
    "    \n",
    "    #Create the targeted network unitary and corresponding training data\n",
    "    networkTrainingData = randomTrainingData(numTrainingPairs, nVector, b)\n",
    "    \n",
    "    #Create the initial random perceptron unitaries for the network\n",
    "    networkUnitaries = [[]]\n",
    "    for l in range(1, len(qnnArch)):\n",
    "        numInputQubits = qnnArch[l-1]\n",
    "        numOutputQubits = qnnArch[l]\n",
    "        \n",
    "        networkUnitaries.append([])\n",
    "        for j in range(numOutputQubits):\n",
    "            unitary = qt.tensor(randomQubitUnitary(numInputQubits+1), tensoredId(numOutputQubits-1))\n",
    "            unitary = swappedOp(unitary, numInputQubits, numInputQubits + j)\n",
    "            networkUnitaries[l].append(unitary)\n",
    "    \n",
    "    #Return\n",
    "    return (qnnArch, networkUnitaries, networkTrainingData)"
   ]
  },
  {
   "cell_type": "markdown",
   "metadata": {},
   "source": [
    "## 1.4 QNN-Code"
   ]
  },
  {
   "cell_type": "markdown",
   "metadata": {},
   "source": [
    "### Cost Function\n",
    "\n",
    "$\\text{costFunction}$ assumes to be given $\\text{trainingData}$ and $\\text{outputStates}$ so that\n",
    "\n",
    "$$\\text{trainingData[x][1]} = \\ket{\\phi_x^{out}}$$\n",
    "\n",
    "$$\\text{outputStates[x]} = \\rho_x^{out}(s)$$\n",
    "\n",
    "and computes the cost function:\n",
    "\n",
    "$$C(s) = \\frac{1}{N} \\sum_{x = 1}^N \\bra{\\phi_x^{out}} \\rho_x^{out}(s) \\ket{\\phi_x^{out}}$$"
   ]
  },
  {
   "cell_type": "code",
   "execution_count": 11,
   "metadata": {},
   "outputs": [],
   "source": [
    "def costFunction(trainingData, outputStates):\n",
    "    costSum = 0\n",
    "    for i in range(len(trainingData)):\n",
    "        costSum += trainingData[i][1].dag() * outputStates[i] * trainingData[i][1]\n",
    "    return costSum.tr()/len(trainingData)"
   ]
  },
  {
   "cell_type": "markdown",
   "metadata": {},
   "source": [
    "### Layer-Channel & Adjoint-Layer-Channel\n",
    "\n",
    "$\\text{makeLayerChannel}$ assumes to be given $\\text{qnnArch}$ and $\\text{currentUnis}$ as usual and calculates\n",
    "\n",
    "\\begin{align}\n",
    "\\\\\n",
    "\\mathcal{E}_s^l(X^{l-1}) & = \\text{tr}_{l-1}\\bigg( U^l(s) \\ \\big( X^{l-1} \\otimes \\ket{0 \\dots 0}_l \\bra{0 \\dots 0} \\big) \\ U^l(s)^{\\dagger} \\bigg) \\\\\n",
    "& = \\text{tr}_{l-1}\\bigg( U_{m_l}^l(s) \\dots U_1^l(s) \\ \\big( X^{l-1} \\otimes \\ket{0 \\dots 0}_l \\bra{0 \\dots 0} \\big) \\ U_1^l(s)^{\\dagger} \\dots U_{m_l}^l(s)^{\\dagger} \\bigg) \n",
    "\\\\\n",
    "\\end{align}\n",
    "\n",
    "for $\\text{inputState} = X^{l-1}$"
   ]
  },
  {
   "cell_type": "code",
   "execution_count": 12,
   "metadata": {},
   "outputs": [],
   "source": [
    "def makeLayerChannel(qnnArch, unitaries, l, inputState):\n",
    "    numInputQubits = qnnArch[l-1]\n",
    "    numOutputQubits = qnnArch[l]\n",
    "\n",
    "    #Tensor input state\n",
    "    state = qt.tensor(inputState, tensoredQubit0(numOutputQubits))\n",
    "\n",
    "    #Calculate layer unitary\n",
    "    layerUni = unitaries[l][0].copy()\n",
    "    for i in range(1, numOutputQubits):\n",
    "        layerUni = unitaries[l][i] * layerUni\n",
    "\n",
    "    #Multiply and tensor out input state\n",
    "    return partialTraceRem(layerUni * state * layerUni.dag(), list(range(numInputQubits)))"
   ]
  },
  {
   "cell_type": "markdown",
   "metadata": {},
   "source": [
    "$\\text{makeAdjointLayerChannel}$ assumes to be given $\\text{qnnArch}$ and $\\text{unitaries}$ as usual and calculates\n",
    "\n",
    "\\begin{align}\n",
    "\\\\\n",
    "\\mathcal{F}_s^l(X^{l}) & = \\text{tr}_{l}\\bigg( \\big( \\mathbb{1}_{l-1} \\otimes \\ket{0 \\dots 0}_l \\bra{0 \\dots 0} \\big) \\ U^{l}(s)^{\\dagger} \\ \\big( \\mathbb{1}_{l-1} \\otimes X^l \\big) \\ U^l(s) \\bigg) \\\\\n",
    "& = \\text{tr}_{l}\\bigg( \\big( \\mathbb{1}_{l-1} \\otimes \\ket{0 \\dots 0}_l \\bra{0 \\dots 0} \\big) \\ U_1^l(s)^{\\dagger} \\dots U_{m_l}^l(s)^{\\dagger} \\ \\big( \\mathbb{1}_{l-1} \\otimes X^l \\big) \\ U_{m_l}^l(s) \\dots U_1^l(s) \\bigg)\n",
    "\\\\\n",
    "\\end{align}\n",
    "\n",
    "\n",
    "for $\\text{inputState} = X^{l}$"
   ]
  },
  {
   "cell_type": "code",
   "execution_count": 13,
   "metadata": {},
   "outputs": [],
   "source": [
    "def makeAdjointLayerChannel(qnnArch, unitaries, l, outputState):\n",
    "    numInputQubits = qnnArch[l-1]\n",
    "    numOutputQubits = qnnArch[l]\n",
    "    \n",
    "    #Prepare needed states\n",
    "    inputId = tensoredId(numInputQubits)\n",
    "    state1 = qt.tensor(inputId, tensoredQubit0(numOutputQubits))\n",
    "    state2 = qt.tensor(inputId, outputState)\n",
    "\n",
    "    #Calculate layer unitary\n",
    "    layerUni = unitaries[l][0].copy()\n",
    "    for i in range(1, numOutputQubits):\n",
    "        layerUni = unitaries[l][i] * layerUni\n",
    "    \n",
    "    #Multiply and tensor out output state\n",
    "    return partialTraceKeep(state1 * layerUni.dag() * state2 * layerUni, list(range(numInputQubits)) )"
   ]
  },
  {
   "cell_type": "markdown",
   "metadata": {},
   "source": [
    "### Feedforward\n",
    "\n",
    "$\\text{feedforward}$ assumes to be given $\\text{qnnArch},\\, \\text{unitaries}$ and $\\text{trainingData}$ as usual, carries out the feedforward process as described in Appendix D.2 of ***Efficient Learning for Deep Quantum Neural Networks***:\n",
    "\n",
    "For each element $\\big[\\, \\ket{\\phi_x^{in}},\\, \\ket{\\phi_x^{out}} \\big]$ in $\\text{trainingData}$ do:\n",
    "\n",
    "- Calculate the network input $\\rho_x^{in} = \\ket{\\phi_x^{in}} \\bra{\\phi_x^{in}}$\n",
    "\n",
    "- For every layer $l$ in $\\text{qnnArch}$ do:\n",
    "\n",
    "    - Apply the layer channel $\\mathcal{E}_s^l$ to the output of the previous layer $l-1$\n",
    "\n",
    "    - Store the result $\\rho_x^l(s)$"
   ]
  },
  {
   "cell_type": "code",
   "execution_count": 14,
   "metadata": {},
   "outputs": [],
   "source": [
    "def feedforward(qnnArch, unitaries, trainingData):\n",
    "    storedStates = []\n",
    "    for x in range(len(trainingData)):\n",
    "        currentState = trainingData[x][0] * trainingData[x][0].dag()\n",
    "        layerwiseList = [currentState]\n",
    "        for l in range(1, len(qnnArch)):\n",
    "            currentState = makeLayerChannel(qnnArch, unitaries, l, currentState)\n",
    "            layerwiseList.append(currentState)\n",
    "        storedStates.append(layerwiseList)\n",
    "    return storedStates"
   ]
  },
  {
   "cell_type": "markdown",
   "metadata": {},
   "source": [
    "### Update matrix\n",
    "\n",
    "$\\text{makeUpdateMatrix}$ assumes to be given $\\text{qnnArch},\\, \\text{unitaries},\\, \\text{trainingData}$ and $\\text{storedStates}$ as usual, as well as $\\lambda,\\, \\epsilon \\in \\mathbb{R}$, and calculates\n",
    "\n",
    "$$\\text{exp}\\big( i \\, \\epsilon \\, K_j^l(s) \\big)$$\n",
    "\n",
    "with\n",
    "\n",
    "$$K_j^l(s) = \\frac{2^{n_{a_1, \\dots, \\beta}} \\, i}{2 N \\lambda} \\sum_x \\text{tr}_\\text{rest} M_j^l(s)$$\n",
    "\n",
    "with \n",
    "\n",
    "$$M_j^l(s) = \\big[A_j^l(s), B_j^l(s) \\big]$$\n",
    "\n",
    "with\n",
    "\n",
    "\\begin{align}\n",
    "A_j^l(s) & = U_j^l(s) \\dots U_1^l(s) \\, \\big( \\rho_x^{l-1}(s) \\otimes \\ket{0 \\dots 0}_l \\bra{0 \\dots 0} \\big) \\, U_1^l(s)^{\\dagger} \\dots U_j^l(s)^{\\dagger} \\\\\n",
    "\\\\\n",
    "B_j^l(s) & = U_{j+1}^l(s)^{\\dagger} \\dots U_{m_l}^l(s)^{\\dagger} \\, \\big( \\mathbb{1}_l \\otimes \\sigma_x^l(s) \\big) \\, U_{m_l}^l(s) \\dots U_{j+1}^l(s)\n",
    "\\end{align}\n",
    "\n",
    "with\n",
    "\n",
    "$$\\sigma_x^l(s) = \\mathcal{F}_s^{l+1} \\big( \\dots \\mathcal{F}_s^{out} \\big( \\ket{\\phi_x^{out}} \\bra{\\phi_x^{out}} \\big) \\dots \\big)$$\n",
    "\n",
    "$\\text{updateMatrixFirstPart}$ calculates $A_j^l(s)$, $\\text{updateMatrixSecondPart}$ calculates $B_j^l(s)$.\n",
    "\n",
    "$\\text{makeUpdateMatrixTensored}$ tensors the calculated as above update matrix in such a way, that it can be applied to the already tensored perceptron unitaries."
   ]
  },
  {
   "cell_type": "code",
   "execution_count": 15,
   "metadata": {},
   "outputs": [],
   "source": [
    "def makeUpdateMatrix(qnnArch, unitaries, trainingData, storedStates, lda, ep, l, j):\n",
    "    numInputQubits = qnnArch[l-1]\n",
    "    \n",
    "    #Calculate the sum:\n",
    "    summ = 0\n",
    "    for x in range(len(trainingData)):\n",
    "        #Calculate the commutator\n",
    "        firstPart = updateMatrixFirstPart(qnnArch, unitaries, storedStates, l, j, x)\n",
    "        secondPart = updateMatrixSecondPart(qnnArch, unitaries, trainingData, l, j, x)\n",
    "        mat = qt.commutator(firstPart, secondPart)\n",
    "        \n",
    "        #Trace out the rest\n",
    "        keep = list(range(numInputQubits))\n",
    "        keep.append(numInputQubits + j)\n",
    "        mat = partialTraceKeep(mat, keep)\n",
    "        \n",
    "        #Add to sum\n",
    "        summ = summ + mat\n",
    "\n",
    "    #Calculate the update matrix from the sum\n",
    "    summ = (-ep * (2**numInputQubits)/(lda*len(trainingData))) * summ\n",
    "    return summ.expm()\n",
    "\n",
    "\n",
    "def updateMatrixFirstPart(qnnArch, unitaries, storedStates, l, j, x):\n",
    "    numInputQubits = qnnArch[l-1]\n",
    "    numOutputQubits = qnnArch[l]\n",
    "    \n",
    "    #Tensor input state\n",
    "    state = qt.tensor(storedStates[x][l-1], tensoredQubit0(numOutputQubits))\n",
    "    \n",
    "    #Calculate needed product unitary\n",
    "    productUni = unitaries[l][0]\n",
    "    for i in range(1, j+1):\n",
    "        productUni = unitaries[l][i] * productUni\n",
    "    \n",
    "    #Multiply\n",
    "    return productUni * state * productUni.dag()\n",
    "\n",
    "\n",
    "def updateMatrixSecondPart(qnnArch, unitaries, trainingData, l, j, x):\n",
    "    numInputQubits = qnnArch[l-1]\n",
    "    numOutputQubits = qnnArch[l]\n",
    "    \n",
    "    #Calculate sigma state\n",
    "    state = trainingData[x][1] * trainingData[x][1].dag()\n",
    "    for i in range(len(qnnArch)-1,l,-1):\n",
    "        state = makeAdjointLayerChannel(qnnArch, unitaries, i, state)\n",
    "    #Tensor sigma state\n",
    "    state = qt.tensor(tensoredId(numInputQubits), state)\n",
    "    \n",
    "    #Calculate needed product unitary\n",
    "    productUni = tensoredId(numInputQubits + numOutputQubits)\n",
    "    for i in range(j+1, numOutputQubits):\n",
    "        productUni = unitaries[l][i] * productUni\n",
    "        \n",
    "    #Multiply\n",
    "    return productUni.dag() * state * productUni\n",
    "\n",
    "\n",
    "def makeUpdateMatrixTensored(qnnArch, unitaries, lda, ep, trainingData, storedStates, l, j):\n",
    "    numInputQubits = qnnArch[l-1]\n",
    "    numOutputQubits = qnnArch[l]\n",
    "    \n",
    "    res = qt.tensor(makeUpdateMatrix(qnnArch, unitaries, lda, ep, trainingData, storedStates, l, j), tensoredId(numOutputQubits-1))\n",
    "    \n",
    "    return swappedOp(res, numInputQubits, numInputQubits + j)"
   ]
  },
  {
   "cell_type": "markdown",
   "metadata": {},
   "source": [
    "### Training of the Quantum Neural Network\n",
    "\n",
    "$\\text{qnnTraining}$ assumes to be given $\\text{qnnArch},\\, \\text{initialUnitaries}$ and $\\text{trainingData}$ as usual, as well as $\\lambda,\\, \\epsilon \\in \\mathbb{R}$ and $\\text{trainingRounds} \\in \\mathbb{N}$, and trains the given quantum neural network as summarized in Figure 2 of ***Efficient Learning for Deep Quantum Neural Networks***:\n",
    "\n",
    "**Step 1: Feedforward:** For every training pair, for every layer: Apply the layer channel $\\mathcal{E}^l$ and store the result\n",
    "\n",
    "**Step 2: Updating:** Update every unitary in every layer according to $U^l_j \\rightarrow e^{i \\, \\epsilon \\, K^l_j} \\ U^l_j$\n",
    "\n",
    "**Termination: Repeat Steps 1 and 2 $\\text{trainingRounds}$ times**"
   ]
  },
  {
   "cell_type": "code",
   "execution_count": 16,
   "metadata": {},
   "outputs": [],
   "source": [
    "def qnnTraining(qnnArch, initialUnitaries, trainingData, lda, ep, trainingRounds, alert=0):\n",
    "    \n",
    "    ### FEEDFORWARD    \n",
    "    #Feedforward for given unitaries\n",
    "    s = 0\n",
    "    currentUnitaries = initialUnitaries\n",
    "    storedStates = feedforward(qnnArch, currentUnitaries, trainingData)\n",
    "\n",
    "    #Cost calculation for given unitaries\n",
    "    outputStates = []\n",
    "    for k in range(len(storedStates)):\n",
    "        outputStates.append(storedStates[k][-1])\n",
    "    plotlist = [[s], [costFunction(trainingData, outputStates)]]\n",
    "    \n",
    "    #Optional\n",
    "    runtime = time()\n",
    "    \n",
    "    #Training of the Quantum Neural Network\n",
    "    for k in range(trainingRounds):\n",
    "        if alert>0 and k%alert==0: print(\"In training round \"+str(k))\n",
    "        \n",
    "        ### UPDATING\n",
    "        newUnitaries = unitariesCopy(currentUnitaries)\n",
    "        \n",
    "        #Loop over layers:\n",
    "        for l in range(1, len(qnnArch)):\n",
    "            numInputQubits = qnnArch[l-1]\n",
    "            numOutputQubits = qnnArch[l]\n",
    "            \n",
    "            #Loop over perceptrons\n",
    "            for j in range(numOutputQubits):\n",
    "                newUnitaries[l][j] = (makeUpdateMatrixTensored(qnnArch,currentUnitaries,trainingData,storedStates,lda,ep,l,j)* currentUnitaries[l][j])\n",
    "        \n",
    "        ### FEEDFORWARD\n",
    "        #Feedforward for given unitaries\n",
    "        s = s + ep\n",
    "        currentUnitaries = newUnitaries\n",
    "        storedStates = feedforward(qnnArch, currentUnitaries, trainingData)\n",
    "        \n",
    "        #Cost calculation for given unitaries\n",
    "        outputStates = []\n",
    "        for m in range(len(storedStates)):\n",
    "            outputStates.append(storedStates[m][-1])\n",
    "        plotlist[0].append(s)\n",
    "        plotlist[1].append(costFunction(trainingData, outputStates))\n",
    "    \n",
    "    #Optional\n",
    "    runtime = time() - runtime\n",
    "    print(\"Trained \"+str(trainingRounds)+\" rounds for a \"+str(qnnArch)+\" network and \"+str(len(trainingData))+\" training pairs in \"+str(round(runtime, 2))+\" seconds\")\n",
    "    \n",
    "    #Return\n",
    "    return [plotlist, currentUnitaries]"
   ]
  },
  {
   "cell_type": "markdown",
   "metadata": {},
   "source": [
    "## 1.5 Classification after training"
   ]
  },
  {
   "cell_type": "markdown",
   "metadata": {},
   "source": [
    "The following function simulates R mesurements for each state. The outcome of each measurement is either +1 (respectively 0) or -1 (respectively 1) (+1  corresponds to qubit0, -1 to qubit1). The function returns a list with the empirical probabilities for all states."
   ]
  },
  {
   "cell_type": "code",
   "execution_count": 17,
   "metadata": {},
   "outputs": [],
   "source": [
    "def measurements(qnnArch, unitaries, trainingData, R):\n",
    "    feed = feedforward(qnnArch, unitaries, trainingData)\n",
    "    prob = []\n",
    "    for i in range(len(trainingData)):\n",
    "        state = feed[i][-1]\n",
    "        a = [] # probabilities with tr(E_i*rho)\n",
    "        a.append(np.trace(np.array(qubit0mat*state)).real)\n",
    "        a.append(np.trace(np.array(qubit1mat*state)).real)\n",
    "        results = np.random.choice([1,-1], R, p=a)\n",
    "        #number of measurements with outcome +1:\n",
    "        k = 0\n",
    "        for i in range(R):\n",
    "            if results[i] == 1:\n",
    "                k = k+1\n",
    "        #empirical probability distribution:\n",
    "        plus = k/R\n",
    "        minus = (R - k)/R\n",
    "        prob.append([plus, minus])\n",
    "    return prob"
   ]
  },
  {
   "cell_type": "markdown",
   "metadata": {},
   "source": [
    "$\\text{howManyWrong}$ returns the fraction of wrong classifications, where the classification protocol is tested for the training data. $R$ measurements are performed on the output states. This should only be uses if it is known that $b=0$. In this case, a classification is wrong if the empirical probability for the correct label is less than 0.5."
   ]
  },
  {
   "cell_type": "code",
   "execution_count": 18,
   "metadata": {},
   "outputs": [],
   "source": [
    "def howManyWrong(qnnArch, unitaries, trainingData, R):\n",
    "    prob = measurements(qnnArch, unitaries, trainingData, R)\n",
    "    m = len(trainingData)\n",
    "    x = 0\n",
    "    for i in range(m):\n",
    "        if trainingData[i][1] == qubit0:\n",
    "            if prob[i][0] < 0.5:\n",
    "                x = x + 1\n",
    "        else:\n",
    "            if prob[i][1] < 0.5:\n",
    "                x = x + 1\n",
    "    x = x/m\n",
    "    return x"
   ]
  },
  {
   "cell_type": "markdown",
   "metadata": {},
   "source": [
    "$\\text{howManyWrong2}$ returns the fraction of wrong classifications independently from $b$. For this, we calculate the value $c$. This is a threshold for the empirical probabilities with a value from 0 to 1. The assigned label is 0 if the empirical probability for the label 0 is greater than $c$, the label is 1 if the empirical probability for the label 1 is greater than $1-c$. By this, we can determine how many states are falsely classified. Ideally, it is $c=(1-b)/2$.\n",
    "\n",
    "To find $c$, the empirical probability to obtain label 0 is observed. We find its minimum for labels with label 0 and its maximum for states with label 1. $c$ is determined to be the average of these two values."
   ]
  },
  {
   "cell_type": "code",
   "execution_count": 19,
   "metadata": {},
   "outputs": [],
   "source": [
    "def howManyWrong2(qnnArch, unitaries, trainingData, R):\n",
    "    prob = measurements(qnnArch, unitaries, trainingData, R)\n",
    "    m = len(trainingData)\n",
    "    high = 1\n",
    "    low = 0\n",
    "    x = 0\n",
    "    for i in range(m):\n",
    "        if trainingData[i][1] == qubit0:\n",
    "            if prob[i][0]<high:\n",
    "                high = prob[i][0]\n",
    "        else:\n",
    "            if prob[i][0]>low:\n",
    "                low = prob[i][0]\n",
    "    c = (high + low) / 2\n",
    "    bCalculated = 1 - 2*c\n",
    "    for i in range(m):\n",
    "        if trainingData[i][1] == qubit0:\n",
    "            if prob[i][0] < c:\n",
    "                x = x + 1\n",
    "        else:\n",
    "            if prob[i][1] < 1 - c:\n",
    "                x = x + 1\n",
    "    x = x/m\n",
    "    return [x, c, bCalculated]"
   ]
  },
  {
   "cell_type": "markdown",
   "metadata": {},
   "source": [
    "## 1.6 Export to csv"
   ]
  },
  {
   "cell_type": "markdown",
   "metadata": {},
   "source": [
    "From the data in form of a list $[[\\dots],[\\dots]]$ (for example for the plots), a csv file is created. The list needs to be transposed for this. The name of the file has the form 'file.csv'."
   ]
  },
  {
   "cell_type": "code",
   "execution_count": 20,
   "metadata": {},
   "outputs": [],
   "source": [
    "def exporttocsv(name, data):\n",
    "    with open(name, 'w', newline='') as csvfile:\n",
    "        filewriter = csv.writer(csvfile, delimiter=',', quotechar='\"', quoting=csv.QUOTE_MINIMAL)\n",
    "        filewriter.writerow(['a','b'])\n",
    "        filewriter.writerows(list(map(list, zip(*data))))"
   ]
  },
  {
   "cell_type": "markdown",
   "metadata": {},
   "source": [
    "# 2. Tests and Applications of the QNN-Code"
   ]
  },
  {
   "cell_type": "markdown",
   "metadata": {},
   "source": [
    "## 2.1 Elementary tests"
   ]
  },
  {
   "cell_type": "markdown",
   "metadata": {},
   "source": [
    "### Training a 1-3-1 network"
   ]
  },
  {
   "cell_type": "code",
   "execution_count": 20,
   "metadata": {},
   "outputs": [
    {
     "name": "stdout",
     "output_type": "stream",
     "text": [
      "Trained 200 rounds for a [1, 3, 1] network and 50 training pairs in 112.54 seconds\n",
      "Exceeds cost of 0.75 at training step 51\n"
     ]
    },
    {
     "data": {
      "image/png": "[encoded data removed]",
      "text/plain": [
       "<Figure size 432x288 with 1 Axes>"
      ]
     },
     "metadata": {
      "needs_background": "light"
     },
     "output_type": "display_data"
    }
   ],
   "source": [
    "network131 = randomNetwork([1,3,1], 50, [0,0,1], 0)\n",
    "plotlist131, unitaries131 = qnnTraining(network131[0], network131[1], network131[2], 1, 0.1, 200)\n",
    "\n",
    "for i in range(len(plotlist131[1])):\n",
    "    if plotlist131[1][i] >= 0.75:\n",
    "        print(\"Exceeds cost of 0.75 at training step \"+str(i))\n",
    "        break\n",
    "\n",
    "plt.plot(plotlist131[0], plotlist131[1])\n",
    "plt.xlabel(\"s\")\n",
    "plt.ylabel(\"Cost[s]\")\n",
    "plt.show()"
   ]
  },
  {
   "cell_type": "code",
   "execution_count": 21,
   "metadata": {},
   "outputs": [],
   "source": [
    "#exporttocsv('classif131.csv',plotlist131)"
   ]
  },
  {
   "cell_type": "code",
   "execution_count": 22,
   "metadata": {},
   "outputs": [
    {
     "name": "stdout",
     "output_type": "stream",
     "text": [
      "0.2\n",
      "0.02\n",
      "0.02\n",
      "[0.26, 0.5, 0.0]\n",
      "[0.06, 0.5, 0.0]\n",
      "[0.0, 0.456, 0.08799999999999997]\n"
     ]
    }
   ],
   "source": [
    "print(howManyWrong(network131[0], unitaries131, network131[2], 1))\n",
    "print(howManyWrong(network131[0], unitaries131, network131[2], 10))\n",
    "print(howManyWrong(network131[0], unitaries131, network131[2], 1000))\n",
    "print(howManyWrong2(network131[0], unitaries131, network131[2], 1))\n",
    "print(howManyWrong2(network131[0], unitaries131, network131[2], 10))\n",
    "print(howManyWrong2(network131[0], unitaries131, network131[2], 1000))"
   ]
  },
  {
   "cell_type": "markdown",
   "metadata": {},
   "source": [
    "### Training a 1-1 network"
   ]
  },
  {
   "cell_type": "code",
   "execution_count": 23,
   "metadata": {},
   "outputs": [
    {
     "name": "stdout",
     "output_type": "stream",
     "text": [
      "Trained 400 rounds for a [1, 1] network and 50 training pairs in 45.29 seconds\n"
     ]
    },
    {
     "data": {
      "image/png": "[encoded data removed]",
      "text/plain": [
       "<Figure size 432x288 with 1 Axes>"
      ]
     },
     "metadata": {
      "needs_background": "light"
     },
     "output_type": "display_data"
    }
   ],
   "source": [
    "network11 = randomNetwork([1,1], 50, [0,0,1], 0)\n",
    "plotlist11, unitaries11 = qnnTraining(network11[0], network11[1], network11[2], 1, 0.1, 400)\n",
    "\n",
    "for i in range(len(plotlist11[1])):\n",
    "    if plotlist11[1][i] >= 0.75:\n",
    "        print(\"Exceeds cost of 0.75 at training step \"+str(i))\n",
    "        break\n",
    "\n",
    "plt.plot(plotlist11[0], plotlist11[1])\n",
    "plt.xlabel(\"s\")\n",
    "plt.ylabel(\"Cost[s]\")\n",
    "plt.show()"
   ]
  },
  {
   "cell_type": "code",
   "execution_count": 24,
   "metadata": {},
   "outputs": [],
   "source": [
    "#exporttocsv('classif11.csv',plotlist11)"
   ]
  },
  {
   "cell_type": "code",
   "execution_count": 25,
   "metadata": {},
   "outputs": [
    {
     "name": "stdout",
     "output_type": "stream",
     "text": [
      "0.18\n",
      "0.08\n",
      "0.04\n",
      "[0.24, 0.5, 0.0]\n",
      "[0.26, 0.55, -0.10000000000000009]\n",
      "[0.04, 0.47750000000000004, 0.04499999999999993]\n"
     ]
    }
   ],
   "source": [
    "print(howManyWrong(network11[0], unitaries11, network11[2], 1))\n",
    "print(howManyWrong(network11[0], unitaries11, network11[2], 10))\n",
    "print(howManyWrong(network11[0], unitaries11, network11[2], 1000))\n",
    "print(howManyWrong2(network11[0], unitaries11, network11[2], 1))\n",
    "print(howManyWrong2(network11[0], unitaries11, network11[2], 10))\n",
    "print(howManyWrong2(network11[0], unitaries11, network11[2], 1000))"
   ]
  },
  {
   "cell_type": "markdown",
   "metadata": {},
   "source": [
    "### Training a 1-1-1 network"
   ]
  },
  {
   "cell_type": "code",
   "execution_count": 26,
   "metadata": {},
   "outputs": [
    {
     "name": "stdout",
     "output_type": "stream",
     "text": [
      "Trained 400 rounds for a [1, 1, 1] network and 50 training pairs in 96.39 seconds\n"
     ]
    },
    {
     "data": {
      "image/png": "[encoded data removed]",
      "text/plain": [
       "<Figure size 432x288 with 1 Axes>"
      ]
     },
     "metadata": {
      "needs_background": "light"
     },
     "output_type": "display_data"
    }
   ],
   "source": [
    "nVector111 = np.random.rand(3)\n",
    "nVector111 = nVector111 / np.linalg.norm(nVector111)\n",
    "network111 = randomNetwork([1,1,1], 50, nVector111, 0)\n",
    "plotlist111, unitaries111 = qnnTraining(network111[0], network111[1], network111[2], 1, 0.1, 400)\n",
    "\n",
    "for i in range(len(plotlist111[1])):\n",
    "    if plotlist111[1][i] >= 0.75:\n",
    "        print(\"Exceeds cost of 0.75 at training step \"+str(i))\n",
    "        break\n",
    "\n",
    "plt.plot(plotlist111[0], plotlist111[1])\n",
    "plt.xlabel(\"s\")\n",
    "plt.ylabel(\"Cost[s]\")\n",
    "plt.show()"
   ]
  },
  {
   "cell_type": "code",
   "execution_count": 27,
   "metadata": {},
   "outputs": [],
   "source": [
    "#exporttocsv('classif111.csv',plotlist111)"
   ]
  },
  {
   "cell_type": "code",
   "execution_count": 28,
   "metadata": {},
   "outputs": [
    {
     "name": "stdout",
     "output_type": "stream",
     "text": [
      "0.24\n",
      "0.1\n",
      "0.02\n",
      "[0.28, 0.5, 0.0]\n",
      "[0.12, 0.55, -0.10000000000000009]\n",
      "[0.04, 0.5335000000000001, -0.06700000000000017]\n"
     ]
    }
   ],
   "source": [
    "print(howManyWrong(network111[0], unitaries111, network111[2], 1))\n",
    "print(howManyWrong(network111[0], unitaries111, network111[2], 10))\n",
    "print(howManyWrong(network111[0], unitaries111, network111[2], 1000))\n",
    "print(howManyWrong2(network111[0], unitaries111, network111[2], 1))\n",
    "print(howManyWrong2(network111[0], unitaries111, network111[2], 10))\n",
    "print(howManyWrong2(network111[0], unitaries111, network111[2], 1000))"
   ]
  },
  {
   "cell_type": "markdown",
   "metadata": {},
   "source": [
    "### Training a 1-5-1 network"
   ]
  },
  {
   "cell_type": "code",
   "execution_count": 29,
   "metadata": {},
   "outputs": [
    {
     "name": "stdout",
     "output_type": "stream",
     "text": [
      "0.4049350439926649\n",
      "Trained 200 rounds for a [1, 5, 1] network and 50 training pairs in 252.91 seconds\n",
      "Exceeds cost of 0.75 at training step 9\n"
     ]
    },
    {
     "data": {
      "image/png": "[encoded data removed]",
      "text/plain": [
       "<Figure size 432x288 with 1 Axes>"
      ]
     },
     "metadata": {
      "needs_background": "light"
     },
     "output_type": "display_data"
    }
   ],
   "source": [
    "nVector151 = np.random.rand(3)\n",
    "nVector151 = nVector151 / np.linalg.norm(nVector151)\n",
    "b151 = np.random.uniform(-0.5,0.5)\n",
    "print(b151)\n",
    "network151 = randomNetwork([1,5,1], 50, nVector151, b151)\n",
    "plotlist151, unitaries151 = qnnTraining(network151[0], network151[1], network151[2], 1, 0.1, 200)\n",
    "\n",
    "for i in range(len(plotlist151[1])):\n",
    "    if plotlist151[1][i] >= 0.75:\n",
    "        print(\"Exceeds cost of 0.75 at training step \"+str(i))\n",
    "        break\n",
    "\n",
    "plt.plot(plotlist151[0], plotlist151[1])\n",
    "plt.xlabel(\"s\")\n",
    "plt.ylabel(\"Cost[s]\")\n",
    "plt.show()"
   ]
  },
  {
   "cell_type": "code",
   "execution_count": 30,
   "metadata": {},
   "outputs": [],
   "source": [
    "#exporttocsv('classif151.csv',plotlist151)"
   ]
  },
  {
   "cell_type": "code",
   "execution_count": 31,
   "metadata": {},
   "outputs": [
    {
     "name": "stdout",
     "output_type": "stream",
     "text": [
      "[0.0, 1.0, -1.0]\n",
      "[0.0, 1.0, -1.0]\n",
      "[0.26, 0.9995, -0.9990000000000001]\n"
     ]
    }
   ],
   "source": [
    "print(howManyWrong2(network151[0], unitaries151, network151[2], 1))\n",
    "print(howManyWrong2(network151[0], unitaries151, network151[2], 10))\n",
    "print(howManyWrong2(network151[0], unitaries151, network151[2], 1000))"
   ]
  },
  {
   "cell_type": "markdown",
   "metadata": {},
   "source": [
    "### Training a 1-3-3-1 network"
   ]
  },
  {
   "cell_type": "code",
   "execution_count": 32,
   "metadata": {},
   "outputs": [
    {
     "name": "stdout",
     "output_type": "stream",
     "text": [
      "Trained 200 rounds for a [1, 3, 3, 1] network and 50 training pairs in 263.74 seconds\n",
      "Exceeds cost of 0.75 at training step 41\n"
     ]
    },
    {
     "data": {
      "image/png": "[encoded data removed]",
      "text/plain": [
       "<Figure size 432x288 with 1 Axes>"
      ]
     },
     "metadata": {
      "needs_background": "light"
     },
     "output_type": "display_data"
    }
   ],
   "source": [
    "nVector1331 = np.random.rand(3)\n",
    "nVector1331 = nVector1331 / np.linalg.norm(nVector1331)\n",
    "network1331 = randomNetwork([1,3,3,1], 50, nVector1331, 0.3)\n",
    "plotlist1331, unitaries1331 = qnnTraining(network1331[0], network1331[1], network1331[2], 1, 0.1, 200)\n",
    "\n",
    "for i in range(len(plotlist1331[1])):\n",
    "    if plotlist1331[1][i] >= 0.75:\n",
    "        print(\"Exceeds cost of 0.75 at training step \"+str(i))\n",
    "        break\n",
    "\n",
    "plt.plot(plotlist1331[0], plotlist1331[1])\n",
    "plt.xlabel(\"s\")\n",
    "plt.ylabel(\"Cost[s]\")\n",
    "plt.show()"
   ]
  },
  {
   "cell_type": "code",
   "execution_count": 33,
   "metadata": {},
   "outputs": [],
   "source": [
    "#exporttocsv('classif1331.csv',plotlist1331)"
   ]
  },
  {
   "cell_type": "code",
   "execution_count": 34,
   "metadata": {},
   "outputs": [
    {
     "name": "stdout",
     "output_type": "stream",
     "text": [
      "[0.0, 1.0, -1.0]\n",
      "[0.22, 0.95, -0.8999999999999999]\n",
      "[0.32, 0.9964999999999999, -0.9929999999999999]\n"
     ]
    }
   ],
   "source": [
    "print(howManyWrong2(network1331[0], unitaries1331, network1331[2], 1))\n",
    "print(howManyWrong2(network1331[0], unitaries1331, network1331[2], 10))\n",
    "print(howManyWrong2(network1331[0], unitaries1331, network1331[2], 1000))"
   ]
  },
  {
   "cell_type": "markdown",
   "metadata": {},
   "source": [
    "## 2.2 Ablility for classification"
   ]
  },
  {
   "cell_type": "markdown",
   "metadata": {},
   "source": [
    "### Test of several architectures and values of $R$"
   ]
  },
  {
   "cell_type": "markdown",
   "metadata": {},
   "source": [
    "In the following, training and classification are done twelve times for each of the previously used five architectures. The list $\\text{errordata}$ contains the fraction of wrong classifications for each training. We use $R=1$ and $R=1000$."
   ]
  },
  {
   "cell_type": "code",
   "execution_count": 35,
   "metadata": {},
   "outputs": [
    {
     "name": "stdout",
     "output_type": "stream",
     "text": [
      "Trained 400 rounds for a [1, 1] network and 50 training pairs in 47.04 seconds\n",
      "Trained 400 rounds for a [1, 1, 1] network and 50 training pairs in 95.99 seconds\n",
      "Trained 200 rounds for a [1, 3, 1] network and 50 training pairs in 94.85 seconds\n",
      "Trained 100 rounds for a [1, 5, 1] network and 50 training pairs in 126.74 seconds\n",
      "Trained 200 rounds for a [1, 3, 3, 1] network and 50 training pairs in 248.61 seconds\n",
      "Trained 400 rounds for a [1, 1] network and 50 training pairs in 44.2 seconds\n",
      "Trained 400 rounds for a [1, 1, 1] network and 50 training pairs in 94.04 seconds\n",
      "Trained 200 rounds for a [1, 3, 1] network and 50 training pairs in 96.42 seconds\n",
      "Trained 100 rounds for a [1, 5, 1] network and 50 training pairs in 128.43 seconds\n",
      "Trained 200 rounds for a [1, 3, 3, 1] network and 50 training pairs in 249.4 seconds\n",
      "Trained 400 rounds for a [1, 1] network and 50 training pairs in 44.57 seconds\n",
      "Trained 400 rounds for a [1, 1, 1] network and 50 training pairs in 93.84 seconds\n",
      "Trained 200 rounds for a [1, 3, 1] network and 50 training pairs in 94.71 seconds\n",
      "Trained 100 rounds for a [1, 5, 1] network and 50 training pairs in 125.73 seconds\n",
      "Trained 200 rounds for a [1, 3, 3, 1] network and 50 training pairs in 250.69 seconds\n",
      "Trained 400 rounds for a [1, 1] network and 50 training pairs in 44.88 seconds\n",
      "Trained 400 rounds for a [1, 1, 1] network and 50 training pairs in 95.72 seconds\n",
      "Trained 200 rounds for a [1, 3, 1] network and 50 training pairs in 94.09 seconds\n",
      "Trained 100 rounds for a [1, 5, 1] network and 50 training pairs in 125.46 seconds\n",
      "Trained 200 rounds for a [1, 3, 3, 1] network and 50 training pairs in 247.4 seconds\n",
      "Trained 400 rounds for a [1, 1] network and 50 training pairs in 44.19 seconds\n",
      "Trained 400 rounds for a [1, 1, 1] network and 50 training pairs in 94.08 seconds\n",
      "Trained 200 rounds for a [1, 3, 1] network and 50 training pairs in 94.14 seconds\n",
      "Trained 100 rounds for a [1, 5, 1] network and 50 training pairs in 126.06 seconds\n",
      "Trained 200 rounds for a [1, 3, 3, 1] network and 50 training pairs in 247.23 seconds\n",
      "Trained 400 rounds for a [1, 1] network and 50 training pairs in 44.5 seconds\n",
      "Trained 400 rounds for a [1, 1, 1] network and 50 training pairs in 102.23 seconds\n",
      "Trained 200 rounds for a [1, 3, 1] network and 50 training pairs in 110.36 seconds\n",
      "Trained 100 rounds for a [1, 5, 1] network and 50 training pairs in 129.23 seconds\n",
      "Trained 200 rounds for a [1, 3, 3, 1] network and 50 training pairs in 252.64 seconds\n",
      "Trained 400 rounds for a [1, 1] network and 50 training pairs in 45.87 seconds\n",
      "Trained 400 rounds for a [1, 1, 1] network and 50 training pairs in 94.73 seconds\n",
      "Trained 200 rounds for a [1, 3, 1] network and 50 training pairs in 95.48 seconds\n",
      "Trained 100 rounds for a [1, 5, 1] network and 50 training pairs in 129.36 seconds\n",
      "Trained 200 rounds for a [1, 3, 3, 1] network and 50 training pairs in 254.58 seconds\n",
      "Trained 400 rounds for a [1, 1] network and 50 training pairs in 45.13 seconds\n",
      "Trained 400 rounds for a [1, 1, 1] network and 50 training pairs in 103.52 seconds\n",
      "Trained 200 rounds for a [1, 3, 1] network and 50 training pairs in 101.85 seconds\n",
      "Trained 100 rounds for a [1, 5, 1] network and 50 training pairs in 136.68 seconds\n",
      "Trained 200 rounds for a [1, 3, 3, 1] network and 50 training pairs in 249.27 seconds\n",
      "Trained 400 rounds for a [1, 1] network and 50 training pairs in 45.19 seconds\n",
      "Trained 400 rounds for a [1, 1, 1] network and 50 training pairs in 94.81 seconds\n",
      "Trained 200 rounds for a [1, 3, 1] network and 50 training pairs in 94.2 seconds\n",
      "Trained 100 rounds for a [1, 5, 1] network and 50 training pairs in 128.75 seconds\n",
      "Trained 200 rounds for a [1, 3, 3, 1] network and 50 training pairs in 247.57 seconds\n",
      "Trained 400 rounds for a [1, 1] network and 50 training pairs in 44.01 seconds\n",
      "Trained 400 rounds for a [1, 1, 1] network and 50 training pairs in 93.92 seconds\n",
      "Trained 200 rounds for a [1, 3, 1] network and 50 training pairs in 94.06 seconds\n",
      "Trained 100 rounds for a [1, 5, 1] network and 50 training pairs in 129.21 seconds\n",
      "Trained 200 rounds for a [1, 3, 3, 1] network and 50 training pairs in 297.89 seconds\n",
      "Trained 400 rounds for a [1, 1] network and 50 training pairs in 55.35 seconds\n",
      "Trained 400 rounds for a [1, 1, 1] network and 50 training pairs in 113.3 seconds\n",
      "Trained 200 rounds for a [1, 3, 1] network and 50 training pairs in 116.22 seconds\n",
      "Trained 100 rounds for a [1, 5, 1] network and 50 training pairs in 131.39 seconds\n",
      "Trained 200 rounds for a [1, 3, 3, 1] network and 50 training pairs in 253.11 seconds\n",
      "Trained 400 rounds for a [1, 1] network and 50 training pairs in 44.33 seconds\n",
      "Trained 400 rounds for a [1, 1, 1] network and 50 training pairs in 94.65 seconds\n",
      "Trained 200 rounds for a [1, 3, 1] network and 50 training pairs in 96.57 seconds\n",
      "Trained 100 rounds for a [1, 5, 1] network and 50 training pairs in 130.75 seconds\n",
      "Trained 200 rounds for a [1, 3, 3, 1] network and 50 training pairs in 257.04 seconds\n",
      "[[0.26, 0.3, 0.16, 0.26, 0.28, 0.32, 0.38, 0.28, 0.32, 0.22, 0.18, 0.26], [0.04, 0.06, 0.06, 0.1, 0.06, 0.04, 0.04, 0.06, 0.08, 0.06, 0.06, 0.0], [0.38, 0.32, 0.34, 0.16, 0.26, 0.24, 0.16, 0.26, 0.4, 0.4, 0.18, 0.24], [0.08, 0.04, 0.0, 0.0, 0.1, 0.0, 0.1, 0.0, 0.06, 0.1, 0.06, 0.06], [0.28, 0.26, 0.2, 0.22, 0.3, 0.28, 0.22, 0.3, 0.3, 0.14, 0.24, 0.2], [0.04, 0.04, 0.0, 0.06, 0.04, 0.0, 0.1, 0.04, 0.04, 0.1, 0.12, 0.0], [0.2, 0.34, 0.2, 0.16, 0.16, 0.2, 0.3, 0.32, 0.18, 0.24, 0.42, 0.18], [0.04, 0.0, 0.04, 0.04, 0.04, 0.06, 0.1, 0.04, 0.08, 0.04, 0.16, 0.0], [0.26, 0.32, 0.22, 0.34, 0.14, 0.16, 0.28, 0.14, 0.24, 0.2, 0.32, 0.26], [0.06, 0.04, 0.0, 0.0, 0.08, 0.0, 0.04, 0.14, 0.06, 0.04, 0.04, 0.16]]\n"
     ]
    }
   ],
   "source": [
    "errordata = [[], [], [], [], [], [], [], [], [], []]\n",
    "for i in range(12):\n",
    "    network11 = randomNetwork([1,1], 50, [0,1,0], 0.2)\n",
    "    plotlist11, unitaries11 = qnnTraining(network11[0], network11[1], network11[2], 1, 0.1, 400)\n",
    "    error1 = howManyWrong2(network11[0], unitaries11, network11[2], 1)[0]\n",
    "    errordata[0].append(error1)\n",
    "    error1000 = howManyWrong2(network11[0], unitaries11, network11[2], 1000)[0]\n",
    "    errordata[1].append(error1000)\n",
    "    \n",
    "    network111 = randomNetwork([1,1,1], 50, [0,1,0], 0.2)\n",
    "    plotlist111, unitaries111 = qnnTraining(network111[0], network111[1], network111[2], 1, 0.1, 400)\n",
    "    error1 = howManyWrong2(network111[0], unitaries111, network111[2], 1)[0]\n",
    "    errordata[2].append(error1)\n",
    "    error1000 = howManyWrong2(network111[0], unitaries111, network111[2], 1000)[0]\n",
    "    errordata[3].append(error1000)\n",
    "    \n",
    "    network131 = randomNetwork([1,3,1], 50, [0,1,0], 0.2)\n",
    "    plotlist131, unitaries131 = qnnTraining(network131[0], network131[1], network131[2], 1, 0.1, 200)\n",
    "    error1 = howManyWrong2(network131[0], unitaries131, network131[2], 1)[0]\n",
    "    errordata[4].append(error1)\n",
    "    error1000 = howManyWrong2(network131[0], unitaries131, network131[2], 1000)[0]\n",
    "    errordata[5].append(error1000)\n",
    "    \n",
    "    network151 = randomNetwork([1,5,1], 50, [0,1,0], 0.2)\n",
    "    plotlist151, unitaries151 = qnnTraining(network151[0], network151[1], network151[2], 1, 0.1, 100)\n",
    "    error1 = howManyWrong2(network151[0], unitaries151, network151[2], 1)[0]\n",
    "    errordata[6].append(error1)\n",
    "    error1000 = howManyWrong2(network151[0], unitaries151, network151[2], 1000)[0]\n",
    "    errordata[7].append(error1000)\n",
    "    \n",
    "    network1331 = randomNetwork([1,3,3,1], 50, [0,1,0], 0.2)\n",
    "    plotlist1331, unitaries1331 = qnnTraining(network1331[0], network1331[1], network1331[2], 1, 0.1, 200)\n",
    "    error1 = howManyWrong2(network1331[0], unitaries1331, network1331[2], 1)[0]\n",
    "    errordata[8].append(error1)\n",
    "    error1000 = howManyWrong2(network1331[0], unitaries1331, network1331[2], 1000)[0]\n",
    "    errordata[9].append(error1000)\n",
    "\n",
    "print(errordata)"
   ]
  },
  {
   "cell_type": "markdown",
   "metadata": {},
   "source": [
    "Create a csv file. Attention: for the first line better no commas like in '11,1'."
   ]
  },
  {
   "cell_type": "code",
   "execution_count": 36,
   "metadata": {},
   "outputs": [],
   "source": [
    "with open('errordataNew.csv', 'w', newline='') as csvfile:\n",
    "    filewriter = csv.writer(csvfile, delimiter=',', quotechar='\"', quoting=csv.QUOTE_MINIMAL)\n",
    "    filewriter.writerow(['11,1','11,1000','111,1','111,1000','131,1','131,1000','151,1','151,1000','1331,1','1331,1000'])\n",
    "    filewriter.writerows(list(map(list, zip(*errordata))))"
   ]
  },
  {
   "cell_type": "markdown",
   "metadata": {},
   "source": [
    "Compute the mean $\\frac{1}{N}\\sum\\epsilon_{i}$ and the standard deviation $\\sqrt{\\frac{1}{N-1}\\sum(\\epsilon_{i}-\\bar{\\epsilon})^2}$ for each architecture:"
   ]
  },
  {
   "cell_type": "code",
   "execution_count": 37,
   "metadata": {},
   "outputs": [
    {
     "name": "stdout",
     "output_type": "stream",
     "text": [
      "[[0.26833333333333337, 0.06117535649609442], [0.055000000000000014, 0.024308621740219888], [0.2783333333333333, 0.08881373085215365], [0.05000000000000001, 0.04134115273055299], [0.24500000000000002, 0.050542511359700504], [0.04833333333333334, 0.0404145188432738], [0.24166666666666667, 0.08375650133065203], [0.05333333333333334, 0.043762444117662294], [0.24000000000000007, 0.06980492298346351], [0.05499999999999999, 0.05125692857821982]]\n"
     ]
    }
   ],
   "source": [
    "meanAndStd = []\n",
    "for i in range(10):\n",
    "    meanAndStd.append([np.mean(errordata[i]), np.std(errordata[i], ddof=1)])\n",
    "print(meanAndStd)"
   ]
  },
  {
   "cell_type": "markdown",
   "metadata": {},
   "source": [
    "### Test of the effect of $b$"
   ]
  },
  {
   "cell_type": "markdown",
   "metadata": {},
   "source": [
    "In the following, training and classification are done twelve times each for several values for $b$. We get the rate of wrong classifications and the calculated value for $b$, which we can compare with the actual one."
   ]
  },
  {
   "cell_type": "code",
   "execution_count": 39,
   "metadata": {},
   "outputs": [
    {
     "name": "stdout",
     "output_type": "stream",
     "text": [
      "Trained 400 rounds for a [1, 1] network and 50 training pairs in 46.11 seconds\n",
      "Trained 400 rounds for a [1, 1] network and 50 training pairs in 46.34 seconds\n",
      "Trained 400 rounds for a [1, 1] network and 50 training pairs in 48.04 seconds\n",
      "Trained 400 rounds for a [1, 1] network and 50 training pairs in 49.33 seconds\n",
      "Trained 400 rounds for a [1, 1] network and 50 training pairs in 46.16 seconds\n",
      "Trained 400 rounds for a [1, 1] network and 50 training pairs in 45.93 seconds\n",
      "Trained 400 rounds for a [1, 1] network and 50 training pairs in 48.66 seconds\n",
      "Trained 400 rounds for a [1, 1] network and 50 training pairs in 48.81 seconds\n",
      "Trained 400 rounds for a [1, 1] network and 50 training pairs in 46.83 seconds\n",
      "Trained 400 rounds for a [1, 1] network and 50 training pairs in 50.18 seconds\n",
      "Trained 400 rounds for a [1, 1] network and 50 training pairs in 47.14 seconds\n",
      "Trained 400 rounds for a [1, 1] network and 50 training pairs in 47.02 seconds\n",
      "Trained 400 rounds for a [1, 1] network and 50 training pairs in 47.81 seconds\n",
      "Trained 400 rounds for a [1, 1] network and 50 training pairs in 49.57 seconds\n",
      "Trained 400 rounds for a [1, 1] network and 50 training pairs in 46.65 seconds\n",
      "Trained 400 rounds for a [1, 1] network and 50 training pairs in 47.67 seconds\n",
      "Trained 400 rounds for a [1, 1] network and 50 training pairs in 53.11 seconds\n",
      "Trained 400 rounds for a [1, 1] network and 50 training pairs in 48.23 seconds\n",
      "Trained 400 rounds for a [1, 1] network and 50 training pairs in 52.22 seconds\n",
      "Trained 400 rounds for a [1, 1] network and 50 training pairs in 51.67 seconds\n",
      "Trained 400 rounds for a [1, 1] network and 50 training pairs in 52.5 seconds\n",
      "Trained 400 rounds for a [1, 1] network and 50 training pairs in 50.51 seconds\n",
      "Trained 400 rounds for a [1, 1] network and 50 training pairs in 49.7 seconds\n",
      "Trained 400 rounds for a [1, 1] network and 50 training pairs in 47.84 seconds\n",
      "Trained 400 rounds for a [1, 1] network and 50 training pairs in 46.06 seconds\n",
      "Trained 400 rounds for a [1, 1] network and 50 training pairs in 46.32 seconds\n",
      "Trained 400 rounds for a [1, 1] network and 50 training pairs in 48.99 seconds\n",
      "Trained 400 rounds for a [1, 1] network and 50 training pairs in 52.87 seconds\n",
      "Trained 400 rounds for a [1, 1] network and 50 training pairs in 49.55 seconds\n",
      "Trained 400 rounds for a [1, 1] network and 50 training pairs in 49.43 seconds\n",
      "Trained 400 rounds for a [1, 1] network and 50 training pairs in 49.35 seconds\n",
      "Trained 400 rounds for a [1, 1] network and 50 training pairs in 50.42 seconds\n",
      "Trained 400 rounds for a [1, 1] network and 50 training pairs in 46.85 seconds\n",
      "Trained 400 rounds for a [1, 1] network and 50 training pairs in 50.05 seconds\n",
      "Trained 400 rounds for a [1, 1] network and 50 training pairs in 49.77 seconds\n",
      "Trained 400 rounds for a [1, 1] network and 50 training pairs in 49.64 seconds\n",
      "Trained 400 rounds for a [1, 1] network and 50 training pairs in 47.98 seconds\n",
      "Trained 400 rounds for a [1, 1] network and 50 training pairs in 46.5 seconds\n",
      "Trained 400 rounds for a [1, 1] network and 50 training pairs in 49.84 seconds\n",
      "Trained 400 rounds for a [1, 1] network and 50 training pairs in 49.98 seconds\n",
      "Trained 400 rounds for a [1, 1] network and 50 training pairs in 48.32 seconds\n",
      "Trained 400 rounds for a [1, 1] network and 50 training pairs in 49.76 seconds\n",
      "Trained 400 rounds for a [1, 1] network and 50 training pairs in 49.79 seconds\n",
      "Trained 400 rounds for a [1, 1] network and 50 training pairs in 47.32 seconds\n",
      "Trained 400 rounds for a [1, 1] network and 50 training pairs in 46.89 seconds\n",
      "Trained 400 rounds for a [1, 1] network and 50 training pairs in 49.18 seconds\n",
      "Trained 400 rounds for a [1, 1] network and 50 training pairs in 49.73 seconds\n",
      "Trained 400 rounds for a [1, 1] network and 50 training pairs in 49.58 seconds\n",
      "Trained 400 rounds for a [1, 1] network and 50 training pairs in 47.85 seconds\n",
      "Trained 400 rounds for a [1, 1] network and 50 training pairs in 47.1 seconds\n",
      "Trained 400 rounds for a [1, 1] network and 50 training pairs in 49.81 seconds\n",
      "Trained 400 rounds for a [1, 1] network and 50 training pairs in 50.09 seconds\n",
      "Trained 400 rounds for a [1, 1] network and 50 training pairs in 47.86 seconds\n",
      "Trained 400 rounds for a [1, 1] network and 50 training pairs in 46.82 seconds\n",
      "Trained 400 rounds for a [1, 1] network and 50 training pairs in 49.71 seconds\n",
      "Trained 400 rounds for a [1, 1] network and 50 training pairs in 50.33 seconds\n",
      "Trained 400 rounds for a [1, 1] network and 50 training pairs in 48.96 seconds\n",
      "Trained 400 rounds for a [1, 1] network and 50 training pairs in 47.11 seconds\n",
      "Trained 400 rounds for a [1, 1] network and 50 training pairs in 49.04 seconds\n",
      "Trained 400 rounds for a [1, 1] network and 50 training pairs in 47.57 seconds\n",
      "Trained 400 rounds for a [1, 1] network and 50 training pairs in 49.91 seconds\n",
      "Trained 400 rounds for a [1, 1] network and 50 training pairs in 47.28 seconds\n",
      "Trained 400 rounds for a [1, 1] network and 50 training pairs in 52.31 seconds\n",
      "Trained 400 rounds for a [1, 1] network and 50 training pairs in 50.53 seconds\n",
      "Trained 400 rounds for a [1, 1] network and 50 training pairs in 48.23 seconds\n",
      "Trained 400 rounds for a [1, 1] network and 50 training pairs in 46.51 seconds\n",
      "Trained 400 rounds for a [1, 1] network and 50 training pairs in 50.46 seconds\n",
      "Trained 400 rounds for a [1, 1] network and 50 training pairs in 50.97 seconds\n",
      "Trained 400 rounds for a [1, 1] network and 50 training pairs in 50.71 seconds\n",
      "Trained 400 rounds for a [1, 1] network and 50 training pairs in 48.05 seconds\n",
      "Trained 400 rounds for a [1, 1] network and 50 training pairs in 46.6 seconds\n",
      "Trained 400 rounds for a [1, 1] network and 50 training pairs in 50.2 seconds\n",
      "[[0.0, 0.1, 0.08, 0.0, 0.08, 0.08, 0.0, 0.04, 0.04, 0.12, 0.06, 0.04], [-0.045, -0.022, 0.015, 0.076, 0.095, 0.061, 0.049, -0.017, 0.086, 0.048, -0.042, 0.128], [0.04, 0.06, 0.0, 0.04, 0.04, 0.08, 0.06, 0.0, 0.08, 0.06, 0.04, 0.0], [0.039, -0.017, 0.149, 0.052, 0.125, 0.202, 0.178, 0.034, 0.032, 0.093, 0.159, 0.254], [0.04, 0.0, 0.04, 0.04, 0.0, 0.08, 0.04, 0.04, 0.04, 0.0, 0.06, 0.0], [0.217, 0.17, 0.252, 0.214, 0.156, 0.259, 0.255, 0.119, 0.189, 0.082, 0.173, 0.208], [0.0, 0.04, 0.04, 0.06, 0.1, 0.0, 0.0, 0.0, 0.04, 0.3, 0.06, 0.0], [0.311, 0.5, 0.244, 0.294, 0.274, -0.451, 0.353, 0.173, 0.269, -0.999, 0.284, -1.0], [0.04, 0.0, 0.0, 0.06, 0.0, 0.0, 0.08, 0.08, 0.04, 0.24, 0.12, 0.04], [0.391, 0.343, 0.339, 0.408, -1.0, 0.411, 0.33, -0.146, 0.404, -0.996, -0.889, 0.433], [0.04, 0.0, 0.0, 0.0, 0.04, 0.0, 0.08, 0.04, 0.0, 0.08, 0.0, 0.0], [0.498, 0.505, -1.0, -1.0, 0.556, -1.0, 0.504, 0.446, -1.0, -0.13, -1.0, -1.0]]\n"
     ]
    }
   ],
   "source": [
    "datalist = []\n",
    "for b in [0, 0.1, 0.2, 0.3, 0.4, 0.5]:\n",
    "    errors = []\n",
    "    bValues = []\n",
    "    for i in range(12):\n",
    "        nVector11 = np.random.rand(3)\n",
    "        nVector11 = nVector11 / np.linalg.norm(nVector11)\n",
    "        network11 = randomNetwork([1,1], 50, nVector11, b)\n",
    "        plotlist11, unitaries11 = qnnTraining(network11[0], network11[1], network11[2], 1, 0.1, 400)\n",
    "        error11, c11, b11 = howManyWrong2(network11[0], unitaries11, network11[2], 1000)\n",
    "        errors.append(error11)\n",
    "        bValues.append(round(b11,3))\n",
    "    datalist.append(errors)\n",
    "    datalist.append(bValues)\n",
    "\n",
    "print(datalist)"
   ]
  },
  {
   "cell_type": "markdown",
   "metadata": {},
   "source": [
    "Create a csv file:"
   ]
  },
  {
   "cell_type": "code",
   "execution_count": 42,
   "metadata": {},
   "outputs": [],
   "source": [
    "with open('datalist.csv', 'w', newline='') as csvfile:\n",
    "    filewriter = csv.writer(csvfile, delimiter=',', quotechar='\"', quoting=csv.QUOTE_MINIMAL)\n",
    "    filewriter.writerow(['er0','b0','er0.1','b0.1','er0.2','b0.2','er0.3','b0.3','er0.4','b0.4','er0.5','b0.5'])\n",
    "    filewriter.writerows(list(map(list, zip(*datalist))))"
   ]
  },
  {
   "cell_type": "markdown",
   "metadata": {},
   "source": [
    "Compute the mean $\\frac{1}{N}\\sum\\epsilon_{i}$ and the standard deviation $\\sqrt{\\frac{1}{N-1}\\sum(\\epsilon_{i}-\\bar{\\epsilon})^2}$ for each architecture:"
   ]
  },
  {
   "cell_type": "code",
   "execution_count": 44,
   "metadata": {
    "scrolled": true
   },
   "outputs": [
    {
     "name": "stdout",
     "output_type": "stream",
     "text": [
      "[[0.0533, 0.0403], [0.036, 0.0574], [0.0417, 0.0289], [0.1083, 0.0824], [0.0317, 0.0262], [0.1912, 0.0548], [0.0533, 0.0841], [0.021, 0.5284], [0.0583, 0.069], [0.0023, 0.6018], [0.0233, 0.0317], [-0.3018, 0.7501]]\n"
     ]
    }
   ],
   "source": [
    "meanAndStd = []\n",
    "for i in range(12):\n",
    "    meanAndStd.append([round(np.mean(datalist[i]),4), round(np.std(datalist[i], ddof=1),4)])\n",
    "print(meanAndStd)"
   ]
  },
  {
   "cell_type": "markdown",
   "metadata": {},
   "source": [
    "### Limit of the algorithm"
   ]
  },
  {
   "cell_type": "markdown",
   "metadata": {},
   "source": [
    "If the plane is shifted to far, the diagonal elements of the output states will all be 0 and 1. This \n",
    "results in a wrong value for $c$ as all empirical probabilities are 0 and 1. Moreover, it is indicated that no state is falsely classified, which cannot be correct."
   ]
  },
  {
   "cell_type": "code",
   "execution_count": 21,
   "metadata": {},
   "outputs": [
    {
     "name": "stdout",
     "output_type": "stream",
     "text": [
      "Trained 400 rounds for a [1, 1] network and 50 training pairs in 50.74 seconds\n",
      "[0.0, 1.0, -1.0]\n",
      "[[1.0, 0.0], [1.0, 0.0], [1.0, 0.0], [1.0, 0.0], [1.0, 0.0], [1.0, 0.0], [1.0, 0.0], [1.0, 0.0], [1.0, 0.0], [1.0, 0.0], [1.0, 0.0], [1.0, 0.0], [1.0, 0.0], [1.0, 0.0], [1.0, 0.0], [1.0, 0.0], [1.0, 0.0], [1.0, 0.0], [1.0, 0.0], [1.0, 0.0], [1.0, 0.0], [1.0, 0.0], [1.0, 0.0], [1.0, 0.0], [1.0, 0.0], [1.0, 0.0], [1.0, 0.0], [1.0, 0.0], [1.0, 0.0], [1.0, 0.0], [1.0, 0.0], [1.0, 0.0], [1.0, 0.0], [1.0, 0.0], [1.0, 0.0], [1.0, 0.0], [1.0, 0.0], [1.0, 0.0], [1.0, 0.0], [1.0, 0.0], [1.0, 0.0], [1.0, 0.0], [1.0, 0.0], [1.0, 0.0], [1.0, 0.0], [1.0, 0.0], [1.0, 0.0], [1.0, 0.0], [1.0, 0.0], [1.0, 0.0]]\n",
      "[[Quantum object: dims = [[2], [2]], shape = (2, 2), type = oper, isherm = True\n",
      "Qobj data =\n",
      "[[0.7141577 +0.j         0.10757704-0.43882076j]\n",
      " [0.10757704+0.43882076j 0.2858423 +0.j        ]], Quantum object: dims = [[2], [2]], shape = (2, 2), type = oper, isherm = True\n",
      "Qobj data =\n",
      "[[ 1.00000000e+00+0.00000000e+00j -3.39864374e-06+4.60385177e-06j]\n",
      " [-3.39864374e-06-4.60385177e-06j  8.98787958e-11+0.00000000e+00j]]], [Quantum object: dims = [[2], [2]], shape = (2, 2), type = oper, isherm = True\n",
      "Qobj data =\n",
      "[[0.04102691+0.j         0.18725625-0.06541249j]\n",
      " [0.18725625+0.06541249j 0.95897309+0.j        ]], Quantum object: dims = [[2], [2]], shape = (2, 2), type = oper, isherm = True\n",
      "Qobj data =\n",
      "[[1.00000000e+00+0.00000000e+00j 2.97988174e-06+1.31193151e-05j]\n",
      " [2.97988174e-06-1.31193151e-05j 3.05378797e-10+0.00000000e+00j]]], [Quantum object: dims = [[2], [2]], shape = (2, 2), type = oper, isherm = True\n",
      "Qobj data =\n",
      "[[0.49994489+0.j         0.01398668-0.49980433j]\n",
      " [0.01398668+0.49980433j 0.50005511+0.j        ]], Quantum object: dims = [[2], [2]], shape = (2, 2), type = oper, isherm = True\n",
      "Qobj data =\n",
      "[[ 1.00000000e+00+0.00000000e+00j -2.59580288e-06+8.72364647e-06j]\n",
      " [-2.59580288e-06-8.72364647e-06j  1.46864615e-10+0.00000000e+00j]]], [Quantum object: dims = [[2], [2]], shape = (2, 2), type = oper, isherm = True\n",
      "Qobj data =\n",
      "[[ 0.09632603+0.j        -0.19882513+0.2179814j]\n",
      " [-0.19882513-0.2179814j  0.90367397+0.j       ]], Quantum object: dims = [[2], [2]], shape = (2, 2), type = oper, isherm = True\n",
      "Qobj data =\n",
      "[[1.00000000e+00+0.00000000e+00j 6.86745689e-06+1.33572329e-05j]\n",
      " [6.86745689e-06-1.33572329e-05j 2.67037188e-10+0.00000000e+00j]]], [Quantum object: dims = [[2], [2]], shape = (2, 2), type = oper, isherm = True\n",
      "Qobj data =\n",
      "[[ 0.04701866+0.j         -0.15594027-0.14314517j]\n",
      " [-0.15594027+0.14314517j  0.95298134+0.j        ]], Quantum object: dims = [[2], [2]], shape = (2, 2), type = oper, isherm = True\n",
      "Qobj data =\n",
      "[[1.0000000e+00+0.00000000e+00j 3.5480999e-06+1.53247591e-05j]\n",
      " [3.5480999e-06-1.53247591e-05j 2.7824581e-10+0.00000000e+00j]]], [Quantum object: dims = [[2], [2]], shape = (2, 2), type = oper, isherm = True\n",
      "Qobj data =\n",
      "[[ 0.23602211+0.j         -0.17526958+0.38677674j]\n",
      " [-0.17526958-0.38677674j  0.76397789+0.j        ]], Quantum object: dims = [[2], [2]], shape = (2, 2), type = oper, isherm = True\n",
      "Qobj data =\n",
      "[[1.00000000e+00+0.00000000e+00j 7.69876870e-06+1.03699956e-05j]\n",
      " [7.69876870e-06-1.03699956e-05j 2.29642194e-10+0.00000000e+00j]]], [Quantum object: dims = [[2], [2]], shape = (2, 2), type = oper, isherm = True\n",
      "Qobj data =\n",
      "[[0.31287361+0.j         0.44243231+0.13869883j]\n",
      " [0.44243231-0.13869883j 0.68712639+0.j        ]], Quantum object: dims = [[2], [2]], shape = (2, 2), type = oper, isherm = True\n",
      "Qobj data =\n",
      "[[1.00000000e+00+0.00000000e+00j 2.62265821e-06+6.59310011e-06j]\n",
      " [2.62265821e-06-6.59310011e-06j 2.44891860e-10+0.00000000e+00j]]], [Quantum object: dims = [[2], [2]], shape = (2, 2), type = oper, isherm = True\n",
      "Qobj data =\n",
      "[[0.2907614 +0.j         0.17228283-0.42016406j]\n",
      " [0.17228283+0.42016406j 0.7092386 +0.j        ]], Quantum object: dims = [[2], [2]], shape = (2, 2), type = oper, isherm = True\n",
      "Qobj data =\n",
      "[[ 1.00000000e+00+0.00000000e+00j -1.47077933e-06+1.07428585e-05j]\n",
      " [-1.47077933e-06-1.07428585e-05j  2.22460020e-10+0.00000000e+00j]]], [Quantum object: dims = [[2], [2]], shape = (2, 2), type = oper, isherm = True\n",
      "Qobj data =\n",
      "[[0.65057795+0.j         0.20806547-0.42899305j]\n",
      " [0.20806547+0.42899305j 0.34942205+0.j        ]], Quantum object: dims = [[2], [2]], shape = (2, 2), type = oper, isherm = True\n",
      "Qobj data =\n",
      "[[ 1.00000000e+00+0.0000000e+00j -3.39385550e-06+4.9720298e-06j]\n",
      " [-3.39385550e-06-4.9720298e-06j  1.16236981e-10+0.0000000e+00j]]], [Quantum object: dims = [[2], [2]], shape = (2, 2), type = oper, isherm = True\n",
      "Qobj data =\n",
      "[[0.02642715+0.j         0.05293009-0.15141716j]\n",
      " [0.05293009+0.15141716j 0.97357285+0.j        ]], Quantum object: dims = [[2], [2]], shape = (2, 2), type = oper, isherm = True\n",
      "Qobj data =\n",
      "[[1.00000000e+00+0.00000000e+00j 2.76115629e-06+1.44691396e-05j]\n",
      " [2.76115629e-06-1.44691396e-05j 2.98847211e-10+0.00000000e+00j]]], [Quantum object: dims = [[2], [2]], shape = (2, 2), type = oper, isherm = True\n",
      "Qobj data =\n",
      "[[ 0.81228735+0.j         -0.34151305-0.18932894j]\n",
      " [-0.34151305+0.18932894j  0.18771265+0.j        ]], Quantum object: dims = [[2], [2]], shape = (2, 2), type = oper, isherm = True\n",
      "Qobj data =\n",
      "[[1.00000000e+00+0.00000000e+00j 2.11737919e-07+4.67605162e-06j]\n",
      " [2.11737919e-07-4.67605162e-06j 3.36046192e-11+0.00000000e+00j]]], [Quantum object: dims = [[2], [2]], shape = (2, 2), type = oper, isherm = True\n",
      "Qobj data =\n",
      "[[ 0.84685086+0.j         -0.36003398-0.00836722j]\n",
      " [-0.36003398+0.00836722j  0.15314914+0.j        ]], Quantum object: dims = [[2], [2]], shape = (2, 2), type = oper, isherm = True\n",
      "Qobj data =\n",
      "[[1.00000000e+00+0.0000000e+00j 1.81699198e-06+3.5195705e-06j]\n",
      " [1.81699198e-06-3.5195705e-06j 2.52213869e-11+0.0000000e+00j]]], [Quantum object: dims = [[2], [2]], shape = (2, 2), type = oper, isherm = True\n",
      "Qobj data =\n",
      "[[ 0.32622171+0.j         -0.36788537-0.29062254j]\n",
      " [-0.36788537+0.29062254j  0.67377829+0.j        ]], Quantum object: dims = [[2], [2]], shape = (2, 2), type = oper, isherm = True\n",
      "Qobj data =\n",
      "[[1.00000000e+00+0.00000000e+00j 1.66284512e-06+1.27986738e-05j]\n",
      " [1.66284512e-06-1.27986738e-05j 1.76541796e-10+0.00000000e+00j]]], [Quantum object: dims = [[2], [2]], shape = (2, 2), type = oper, isherm = True\n",
      "Qobj data =\n",
      "[[0.84928108+0.j         0.16368014-0.31813761j]\n",
      " [0.16368014+0.31813761j 0.15071892+0.j        ]], Quantum object: dims = [[2], [2]], shape = (2, 2), type = oper, isherm = True\n",
      "Qobj data =\n",
      "[[ 1.00000000e+00+0.00000000e+00j -3.12265449e-06+1.69232611e-06j]\n",
      " [-3.12265449e-06-1.69232611e-06j  5.52430081e-11+0.00000000e+00j]]], [Quantum object: dims = [[2], [2]], shape = (2, 2), type = oper, isherm = True\n",
      "Qobj data =\n",
      "[[ 0.17373422+0.j         -0.29588041+0.23665466j]\n",
      " [-0.29588041-0.23665466j  0.82626578+0.j        ]], Quantum object: dims = [[2], [2]], shape = (2, 2), type = oper, isherm = True\n",
      "Qobj data =\n",
      "[[1.00000000e+00+0.00000000e+00j 7.05130109e-06+1.26396738e-05j]\n",
      " [7.05130109e-06-1.26396738e-05j 2.37271192e-10+0.00000000e+00j]]], [Quantum object: dims = [[2], [2]], shape = (2, 2), type = oper, isherm = True\n",
      "Qobj data =\n",
      "[[ 0.58914715+0.j         -0.472845  +0.13590583j]\n",
      " [-0.472845  -0.13590583j  0.41085285+0.j        ]], Quantum object: dims = [[2], [2]], shape = (2, 2), type = oper, isherm = True\n",
      "Qobj data =\n",
      "[[1.00000000e+00+0.00000000e+00j 4.82487281e-06+7.60408485e-06j]\n",
      " [4.82487281e-06-7.60408485e-06j 9.77707183e-11+0.00000000e+00j]]], [Quantum object: dims = [[2], [2]], shape = (2, 2), type = oper, isherm = True\n",
      "Qobj data =\n",
      "[[0.30469218+0.j         0.44740373-0.10809607j]\n",
      " [0.44740373+0.10809607j 0.69530782+0.j        ]], Quantum object: dims = [[2], [2]], shape = (2, 2), type = oper, isherm = True\n",
      "Qobj data =\n",
      "[[1.00000000e+00+0.00000000e+00j 3.27502990e-07+7.68156081e-06j]\n",
      " [3.27502990e-07-7.68156081e-06j 2.43159945e-10+0.00000000e+00j]]], [Quantum object: dims = [[2], [2]], shape = (2, 2), type = oper, isherm = True\n",
      "Qobj data =\n",
      "[[0.99684134+0.j         0.0494301 -0.02655839j]\n",
      " [0.0494301 +0.02655839j 0.00315866+0.j        ]], Quantum object: dims = [[2], [2]], shape = (2, 2), type = oper, isherm = True\n",
      "Qobj data =\n",
      "[[ 1.00000000e+00+0.00000000e+00j -6.44693132e-07-1.11198522e-06j]\n",
      " [-6.44693132e-07+1.11198522e-06j  8.14326292e-12+0.00000000e+00j]]], [Quantum object: dims = [[2], [2]], shape = (2, 2), type = oper, isherm = True\n",
      "Qobj data =\n",
      "[[ 0.59179063+0.j         -0.35915466+0.33553303j]\n",
      " [-0.35915466-0.33553303j  0.40820937+0.j        ]], Quantum object: dims = [[2], [2]], shape = (2, 2), type = oper, isherm = True\n",
      "Qobj data =\n",
      "[[1.00000000e+00+0.00000000e+00j 6.24551146e-06+6.10402248e-06j]\n",
      " [6.24551146e-06-6.10402248e-06j 1.08565735e-10+0.00000000e+00j]]], [Quantum object: dims = [[2], [2]], shape = (2, 2), type = oper, isherm = True\n",
      "Qobj data =\n",
      "[[ 0.76424571+0.j         -0.01708132+0.42412549j]\n",
      " [-0.01708132-0.42412549j  0.23575429+0.j        ]], Quantum object: dims = [[2], [2]], shape = (2, 2), type = oper, isherm = True\n",
      "Qobj data =\n",
      "[[1.00000000e+00+0.00000000e+00j 4.93936768e-06+1.08471976e-06j]\n",
      " [4.93936768e-06-1.08471976e-06j 8.19856743e-11+0.00000000e+00j]]], [Quantum object: dims = [[2], [2]], shape = (2, 2), type = oper, isherm = True\n",
      "Qobj data =\n",
      "[[0.65860038+0.j        0.20042189-0.4297406j]\n",
      " [0.20042189+0.4297406j 0.34139962+0.j       ]], Quantum object: dims = [[2], [2]], shape = (2, 2), type = oper, isherm = True\n",
      "Qobj data =\n",
      "[[ 1.00000000e+00+0.00000000e+00j -3.40929205e-06+4.89444309e-06j]\n",
      " [-3.40929205e-06-4.89444309e-06j  1.13270809e-10+0.00000000e+00j]]], [Quantum object: dims = [[2], [2]], shape = (2, 2), type = oper, isherm = True\n",
      "Qobj data =\n",
      "[[0.99329369+0.j         0.08138696-0.00612355j]\n",
      " [0.08138696+0.00612355j 0.00670631+0.j        ]], Quantum object: dims = [[2], [2]], shape = (2, 2), type = oper, isherm = True\n",
      "Qobj data =\n",
      "[[ 1.00000000e+00+0.00000000e+00j -5.59690244e-07-1.32375703e-06j]\n",
      " [-5.59690244e-07+1.32375703e-06j  1.18148184e-11+0.00000000e+00j]]], [Quantum object: dims = [[2], [2]], shape = (2, 2), type = oper, isherm = True\n",
      "Qobj data =\n",
      "[[ 0.24421845+0.j         -0.22175328+0.36796913j]\n",
      " [-0.22175328-0.36796913j  0.75578155+0.j        ]], Quantum object: dims = [[2], [2]], shape = (2, 2), type = oper, isherm = True\n",
      "Qobj data =\n",
      "[[1.00000000e+00+0.00000000e+00j 7.66314766e-06+1.05870032e-05j]\n",
      " [7.66314766e-06-1.05870032e-05j 2.23586806e-10+0.00000000e+00j]]], [Quantum object: dims = [[2], [2]], shape = (2, 2), type = oper, isherm = True\n",
      "Qobj data =\n",
      "[[ 0.48324634+0.j       -0.42603202+0.261182j]\n",
      " [-0.42603202-0.261182j  0.51675366+0.j      ]], Quantum object: dims = [[2], [2]], shape = (2, 2), type = oper, isherm = True\n",
      "Qobj data =\n",
      "[[1.00000000e+00+0.00000000e+00j 6.31995195e-06+8.47848345e-06j]\n",
      " [6.31995195e-06-8.47848345e-06j 1.35286371e-10+0.00000000e+00j]]], [Quantum object: dims = [[2], [2]], shape = (2, 2), type = oper, isherm = True\n",
      "Qobj data =\n",
      "[[0.24381747+0.j         0.02529037+0.42863843j]\n",
      " [0.02529037-0.42863843j 0.75618253+0.j        ]], Quantum object: dims = [[2], [2]], shape = (2, 2), type = oper, isherm = True\n",
      "Qobj data =\n",
      "[[1.00000000e+00+0.00000000e+00j 7.27984103e-06+8.91966761e-06j]\n",
      " [7.27984103e-06-8.91966761e-06j 2.42024621e-10+0.00000000e+00j]]], [Quantum object: dims = [[2], [2]], shape = (2, 2), type = oper, isherm = True\n",
      "Qobj data =\n",
      "[[ 0.89617406+0.j         -0.09407879+0.29016426j]\n",
      " [-0.09407879-0.29016426j  0.10382594+0.j        ]], Quantum object: dims = [[2], [2]], shape = (2, 2), type = oper, isherm = True\n",
      "Qobj data =\n",
      "[[1.00000000e+00+0.00000000e+00j 3.35630155e-06+1.48938271e-08j]\n",
      " [3.35630155e-06-1.48938271e-08j 3.43564407e-11+0.00000000e+00j]]], [Quantum object: dims = [[2], [2]], shape = (2, 2), type = oper, isherm = True\n",
      "Qobj data =\n",
      "[[ 0.08815724+0.j         -0.26332161-0.10510602j]\n",
      " [-0.26332161+0.10510602j  0.91184276+0.j        ]], Quantum object: dims = [[2], [2]], shape = (2, 2), type = oper, isherm = True\n",
      "Qobj data =\n",
      "[[1.00000000e+00+0.00000000e+00j 4.12502670e-06+1.51536911e-05j]\n",
      " [4.12502670e-06-1.51536911e-05j 2.59059687e-10+0.00000000e+00j]]], [Quantum object: dims = [[2], [2]], shape = (2, 2), type = oper, isherm = True\n",
      "Qobj data =\n",
      "[[0.50776684+0.j        0.32750035+0.3777343j]\n",
      " [0.32750035-0.3777343j 0.49223316+0.j       ]], Quantum object: dims = [[2], [2]], shape = (2, 2), type = oper, isherm = True\n",
      "Qobj data =\n",
      "[[1.00000000e+00+0.00000000e+00j 4.38655154e-06+3.26695182e-06j]\n",
      " [4.38655154e-06-3.26695182e-06j 1.82497030e-10+0.00000000e+00j]]], [Quantum object: dims = [[2], [2]], shape = (2, 2), type = oper, isherm = True\n",
      "Qobj data =\n",
      "[[ 0.81242638+0.j         -0.28533979-0.26640376j]\n",
      " [-0.28533979+0.26640376j  0.18757362+0.j        ]], Quantum object: dims = [[2], [2]], shape = (2, 2), type = oper, isherm = True\n",
      "Qobj data =\n",
      "[[ 1.00000000e+00+0.00000000e+00j -7.28763917e-07+4.65784039e-06j]\n",
      " [-7.28763917e-07-4.65784039e-06j  3.60536670e-11+0.00000000e+00j]]], [Quantum object: dims = [[2], [2]], shape = (2, 2), type = oper, isherm = True\n",
      "Qobj data =\n",
      "[[ 0.96426298+0.j         -0.16675471+0.08156442j]\n",
      " [-0.16675471-0.08156442j  0.03573702+0.j        ]], Quantum object: dims = [[2], [2]], shape = (2, 2), type = oper, isherm = True\n",
      "Qobj data =\n",
      "[[1.00000000e+00+0.00000000e+00j 1.35850144e-06+2.12837124e-07j]\n",
      " [1.35850144e-06-2.12837124e-07j 4.91260205e-12+0.00000000e+00j]]], [Quantum object: dims = [[2], [2]], shape = (2, 2), type = oper, isherm = True\n",
      "Qobj data =\n",
      "[[0.59984551+0.j         0.18101388+0.45526349j]\n",
      " [0.18101388-0.45526349j 0.40015449+0.j        ]], Quantum object: dims = [[2], [2]], shape = (2, 2), type = oper, isherm = True\n",
      "Qobj data =\n",
      "[[1.00000000e+00+0.00000000e+00j 5.24392981e-06+2.37120078e-06j]\n",
      " [5.24392981e-06-2.37120078e-06j 1.45947941e-10+0.00000000e+00j]]], [Quantum object: dims = [[2], [2]], shape = (2, 2), type = oper, isherm = True\n",
      "Qobj data =\n",
      "[[0.67682926+0.j         0.45092614+0.12408477j]\n",
      " [0.45092614-0.12408477j 0.32317074+0.j        ]], Quantum object: dims = [[2], [2]], shape = (2, 2), type = oper, isherm = True\n",
      "Qobj data =\n",
      "[[1.00000000e+00+0.000000e+00j 7.31149023e-07+9.390523e-07j]\n",
      " [7.31149023e-07-9.390523e-07j 1.35413691e-10+0.000000e+00j]]], [Quantum object: dims = [[2], [2]], shape = (2, 2), type = oper, isherm = True\n",
      "Qobj data =\n",
      "[[ 0.85678837+0.j         -0.34515244+0.05976498j]\n",
      " [-0.34515244-0.05976498j  0.14321163+0.j        ]], Quantum object: dims = [[2], [2]], shape = (2, 2), type = oper, isherm = True\n",
      "Qobj data =\n",
      "[[1.00000000e+00+0.00000000e+00j 2.35150593e-06+3.00549067e-06j]\n",
      " [2.35150593e-06-3.00549067e-06j 2.45145122e-11+0.00000000e+00j]]], [Quantum object: dims = [[2], [2]], shape = (2, 2), type = oper, isherm = True\n",
      "Qobj data =\n",
      "[[0.14490955+0.j         0.22827084-0.26796118j]\n",
      " [0.22827084+0.26796118j 0.85509045+0.j        ]], Quantum object: dims = [[2], [2]], shape = (2, 2), type = oper, isherm = True\n",
      "Qobj data =\n",
      "[[1.00000000e+00+0.00000000e+00j 4.30385261e-07+1.20778085e-05j]\n",
      " [4.30385261e-07-1.20778085e-05j 2.73163129e-10+0.00000000e+00j]]], [Quantum object: dims = [[2], [2]], shape = (2, 2), type = oper, isherm = True\n",
      "Qobj data =\n",
      "[[0.26531785+0.j         0.30515247-0.31907093j]\n",
      " [0.30515247+0.31907093j 0.73468215+0.j        ]], Quantum object: dims = [[2], [2]], shape = (2, 2), type = oper, isherm = True\n",
      "Qobj data =\n",
      "[[ 1.00000000e+00+0.00000000e+00j -9.15496598e-07+9.96405601e-06j]\n",
      " [-9.15496598e-07-9.96405601e-06j  2.41248655e-10+0.00000000e+00j]]], [Quantum object: dims = [[2], [2]], shape = (2, 2), type = oper, isherm = True\n",
      "Qobj data =\n",
      "[[ 0.99523174+0.j         -0.04203205+0.05457867j]\n",
      " [-0.04203205-0.05457867j  0.00476826+0.j        ]], Quantum object: dims = [[2], [2]], shape = (2, 2), type = oper, isherm = True\n",
      "Qobj data =\n",
      "[[1.00000000e+00+0.00000000e+00j 4.77168533e-07-8.82884943e-07j]\n",
      " [4.77168533e-07+8.82884943e-07j 2.77354181e-12+0.00000000e+00j]]], [Quantum object: dims = [[2], [2]], shape = (2, 2), type = oper, isherm = True\n",
      "Qobj data =\n",
      "[[ 0.14051083+0.j         -0.13895916-0.31852455j]\n",
      " [-0.13895916+0.31852455j  0.85948917+0.j        ]], Quantum object: dims = [[2], [2]], shape = (2, 2), type = oper, isherm = True\n",
      "Qobj data =\n",
      "[[1.00000000e+00+0.00000000e+00j 1.39540099e-06+1.44750961e-05j]\n",
      " [1.39540099e-06-1.44750961e-05j 2.47992076e-10+0.00000000e+00j]]], [Quantum object: dims = [[2], [2]], shape = (2, 2), type = oper, isherm = True\n",
      "Qobj data =\n",
      "[[0.12039399+0.j         0.30535378-0.11250933j]\n",
      " [0.30535378+0.11250933j 0.87960601+0.j        ]], Quantum object: dims = [[2], [2]], shape = (2, 2), type = oper, isherm = True\n",
      "Qobj data =\n",
      "[[1.00000000e+00+0.00000000e+00j 1.70657843e-06+1.13894932e-05j]\n",
      " [1.70657843e-06-1.13894932e-05j 2.88789265e-10+0.00000000e+00j]]], [Quantum object: dims = [[2], [2]], shape = (2, 2), type = oper, isherm = True\n",
      "Qobj data =\n",
      "[[0.60189183+0.j         0.09846061-0.47950345j]\n",
      " [0.09846061+0.47950345j 0.39810817+0.j        ]], Quantum object: dims = [[2], [2]], shape = (2, 2), type = oper, isherm = True\n",
      "Qobj data =\n",
      "[[ 1.00000000e+00+0.00000000e+00j -3.21393138e-06+6.56677713e-06j]\n",
      " [-3.21393138e-06-6.56677713e-06j  1.22363719e-10+0.00000000e+00j]]], [Quantum object: dims = [[2], [2]], shape = (2, 2), type = oper, isherm = True\n",
      "Qobj data =\n",
      "[[ 0.98268079+0.j         -0.02115522-0.12873115j]\n",
      " [-0.02115522+0.12873115j  0.01731921+0.j        ]], Quantum object: dims = [[2], [2]], shape = (2, 2), type = oper, isherm = True\n",
      "Qobj data =\n",
      "[[ 1.00000000e+00+0.00000000e+00j -1.26333493e-06-7.31606535e-08j]\n",
      " [-1.26333493e-06+7.31606535e-08j  5.61899158e-12+0.00000000e+00j]]], [Quantum object: dims = [[2], [2]], shape = (2, 2), type = oper, isherm = True\n",
      "Qobj data =\n",
      "[[ 0.08520561+0.j         -0.17878117-0.21443625j]\n",
      " [-0.17878117+0.21443625j  0.91479439+0.j        ]], Quantum object: dims = [[2], [2]], shape = (2, 2), type = oper, isherm = True\n",
      "Qobj data =\n",
      "[[1.00000000e+00+0.00000000e+00j 2.78705682e-06+1.51487272e-05j]\n",
      " [2.78705682e-06-1.51487272e-05j 2.63821891e-10+0.00000000e+00j]]], [Quantum object: dims = [[2], [2]], shape = (2, 2), type = oper, isherm = True\n",
      "Qobj data =\n",
      "[[ 0.57597603+0.j         -0.01690126-0.49390484j]\n",
      " [-0.01690126+0.49390484j  0.42402397+0.j        ]], Quantum object: dims = [[2], [2]], shape = (2, 2), type = oper, isherm = True\n",
      "Qobj data =\n",
      "[[ 1.00000000e+00+0.00000000e+00j -2.78082099e-06+7.69568759e-06j]\n",
      " [-2.78082099e-06-7.69568759e-06j  1.21885339e-10+0.00000000e+00j]]], [Quantum object: dims = [[2], [2]], shape = (2, 2), type = oper, isherm = True\n",
      "Qobj data =\n",
      "[[ 0.25778254+0.j         -0.22424765-0.37555784j]\n",
      " [-0.22424765+0.37555784j  0.74221746+0.j        ]], Quantum object: dims = [[2], [2]], shape = (2, 2), type = oper, isherm = True\n",
      "Qobj data =\n",
      "[[1.00000000e+00+0.00000000e+00j 6.35186292e-07+1.33727714e-05j]\n",
      " [6.35186292e-07-1.33727714e-05j 2.05624423e-10+0.00000000e+00j]]], [Quantum object: dims = [[2], [2]], shape = (2, 2), type = oper, isherm = True\n",
      "Qobj data =\n",
      "[[ 0.88047819+0.j         -0.03326466-0.32269151j]\n",
      " [-0.03326466+0.32269151j  0.11952181+0.j        ]], Quantum object: dims = [[2], [2]], shape = (2, 2), type = oper, isherm = True\n",
      "Qobj data =\n",
      "[[ 1.00000000e+00+0.00000000e+00j -2.55223410e-06+2.36531794e-06j]\n",
      " [-2.55223410e-06-2.36531794e-06j  3.20360431e-11+0.00000000e+00j]]], [Quantum object: dims = [[2], [2]], shape = (2, 2), type = oper, isherm = True\n",
      "Qobj data =\n",
      "[[ 0.51099584+0.j         -0.40990961+0.28609998j]\n",
      " [-0.40990961-0.28609998j  0.48900416+0.j        ]], Quantum object: dims = [[2], [2]], shape = (2, 2), type = oper, isherm = True\n",
      "Qobj data =\n",
      "[[1.00000000e+00+0.00000000e+00j 6.36011607e-06+7.85338707e-06j]\n",
      " [6.36011607e-06-7.85338707e-06j 1.28496200e-10+0.00000000e+00j]]], [Quantum object: dims = [[2], [2]], shape = (2, 2), type = oper, isherm = True\n",
      "Qobj data =\n",
      "[[ 0.71789608+0.j         -0.34334386-0.29092318j]\n",
      " [-0.34334386+0.29092318j  0.28210392+0.j        ]], Quantum object: dims = [[2], [2]], shape = (2, 2), type = oper, isherm = True\n",
      "Qobj data =\n",
      "[[ 1.00000000e+00+0.00000000e+00j -2.87524370e-07+6.56297767e-06j]\n",
      " [-2.87524370e-07-6.56297767e-06j  6.00821938e-11+0.00000000e+00j]]], [Quantum object: dims = [[2], [2]], shape = (2, 2), type = oper, isherm = True\n",
      "Qobj data =\n",
      "[[ 0.79470484+0.j         -0.30836703+0.26088088j]\n",
      " [-0.30836703-0.26088088j  0.20529516+0.j        ]], Quantum object: dims = [[2], [2]], shape = (2, 2), type = oper, isherm = True\n",
      "Qobj data =\n",
      "[[1.00000000e+00+0.00000000e+00j 4.38933558e-06+2.95189962e-06j]\n",
      " [4.38933558e-06-2.95189962e-06j 4.95100397e-11+0.00000000e+00j]]], [Quantum object: dims = [[2], [2]], shape = (2, 2), type = oper, isherm = True\n",
      "Qobj data =\n",
      "[[0.31750996+0.j         0.06983663-0.46023932j]\n",
      " [0.06983663+0.46023932j 0.68249004+0.j        ]], Quantum object: dims = [[2], [2]], shape = (2, 2), type = oper, isherm = True\n",
      "Qobj data =\n",
      "[[ 1.00000000e+00+0.00000000e+00j -1.57746857e-06+1.10804703e-05j]\n",
      " [-1.57746857e-06-1.10804703e-05j  2.06519793e-10+0.00000000e+00j]]], [Quantum object: dims = [[2], [2]], shape = (2, 2), type = oper, isherm = True\n",
      "Qobj data =\n",
      "[[0.42958711+0.j         0.26327968-0.41919665j]\n",
      " [0.26327968+0.41919665j 0.57041289+0.j        ]], Quantum object: dims = [[2], [2]], shape = (2, 2), type = oper, isherm = True\n",
      "Qobj data =\n",
      "[[ 1.00000000e+00+0.00000000e+00j -2.46987820e-06+8.05190676e-06j]\n",
      " [-2.46987820e-06-8.05190676e-06j  1.86931301e-10+0.00000000e+00j]]], [Quantum object: dims = [[2], [2]], shape = (2, 2), type = oper, isherm = True\n",
      "Qobj data =\n",
      "[[ 0.26811065+0.j        -0.22020977+0.3843631j]\n",
      " [-0.22020977-0.3843631j  0.73188935+0.j       ]], Quantum object: dims = [[2], [2]], shape = (2, 2), type = oper, isherm = True\n",
      "Qobj data =\n",
      "[[1.00000000e+00+0.00000000e+00j 7.69792393e-06+1.01405234e-05j]\n",
      " [7.69792393e-06-1.01405234e-05j 2.16788322e-10+0.00000000e+00j]]]]\n"
     ]
    },
    {
     "name": "stdout",
     "output_type": "stream",
     "text": [
      "Trained 400 rounds for a [1, 1] network and 50 training pairs in 48.63 seconds\n",
      "[0.0, 0.0, 1.0]\n",
      "[[0.0, 1.0], [0.0, 1.0], [0.0, 1.0], [0.0, 1.0], [0.0, 1.0], [0.0, 1.0], [0.0, 1.0], [0.0, 1.0], [0.0, 1.0], [0.0, 1.0], [0.0, 1.0], [0.0, 1.0], [0.0, 1.0], [0.0, 1.0], [0.0, 1.0], [0.0, 1.0], [0.0, 1.0], [0.0, 1.0], [0.0, 1.0], [0.0, 1.0], [0.0, 1.0], [0.0, 1.0], [0.0, 1.0], [0.0, 1.0], [0.0, 1.0], [0.0, 1.0], [0.0, 1.0], [0.0, 1.0], [0.0, 1.0], [0.0, 1.0], [0.0, 1.0], [0.0, 1.0], [0.0, 1.0], [0.0, 1.0], [0.0, 1.0], [0.0, 1.0], [0.0, 1.0], [0.0, 1.0], [0.0, 1.0], [0.0, 1.0], [0.0, 1.0], [0.0, 1.0], [0.0, 1.0], [0.0, 1.0], [0.0, 1.0], [0.0, 1.0], [0.0, 1.0], [0.0, 1.0], [0.0, 1.0], [0.0, 1.0]]\n",
      "[[Quantum object: dims = [[2], [2]], shape = (2, 2), type = oper, isherm = True\n",
      "Qobj data =\n",
      "[[ 0.62455775+0.j       -0.48171306-0.049375j]\n",
      " [-0.48171306+0.049375j  0.37544225+0.j      ]], Quantum object: dims = [[2], [2]], shape = (2, 2), type = oper, isherm = True\n",
      "Qobj data =\n",
      "[[ 0.00000000e+00+0.00000000e+00j -2.73215756e-09+8.34503404e-09j]\n",
      " [-2.73215756e-09-8.34503404e-09j  1.00000000e+00+0.00000000e+00j]]], [Quantum object: dims = [[2], [2]], shape = (2, 2), type = oper, isherm = True\n",
      "Qobj data =\n",
      "[[0.49765237+0.j         0.49120854+0.09332021j]\n",
      " [0.49120854-0.09332021j 0.50234763+0.j        ]], Quantum object: dims = [[2], [2]], shape = (2, 2), type = oper, isherm = True\n",
      "Qobj data =\n",
      "[[0.00000000e+00+0.00000000e+00j 1.44912399e-09+2.12954546e-09j]\n",
      " [1.44912399e-09-2.12954546e-09j 1.00000000e+00+0.00000000e+00j]]], [Quantum object: dims = [[2], [2]], shape = (2, 2), type = oper, isherm = True\n",
      "Qobj data =\n",
      "[[0.05194484+0.j         0.14708886+0.16616691j]\n",
      " [0.14708886-0.16616691j 0.94805516+0.j        ]], Quantum object: dims = [[2], [2]], shape = (2, 2), type = oper, isherm = True\n",
      "Qobj data =\n",
      "[[0.00000000e+00+0.00000000e+00j 1.36282733e-09-1.64546848e-09j]\n",
      " [1.36282733e-09+1.64546848e-09j 1.00000000e+00+0.00000000e+00j]]], [Quantum object: dims = [[2], [2]], shape = (2, 2), type = oper, isherm = True\n",
      "Qobj data =\n",
      "[[ 0.89389942+0.j         -0.24629537-0.18488331j]\n",
      " [-0.24629537+0.18488331j  0.10610058+0.j        ]], Quantum object: dims = [[2], [2]], shape = (2, 2), type = oper, isherm = True\n",
      "Qobj data =\n",
      "[[ 0.00000000e+00+0.00000000e+00j -3.46290362e-09+1.04473292e-08j]\n",
      " [-3.46290362e-09-1.04473292e-08j  1.00000000e+00+0.00000000e+00j]]], [Quantum object: dims = [[2], [2]], shape = (2, 2), type = oper, isherm = True\n",
      "Qobj data =\n",
      "[[ 0.11368557+0.j        -0.13736921+0.2861658j]\n",
      " [-0.13736921-0.2861658j  0.88631443+0.j       ]], Quantum object: dims = [[2], [2]], shape = (2, 2), type = oper, isherm = True\n",
      "Qobj data =\n",
      "[[0.00000000e+00+0.00000000e+00j 1.65122347e-09+5.55361803e-10j]\n",
      " [1.65122347e-09-5.55361803e-10j 1.00000000e+00+0.00000000e+00j]]], [Quantum object: dims = [[2], [2]], shape = (2, 2), type = oper, isherm = True\n",
      "Qobj data =\n",
      "[[ 0.06876256+0.j         -0.25229195+0.01957153j]\n",
      " [-0.25229195-0.01957153j  0.93123744+0.j        ]], Quantum object: dims = [[2], [2]], shape = (2, 2), type = oper, isherm = True\n",
      "Qobj data =\n",
      "[[ 0.00000000e+00+0.00000000e+00j -1.16559105e-09+4.28205726e-10j]\n",
      " [-1.16559105e-09-4.28205726e-10j  1.00000000e+00+0.00000000e+00j]]], [Quantum object: dims = [[2], [2]], shape = (2, 2), type = oper, isherm = True\n",
      "Qobj data =\n",
      "[[ 0.29017629+0.j         -0.44722595+0.07722024j]\n",
      " [-0.44722595-0.07722024j  0.70982371+0.j        ]], Quantum object: dims = [[2], [2]], shape = (2, 2), type = oper, isherm = True\n",
      "Qobj data =\n",
      "[[ 0.0000000e+00+0.00000000e+00j -1.2839703e-09+4.12731999e-09j]\n",
      " [-1.2839703e-09-4.12731999e-09j  1.0000000e+00+0.00000000e+00j]]], [Quantum object: dims = [[2], [2]], shape = (2, 2), type = oper, isherm = True\n",
      "Qobj data =\n",
      "[[ 0.79801496+0.j         -0.380433  -0.12828801j]\n",
      " [-0.380433  +0.12828801j  0.20198504+0.j        ]], Quantum object: dims = [[2], [2]], shape = (2, 2), type = oper, isherm = True\n",
      "Qobj data =\n",
      "[[ 0.00000000e+00+0.00000000e+00j -3.26780757e-09+9.94753305e-09j]\n",
      " [-3.26780757e-09-9.94753305e-09j  1.00000000e+00+0.00000000e+00j]]], [Quantum object: dims = [[2], [2]], shape = (2, 2), type = oper, isherm = True\n",
      "Qobj data =\n",
      "[[ 0.39448384+0.j         -0.36673367+0.32306773j]\n",
      " [-0.36673367-0.32306773j  0.60551616+0.j        ]], Quantum object: dims = [[2], [2]], shape = (2, 2), type = oper, isherm = True\n",
      "Qobj data =\n",
      "[[0.00000000e+00+0.00000000e+00j 1.21117606e-09+5.14186659e-09j]\n",
      " [1.21117606e-09-5.14186659e-09j 1.00000000e+00+0.00000000e+00j]]], [Quantum object: dims = [[2], [2]], shape = (2, 2), type = oper, isherm = True\n",
      "Qobj data =\n",
      "[[0.33982483+0.j         0.29113462+0.37361015j]\n",
      " [0.29113462-0.37361015j 0.66017517+0.j        ]], Quantum object: dims = [[2], [2]], shape = (2, 2), type = oper, isherm = True\n",
      "Qobj data =\n",
      "[[0.00000000e+00+0.00000000e+00j 3.59120451e-09+1.29941129e-09j]\n",
      " [3.59120451e-09-1.29941129e-09j 1.00000000e+00+0.00000000e+00j]]], [Quantum object: dims = [[2], [2]], shape = (2, 2), type = oper, isherm = True\n",
      "Qobj data =\n",
      "[[0.3050244 +0.j         0.08886329+0.45176081j]\n",
      " [0.08886329-0.45176081j 0.6949756 +0.j        ]], Quantum object: dims = [[2], [2]], shape = (2, 2), type = oper, isherm = True\n",
      "Qobj data =\n",
      "[[0.00000000e+00+0.00000000e+00j 3.76585813e-09+1.89266906e-09j]\n",
      " [3.76585813e-09-1.89266906e-09j 1.00000000e+00+0.00000000e+00j]]], [Quantum object: dims = [[2], [2]], shape = (2, 2), type = oper, isherm = True\n",
      "Qobj data =\n",
      "[[0.17079428+0.j         0.01083005-0.37617324j]\n",
      " [0.01083005+0.37617324j 0.82920572+0.j        ]], Quantum object: dims = [[2], [2]], shape = (2, 2), type = oper, isherm = True\n",
      "Qobj data =\n",
      "[[ 0.00000000e+00+0.00000000e+00j -4.18827638e-09+2.08285688e-10j]\n",
      " [-4.18827638e-09-2.08285688e-10j  1.00000000e+00+0.00000000e+00j]]], [Quantum object: dims = [[2], [2]], shape = (2, 2), type = oper, isherm = True\n",
      "Qobj data =\n",
      "[[ 0.08078682+0.j        -0.25943439-0.0833913j]\n",
      " [-0.25943439+0.0833913j  0.91921318+0.j       ]], Quantum object: dims = [[2], [2]], shape = (2, 2), type = oper, isherm = True\n",
      "Qobj data =\n",
      "[[ 0.0000000e+00+0.00000000e+00j -2.1610196e-09+5.59543349e-10j]\n",
      " [-2.1610196e-09-5.59543349e-10j  1.0000000e+00+0.00000000e+00j]]], [Quantum object: dims = [[2], [2]], shape = (2, 2), type = oper, isherm = True\n",
      "Qobj data =\n",
      "[[ 0.34326358+0.j         -0.03998038+0.47311231j]\n",
      " [-0.03998038-0.47311231j  0.65673642+0.j        ]], Quantum object: dims = [[2], [2]], shape = (2, 2), type = oper, isherm = True\n",
      "Qobj data =\n",
      "[[0.00000000e+00+0.00000000e+00j 3.58093934e-09+2.99947332e-09j]\n",
      " [3.58093934e-09-2.99947332e-09j 1.00000000e+00+0.00000000e+00j]]], [Quantum object: dims = [[2], [2]], shape = (2, 2), type = oper, isherm = True\n",
      "Qobj data =\n",
      "[[0.64106461+0.j         0.47848488+0.03395583j]\n",
      " [0.47848488-0.03395583j 0.35893539+0.j        ]], Quantum object: dims = [[2], [2]], shape = (2, 2), type = oper, isherm = True\n",
      "Qobj data =\n",
      "[[0.00000000e+00+0.00000000e+00j 7.86192183e-10+3.92590749e-09j]\n",
      " [7.86192183e-10-3.92590749e-09j 1.00000000e+00+0.00000000e+00j]]], [Quantum object: dims = [[2], [2]], shape = (2, 2), type = oper, isherm = True\n",
      "Qobj data =\n",
      "[[ 0.82804316+0.j         -0.36620233-0.09101395j]\n",
      " [-0.36620233+0.09101395j  0.17195684+0.j        ]], Quantum object: dims = [[2], [2]], shape = (2, 2), type = oper, isherm = True\n",
      "Qobj data =\n",
      "[[ 0.00000000e+00+0.00000000e+00j -2.89043038e-09+1.02663514e-08j]\n",
      " [-2.89043038e-09-1.02663514e-08j  1.00000000e+00+0.00000000e+00j]]], [Quantum object: dims = [[2], [2]], shape = (2, 2), type = oper, isherm = True\n",
      "Qobj data =\n",
      "[[0.64429392+0.j         0.22858861-0.42062634j]\n",
      " [0.22858861+0.42062634j 0.35570608+0.j        ]], Quantum object: dims = [[2], [2]], shape = (2, 2), type = oper, isherm = True\n",
      "Qobj data =\n",
      "[[ 0.00000000e+00+0.00000000e+00j -4.20857905e-09+4.95304263e-09j]\n",
      " [-4.20857905e-09-4.95304263e-09j  1.00000000e+00+0.00000000e+00j]]], [Quantum object: dims = [[2], [2]], shape = (2, 2), type = oper, isherm = True\n",
      "Qobj data =\n",
      "[[ 0.65675391+0.j         -0.11970151+0.45945594j]\n",
      " [-0.11970151-0.45945594j  0.34324609+0.j        ]], Quantum object: dims = [[2], [2]], shape = (2, 2), type = oper, isherm = True\n",
      "Qobj data =\n",
      "[[0.00000000e+00+0.00000000e+00j 3.07673937e-09+7.23613671e-09j]\n",
      " [3.07673937e-09-7.23613671e-09j 1.00000000e+00+0.00000000e+00j]]], [Quantum object: dims = [[2], [2]], shape = (2, 2), type = oper, isherm = True\n",
      "Qobj data =\n",
      "[[ 0.49691412+0.j         -0.41355463+0.28100365j]\n",
      " [-0.41355463-0.28100365j  0.50308588+0.j        ]], Quantum object: dims = [[2], [2]], shape = (2, 2), type = oper, isherm = True\n",
      "Qobj data =\n",
      "[[0.00000000e+00+0.00000000e+00j 6.33112296e-10+6.60833138e-09j]\n",
      " [6.33112296e-10-6.60833138e-09j 1.00000000e+00+0.00000000e+00j]]], [Quantum object: dims = [[2], [2]], shape = (2, 2), type = oper, isherm = True\n",
      "Qobj data =\n",
      "[[0.55350553+0.j         0.10095137-0.48677097j]\n",
      " [0.10095137+0.48677097j 0.44649447+0.j        ]], Quantum object: dims = [[2], [2]], shape = (2, 2), type = oper, isherm = True\n",
      "Qobj data =\n",
      "[[ 0.0000000e+00+0.0000000e+00j -5.1528812e-09+4.4232502e-09j]\n",
      " [-5.1528812e-09-4.4232502e-09j  1.0000000e+00+0.0000000e+00j]]], [Quantum object: dims = [[2], [2]], shape = (2, 2), type = oper, isherm = True\n",
      "Qobj data =\n",
      "[[ 0.70935241+0.j         -0.43234013-0.13875727j]\n",
      " [-0.43234013+0.13875727j  0.29064759+0.j        ]], Quantum object: dims = [[2], [2]], shape = (2, 2), type = oper, isherm = True\n",
      "Qobj data =\n",
      "[[ 0.00000000e+00+0.00000000e+00j -3.47272058e-09+9.10379077e-09j]\n",
      " [-3.47272058e-09-9.10379077e-09j  1.00000000e+00+0.00000000e+00j]]], [Quantum object: dims = [[2], [2]], shape = (2, 2), type = oper, isherm = True\n",
      "Qobj data =\n",
      "[[ 0.89625438+0.j         -0.24666282-0.17927609j]\n",
      " [-0.24666282+0.17927609j  0.10374562+0.j        ]], Quantum object: dims = [[2], [2]], shape = (2, 2), type = oper, isherm = True\n",
      "Qobj data =\n",
      "[[ 0.00000000e+00+0.00000000e+00j -3.41227461e-09+1.04808742e-08j]\n",
      " [-3.41227461e-09-1.04808742e-08j  1.00000000e+00+0.00000000e+00j]]], [Quantum object: dims = [[2], [2]], shape = (2, 2), type = oper, isherm = True\n",
      "Qobj data =\n",
      "[[ 0.26129362+0.j         -0.41176056-0.15320738j]\n",
      " [-0.41176056+0.15320738j  0.73870638+0.j        ]], Quantum object: dims = [[2], [2]], shape = (2, 2), type = oper, isherm = True\n",
      "Qobj data =\n",
      "[[ 0.00000000e+00+0.00000000e+00j -3.33846486e-09+3.48505078e-09j]\n",
      " [-3.33846486e-09-3.48505078e-09j  1.00000000e+00+0.00000000e+00j]]], [Quantum object: dims = [[2], [2]], shape = (2, 2), type = oper, isherm = True\n",
      "Qobj data =\n",
      "[[0.1739854 +0.j         0.00847776+0.37900212j]\n",
      " [0.00847776-0.37900212j 0.8260146 +0.j        ]], Quantum object: dims = [[2], [2]], shape = (2, 2), type = oper, isherm = True\n",
      "Qobj data =\n",
      "[[0.00000000e+00+0.0000000e+00j 2.91320609e-09+6.3495816e-10j]\n",
      " [2.91320609e-09-6.3495816e-10j 1.00000000e+00+0.0000000e+00j]]], [Quantum object: dims = [[2], [2]], shape = (2, 2), type = oper, isherm = True\n",
      "Qobj data =\n",
      "[[0.54607085+0.j        0.13803509+0.4783553j]\n",
      " [0.13803509-0.4783553j 0.45392915+0.j       ]], Quantum object: dims = [[2], [2]], shape = (2, 2), type = oper, isherm = True\n",
      "Qobj data =\n",
      "[[0.00000000e+00+0.00000000e+00j 4.04283053e-09+4.63220632e-09j]\n",
      " [4.04283053e-09-4.63220632e-09j 1.00000000e+00+0.00000000e+00j]]], [Quantum object: dims = [[2], [2]], shape = (2, 2), type = oper, isherm = True\n",
      "Qobj data =\n",
      "[[ 0.03784637+0.j         -0.18509058-0.04642734j]\n",
      " [-0.18509058+0.04642734j  0.96215363+0.j        ]], Quantum object: dims = [[2], [2]], shape = (2, 2), type = oper, isherm = True\n",
      "Qobj data =\n",
      "[[ 0.00000000e+00+0.00000000e+00j -1.58047332e-09-3.11351947e-10j]\n",
      " [-1.58047332e-09+3.11351947e-10j  1.00000000e+00+0.00000000e+00j]]], [Quantum object: dims = [[2], [2]], shape = (2, 2), type = oper, isherm = True\n",
      "Qobj data =\n",
      "[[ 0.81761229+0.j         -0.37479507-0.09301123j]\n",
      " [-0.37479507+0.09301123j  0.18238771+0.j        ]], Quantum object: dims = [[2], [2]], shape = (2, 2), type = oper, isherm = True\n",
      "Qobj data =\n",
      "[[ 0.00000000e+00+0.00000000e+00j -2.92884388e-09+1.01787812e-08j]\n",
      " [-2.92884388e-09-1.01787812e-08j  1.00000000e+00+0.00000000e+00j]]], [Quantum object: dims = [[2], [2]], shape = (2, 2), type = oper, isherm = True\n",
      "Qobj data =\n",
      "[[ 0.35974119+0.j         -0.02317464-0.47936458j]\n",
      " [-0.02317464+0.47936458j  0.64025881+0.j        ]], Quantum object: dims = [[2], [2]], shape = (2, 2), type = oper, isherm = True\n",
      "Qobj data =\n",
      "[[ 0.00000000e+00+0.00000000e+00j -5.34608411e-09+2.64631245e-09j]\n",
      " [-5.34608411e-09-2.64631245e-09j  1.00000000e+00+0.00000000e+00j]]], [Quantum object: dims = [[2], [2]], shape = (2, 2), type = oper, isherm = True\n",
      "Qobj data =\n",
      "[[ 0.78539783+0.j         -0.23409164+0.33726722j]\n",
      " [-0.23409164-0.33726722j  0.21460217+0.j        ]], Quantum object: dims = [[2], [2]], shape = (2, 2), type = oper, isherm = True\n",
      "Qobj data =\n",
      "[[0.00000000e+00+0.00000000e+00j 1.53902741e-09+9.31334602e-09j]\n",
      " [1.53902741e-09-9.31334602e-09j 1.00000000e+00+0.00000000e+00j]]], [Quantum object: dims = [[2], [2]], shape = (2, 2), type = oper, isherm = True\n",
      "Qobj data =\n",
      "[[0.9555223 +0.j         0.03847819+0.20253115j]\n",
      " [0.03847819-0.20253115j 0.0444777 +0.j        ]], Quantum object: dims = [[2], [2]], shape = (2, 2), type = oper, isherm = True\n",
      "Qobj data =\n",
      "[[0.00000000e+00+0.00000000e+00j 9.68473303e-10+1.00151032e-08j]\n",
      " [9.68473303e-10-1.00151032e-08j 1.00000000e+00+0.00000000e+00j]]], [Quantum object: dims = [[2], [2]], shape = (2, 2), type = oper, isherm = True\n",
      "Qobj data =\n",
      "[[ 0.90997012+0.j         -0.27647081+0.07408369j]\n",
      " [-0.27647081-0.07408369j  0.09002988+0.j        ]], Quantum object: dims = [[2], [2]], shape = (2, 2), type = oper, isherm = True\n",
      "Qobj data =\n",
      "[[ 0.00000000e+00+0.00000000e+00j -1.11856808e-09+1.09205141e-08j]\n",
      " [-1.11856808e-09-1.09205141e-08j  1.00000000e+00+0.00000000e+00j]]], [Quantum object: dims = [[2], [2]], shape = (2, 2), type = oper, isherm = True\n",
      "Qobj data =\n",
      "[[ 0.18434864+0.j         -0.08441432-0.37846855j]\n",
      " [-0.08441432+0.37846855j  0.81565136+0.j        ]], Quantum object: dims = [[2], [2]], shape = (2, 2), type = oper, isherm = True\n",
      "Qobj data =\n",
      "[[ 0.00000000e+00+0.00000000e+00j -4.48823252e-09+8.36476216e-10j]\n",
      " [-4.48823252e-09-8.36476216e-10j  1.00000000e+00+0.00000000e+00j]]], [Quantum object: dims = [[2], [2]], shape = (2, 2), type = oper, isherm = True\n",
      "Qobj data =\n",
      "[[ 0.13125513+0.j         -0.29024243-0.17258781j]\n",
      " [-0.29024243+0.17258781j  0.86874487+0.j        ]], Quantum object: dims = [[2], [2]], shape = (2, 2), type = oper, isherm = True\n",
      "Qobj data =\n",
      "[[ 0.00000000e+00+0.00000000e+00j -3.11256497e-09+1.28558052e-09j]\n",
      " [-3.11256497e-09-1.28558052e-09j  1.00000000e+00+0.00000000e+00j]]], [Quantum object: dims = [[2], [2]], shape = (2, 2), type = oper, isherm = True\n",
      "Qobj data =\n",
      "[[ 0.77856429+0.j        -0.26570307-0.3190671j]\n",
      " [-0.26570307+0.3190671j  0.22143571+0.j       ]], Quantum object: dims = [[2], [2]], shape = (2, 2), type = oper, isherm = True\n",
      "Qobj data =\n",
      "[[ 0.00000000e+00+0.00000000e+00j -4.72715767e-09+9.05604107e-09j]\n",
      " [-4.72715767e-09-9.05604107e-09j  1.00000000e+00+0.00000000e+00j]]], [Quantum object: dims = [[2], [2]], shape = (2, 2), type = oper, isherm = True\n",
      "Qobj data =\n",
      "[[0.62491034+0.j         0.47117834-0.11130311j]\n",
      " [0.47117834+0.11130311j 0.37508966+0.j        ]], Quantum object: dims = [[2], [2]], shape = (2, 2), type = oper, isherm = True\n",
      "Qobj data =\n",
      "[[ 0.00000000e+00+0.00000000e+00j -5.94603955e-10+3.69035811e-09j]\n",
      " [-5.94603955e-10-3.69035811e-09j  1.00000000e+00+0.00000000e+00j]]], [Quantum object: dims = [[2], [2]], shape = (2, 2), type = oper, isherm = True\n",
      "Qobj data =\n",
      "[[0.85333117+0.j         0.16090835-0.31506442j]\n",
      " [0.16090835+0.31506442j 0.14666883+0.j        ]], Quantum object: dims = [[2], [2]], shape = (2, 2), type = oper, isherm = True\n",
      "Qobj data =\n",
      "[[ 0.00000000e+00+0.00000000e+00j -3.50668711e-09+7.90569904e-09j]\n",
      " [-3.50668711e-09-7.90569904e-09j  1.00000000e+00+0.00000000e+00j]]], [Quantum object: dims = [[2], [2]], shape = (2, 2), type = oper, isherm = True\n",
      "Qobj data =\n",
      "[[0.1227611 +0.j         0.23926126-0.22459934j]\n",
      " [0.23926126+0.22459934j 0.8772389 +0.j        ]], Quantum object: dims = [[2], [2]], shape = (2, 2), type = oper, isherm = True\n",
      "Qobj data =\n",
      "[[ 0.0000000e+00+0.00000000e+00j -2.0863548e-09-1.41659274e-09j]\n",
      " [-2.0863548e-09+1.41659274e-09j  1.0000000e+00+0.00000000e+00j]]], [Quantum object: dims = [[2], [2]], shape = (2, 2), type = oper, isherm = True\n",
      "Qobj data =\n",
      "[[0.5293236 +0.j         0.42859047-0.25583264j]\n",
      " [0.42859047+0.25583264j 0.4706764 +0.j        ]], Quantum object: dims = [[2], [2]], shape = (2, 2), type = oper, isherm = True\n",
      "Qobj data =\n",
      "[[ 0.00000000e+00+0.0000000e+00j -2.03176844e-09+2.6494305e-09j]\n",
      " [-2.03176844e-09-2.6494305e-09j  1.00000000e+00+0.0000000e+00j]]], [Quantum object: dims = [[2], [2]], shape = (2, 2), type = oper, isherm = True\n",
      "Qobj data =\n",
      "[[ 0.27765225+0.j         -0.44776172+0.00842111j]\n",
      " [-0.44776172-0.00842111j  0.72234775+0.j        ]], Quantum object: dims = [[2], [2]], shape = (2, 2), type = oper, isherm = True\n",
      "Qobj data =\n",
      "[[ 0.00000000e+00+0.0000000e+00j -1.92730641e-09+3.9416091e-09j]\n",
      " [-1.92730641e-09-3.9416091e-09j  1.00000000e+00+0.0000000e+00j]]], [Quantum object: dims = [[2], [2]], shape = (2, 2), type = oper, isherm = True\n",
      "Qobj data =\n",
      "[[ 0.37911716+0.j      -0.02261431+0.48464j]\n",
      " [-0.02261431-0.48464j  0.62088284+0.j     ]], Quantum object: dims = [[2], [2]], shape = (2, 2), type = oper, isherm = True\n",
      "Qobj data =\n",
      "[[0.00000000e+00+0.00000000e+00j 3.72212574e-09+3.36190254e-09j]\n",
      " [3.72212574e-09-3.36190254e-09j 1.00000000e+00+0.00000000e+00j]]], [Quantum object: dims = [[2], [2]], shape = (2, 2), type = oper, isherm = True\n",
      "Qobj data =\n",
      "[[0.41288969+0.j         0.48690489-0.07304398j]\n",
      " [0.48690489+0.07304398j 0.58711031+0.j        ]], Quantum object: dims = [[2], [2]], shape = (2, 2), type = oper, isherm = True\n",
      "Qobj data =\n",
      "[[ 0.00000000e+00+0.00000000e+00j -8.94049903e-11+1.02494796e-09j]\n",
      " [-8.94049903e-11-1.02494796e-09j  1.00000000e+00+0.00000000e+00j]]], [Quantum object: dims = [[2], [2]], shape = (2, 2), type = oper, isherm = True\n",
      "Qobj data =\n",
      "[[0.86902983+0.j         0.32407725+0.09375994j]\n",
      " [0.32407725-0.09375994j 0.13097017+0.j        ]], Quantum object: dims = [[2], [2]], shape = (2, 2), type = oper, isherm = True\n",
      "Qobj data =\n",
      "[[0.00000000e+00+0.00000000e+00j 8.00725412e-10+7.50984903e-09j]\n",
      " [8.00725412e-10-7.50984903e-09j 1.00000000e+00+0.00000000e+00j]]], [Quantum object: dims = [[2], [2]], shape = (2, 2), type = oper, isherm = True\n",
      "Qobj data =\n",
      "[[ 0.84845354+0.j         -0.11713906+0.33890791j]\n",
      " [-0.11713906-0.33890791j  0.15154646+0.j        ]], Quantum object: dims = [[2], [2]], shape = (2, 2), type = oper, isherm = True\n",
      "Qobj data =\n",
      "[[0.00000000e+00+0.00000000e+00j 1.85863371e-09+9.52177691e-09j]\n",
      " [1.85863371e-09-9.52177691e-09j 1.00000000e+00+0.00000000e+00j]]], [Quantum object: dims = [[2], [2]], shape = (2, 2), type = oper, isherm = True\n",
      "Qobj data =\n",
      "[[0.72774327+0.j         0.02049195-0.44464939j]\n",
      " [0.02049195+0.44464939j 0.27225673+0.j        ]], Quantum object: dims = [[2], [2]], shape = (2, 2), type = oper, isherm = True\n",
      "Qobj data =\n",
      "[[ 0.00000000e+00+0.00000000e+00j -5.06831552e-09+6.97831836e-09j]\n",
      " [-5.06831552e-09-6.97831836e-09j  1.00000000e+00+0.00000000e+00j]]], [Quantum object: dims = [[2], [2]], shape = (2, 2), type = oper, isherm = True\n",
      "Qobj data =\n",
      "[[ 0.66999862+0.j         -0.28134369+0.37675748j]\n",
      " [-0.28134369-0.37675748j  0.33000138+0.j        ]], Quantum object: dims = [[2], [2]], shape = (2, 2), type = oper, isherm = True\n",
      "Qobj data =\n",
      "[[0.00000000e+00+0.00000000e+00j 1.83037968e-09+8.14297956e-09j]\n",
      " [1.83037968e-09-8.14297956e-09j 1.00000000e+00+0.00000000e+00j]]], [Quantum object: dims = [[2], [2]], shape = (2, 2), type = oper, isherm = True\n",
      "Qobj data =\n",
      "[[ 0.95711735+0.j         -0.16356184+0.11954604j]\n",
      " [-0.16356184-0.11954604j  0.04288265+0.j        ]], Quantum object: dims = [[2], [2]], shape = (2, 2), type = oper, isherm = True\n",
      "Qobj data =\n",
      "[[ 0.00000000e+00+0.00000000e+00j -3.90431283e-10+1.09747121e-08j]\n",
      " [-3.90431283e-10-1.09747121e-08j  1.00000000e+00+0.00000000e+00j]]], [Quantum object: dims = [[2], [2]], shape = (2, 2), type = oper, isherm = True\n",
      "Qobj data =\n",
      "[[0.05050215+0.j         0.04931078+0.21335447j]\n",
      " [0.04931078-0.21335447j 0.94949785+0.j        ]], Quantum object: dims = [[2], [2]], shape = (2, 2), type = oper, isherm = True\n",
      "Qobj data =\n",
      "[[0.00000000e+00+0.00000000e+00j 1.52858069e-09-1.16481423e-09j]\n",
      " [1.52858069e-09+1.16481423e-09j 1.00000000e+00+0.00000000e+00j]]], [Quantum object: dims = [[2], [2]], shape = (2, 2), type = oper, isherm = True\n",
      "Qobj data =\n",
      "[[0.70291864+0.j         0.21667519-0.40233802j]\n",
      " [0.21667519+0.40233802j 0.29708136+0.j        ]], Quantum object: dims = [[2], [2]], shape = (2, 2), type = oper, isherm = True\n",
      "Qobj data =\n",
      "[[ 0.00000000e+00+0.00000000e+00j -4.09809504e-09+5.74115674e-09j]\n",
      " [-4.09809504e-09-5.74115674e-09j  1.00000000e+00+0.00000000e+00j]]], [Quantum object: dims = [[2], [2]], shape = (2, 2), type = oper, isherm = True\n",
      "Qobj data =\n",
      "[[0.67195014+0.j         0.25218491+0.39602515j]\n",
      " [0.25218491-0.39602515j 0.32804986+0.j        ]], Quantum object: dims = [[2], [2]], shape = (2, 2), type = oper, isherm = True\n",
      "Qobj data =\n",
      "[[0.00000000e+00+0.00000000e+00j 3.53421856e-09+5.58523765e-09j]\n",
      " [3.53421856e-09-5.58523765e-09j 1.00000000e+00+0.00000000e+00j]]], [Quantum object: dims = [[2], [2]], shape = (2, 2), type = oper, isherm = True\n",
      "Qobj data =\n",
      "[[ 0.27076862+0.j         -0.4077847 +0.17653501j]\n",
      " [-0.4077847 -0.17653501j  0.72923138+0.j        ]], Quantum object: dims = [[2], [2]], shape = (2, 2), type = oper, isherm = True\n",
      "Qobj data =\n",
      "[[ 0.00000000e+00+0.00000000e+00j -2.27179598e-10+3.74646752e-09j]\n",
      " [-2.27179598e-10-3.74646752e-09j  1.00000000e+00+0.00000000e+00j]]]]\n"
     ]
    }
   ],
   "source": [
    "network11 = randomNetwork([1,1], 50, [0,0,1], 0.7)\n",
    "plotlist11, unitaries11 = qnnTraining(network11[0], network11[1], network11[2], 1, 0.1, 400)\n",
    "print(howManyWrong2(network11[0], unitaries11, network11[2], 1000))\n",
    "print(measurements(network11[0], unitaries11, network11[2], 1000))\n",
    "print(feedforward(network11[0], unitaries11, network11[2]))\n",
    "\n",
    "network11 = randomNetwork([1,1], 50, [0,0,1], -0.7)\n",
    "plotlist11, unitaries11 = qnnTraining(network11[0], network11[1], network11[2], 1, 0.1, 400)\n",
    "print(howManyWrong2(network11[0], unitaries11, network11[2], 1000))\n",
    "print(measurements(network11[0], unitaries11, network11[2], 1000))\n",
    "print(feedforward(network11[0], unitaries11, network11[2]))"
   ]
  },
  {
   "cell_type": "code",
   "execution_count": null,
   "metadata": {},
   "outputs": [],
   "source": []
  }
 ],
 "metadata": {
  "kernelspec": {
   "display_name": "Python 3",
   "language": "python",
   "name": "python3"
  },
  "language_info": {
   "codemirror_mode": {
    "name": "ipython",
    "version": 3
   },
   "file_extension": ".py",
   "mimetype": "text/x-python",
   "name": "python",
   "nbconvert_exporter": "python",
   "pygments_lexer": "ipython3",
   "version": "3.7.4"
  }
 },
 "nbformat": 4,
 "nbformat_minor": 2
}
